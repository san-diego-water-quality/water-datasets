{
 "cells": [
  {
   "cell_type": "code",
   "execution_count": 1,
   "metadata": {
    "": true,
    "prolog": true
   },
   "outputs": [],
   "source": [
    "#2018-07-30 09:09:48.209664\n",
    "%load_ext metapack.jupyter.magic"
   ]
  },
  {
   "cell_type": "code",
   "execution_count": 2,
   "metadata": {
    "": true,
    "prolog": true
   },
   "outputs": [],
   "source": [
    "CACHE_DIR='/Users/eric/Library/Application Support/metapack/'\n",
    "RESOURCE_NAME='tides_river_rain'\n",
    "RESOLVED_URL='file:///Users/eric/proj/virt-proj/water/water-datasets/sandiegodata.org-water_quality/notebooks/Combine.ipynb#comb'\n",
    "WORKING_DIR='/Users/eric/proj/virt-proj/water/water-datasets/sandiegodata.org-water_quality'\n",
    "METATAB_DOC='metapack+file:///Users/eric/proj/virt-proj/water/water-datasets/sandiegodata.org-water_quality/metadata.csv'\n",
    "METATAB_WORKING_DIR='/Users/eric/proj/virt-proj/water/water-datasets/sandiegodata.org-water_quality'\n",
    "METATAB_PACKAGE='metapack+file:///Users/eric/proj/virt-proj/water/water-datasets/sandiegodata.org-water_quality/'\n",
    "name='tides_river_rain'\n",
    "description='Combined max, min tides, San Diego river flow and daily precipitation'\n",
    "url='notebooks/Combine.ipynb#comb'"
   ]
  },
  {
   "cell_type": "code",
   "execution_count": 3,
   "metadata": {
    "": true,
    "prolog": true
   },
   "outputs": [],
   "source": [
    "METAPACK_BUILDING=True"
   ]
  },
  {
   "cell_type": "code",
   "execution_count": 4,
   "metadata": {},
   "outputs": [],
   "source": [
    "import matplotlib.pyplot as plt \n",
    "import metapack as mp\n",
    "import pandas as pd\n",
    "import numpy as np\n",
    "import seaborn as sns\n",
    "%matplotlib inline\n",
    "\n",
    "from metapack.appurl import SearchUrl \n",
    "SearchUrl.initialize()"
   ]
  },
  {
   "cell_type": "code",
   "execution_count": 5,
   "metadata": {},
   "outputs": [
    {
     "data": {
      "text/html": [
       "<h2>Water Project Datasets</h2>\n",
       "<p><p><em>Combined datasets for the Data Library’s Water Quality Project</em></p>\n",
       "<p><small>sandiegodata.org-water_quality-3 from metapack+file:///Users/eric/proj/virt-proj/water/water-datasets/sandiegodata.org-water_quality/metadata.csv</small></p></p>\n",
       "<p>This package combines three other datasets for use in the water quality data\n",
       "ptoject:</p>\n",
       "<pre><code>* waterservices.usgs.gov-stream_discharge-fashion_valley_sd\n",
       "* tidesandcurrents.noaa.gov-water_levels-la_jolla#water_levels\n",
       "* noaa.gov-localclimate-200808_201807-san#lcd-san\n",
       "</code></pre>\n",
       "<p>The resulting dataset has daily values for rainfall, flow rate for the San\n",
       "Diego river, and the max and min tide level at La Jolla.</p>\n",
       "<p>See the <a href=\"https://github.com/san-diego-water-quality/water-datasets/blob/master/\n",
       "sandiegodata.org-water_quality/notebooks/eda-tides_river_rain.ipynb\">EDA\n",
       "Notebook</a> for\n",
       "details of the structure of the data, in particular, the time coverate in the\n",
       "Nulls section.</p>\n",
       "<h3>Documentation</h3>\n",
       "<ul>\n",
       "<li><strong><a href=\"http://tinyurl.com/ydysjhfm\">EDA Notebook</a></strong> Exploratory Data Analysis and characterization</li>\n",
       "</ul>\n",
       "<h3>Contacts</h3>\n",
       "<p><strong>Wrangler:</strong> <a href=\"mailto:eric@civicknowledge.com\">Eric Busboom</a> <a href=\"http://civicknowledge.com\">Civic Knowledge</a></p>\n",
       "<h3>Resources</h3>\n",
       "<p><ol>\n",
       "<li><p><strong>tides_river_rain</strong> - <a target=\"_blank\" href=\"file:///Users/eric/proj/virt-proj/water/water-datasets/sandiegodata.org-water_quality/notebooks/Combine.ipynb#comb\">file:///Users/eric/proj/virt-proj/water/water-datasets/sandiegodata.org-water_quality/notebooks/Combine.ipynb#comb</a> Combined max, min tides, San Diego river flow and daily precipitation</p></li></p>\n",
       "</ol>\n",
       "\n",
       "<h3>References</h3>\n",
       "<p><ol>\n",
       "<li><p><strong>sd_river_discharge</strong> - <a target=\"_blank\" href=\"file:///Users/eric/proj/virt-proj/water/water-datasets/waterservices.usgs.gov-stream_discharge-fashion_valley_sd/_packages/waterservices.usgs.gov-stream_discharge-fashion_valley_sd-2/data/fashion_valley.csv\">file:///Users/eric/proj/virt-proj/water/water-datasets/waterservices.usgs.gov-stream_discharge-fashion_valley_sd/_packages/waterservices.usgs.gov-stream_discharge-fashion_valley_sd-2/data/fashion_valley.csv</a> Stream discharge rates for the San Diego River, Fashion Valley Station.</p></li>\n",
       "<li><p><strong>la_jolla_tide</strong> - <a target=\"_blank\" href=\"file:///Users/eric/proj/virt-proj/water/water-datasets/tidesandcurrents.noaa.gov-water_levels-la_jolla/_packages/tidesandcurrents.noaa.gov-water_levels-la_jolla-1/data/water_levels.csv\">file:///Users/eric/proj/virt-proj/water/water-datasets/tidesandcurrents.noaa.gov-water_levels-la_jolla/_packages/tidesandcurrents.noaa.gov-water_levels-la_jolla-1/data/water_levels.csv</a> High and Low Ocean water levels for the La Jolla station.</p></li>\n",
       "<li><p><strong>local_climate</strong> - <a target=\"_blank\" href=\"file:///Users/eric/proj/virt-proj/water/water-datasets/noaa.gov-localclimate-200808_201807-san/_packages/noaa.gov-localclimate-200808_201807-san-4/data/lcd-san.csv\">file:///Users/eric/proj/virt-proj/water/water-datasets/noaa.gov-localclimate-200808_201807-san/_packages/noaa.gov-localclimate-200808_201807-san-4/data/lcd-san.csv</a> Local climate data for San Diego</p></li></p>\n",
       "</ol>"
      ],
      "text/plain": [
       "<metapack.doc.MetapackDoc at 0x11883a828>"
      ]
     },
     "execution_count": 5,
     "metadata": {},
     "output_type": "execute_result"
    }
   ],
   "source": [
    "pkg = mp.jupyter.open_source_package()\n",
    "pkg"
   ]
  },
  {
   "cell_type": "code",
   "execution_count": 6,
   "metadata": {},
   "outputs": [
    {
     "data": {
      "text/html": [
       "<h3><a name=\"resource-water_levels\"></a>water_levels</h3><p><a target=\"_blank\" href=\"file:///Users/eric/proj/virt-proj/water/water-datasets/tidesandcurrents.noaa.gov-water_levels-la_jolla/_packages/tidesandcurrents.noaa.gov-water_levels-la_jolla-1/data/water_levels.csv\">file:///Users/eric/proj/virt-proj/water/water-datasets/tidesandcurrents.noaa.gov-water_levels-la_jolla/_packages/tidesandcurrents.noaa.gov-water_levels-la_jolla-1/data/water_levels.csv</a></p><table>\n",
       "<tr><th>Header</th><th>Type</th><th>Description</th></tr><tr><td>date_time</td><td>datetime</td><td></td></tr> \n",
       "<tr><td>water_level</td><td>number</td><td>Water level, relative to datum, in feet</td></tr> \n",
       "<tr><td>type</td><td>string</td><td>HH Daily high, H High, LL Daily Low, L Low</td></tr> \n",
       "<tr><td>I</td><td>integer</td><td></td></tr> \n",
       "<tr><td>L</td><td>integer</td><td></td></tr> </table>"
      ],
      "text/plain": [
       "<Reference: metadata.csv 24:1 root.reference index:tidesandcurrents.noaa.gov-water_levels-la_jolla#water_levels ['la_jolla_tide', 'High and Low Ocean water levels for the La Jolla station.', '']>"
      ]
     },
     "execution_count": 6,
     "metadata": {},
     "output_type": "execute_result"
    }
   ],
   "source": [
    "r =  pkg.reference('la_jolla_tide')\n",
    "r"
   ]
  },
  {
   "cell_type": "code",
   "execution_count": 7,
   "metadata": {},
   "outputs": [
    {
     "data": {
      "text/html": [
       "<div>\n",
       "<style scoped>\n",
       "    .dataframe tbody tr th:only-of-type {\n",
       "        vertical-align: middle;\n",
       "    }\n",
       "\n",
       "    .dataframe tbody tr th {\n",
       "        vertical-align: top;\n",
       "    }\n",
       "\n",
       "    .dataframe thead th {\n",
       "        text-align: right;\n",
       "    }\n",
       "</style>\n",
       "<table border=\"1\" class=\"dataframe\">\n",
       "  <thead>\n",
       "    <tr style=\"text-align: right;\">\n",
       "      <th></th>\n",
       "      <th>wl_max</th>\n",
       "      <th>wl_min</th>\n",
       "    </tr>\n",
       "    <tr>\n",
       "      <th>date_time</th>\n",
       "      <th></th>\n",
       "      <th></th>\n",
       "    </tr>\n",
       "  </thead>\n",
       "  <tbody>\n",
       "    <tr>\n",
       "      <th>2000-01-01</th>\n",
       "      <td>5.043</td>\n",
       "      <td>1.546</td>\n",
       "    </tr>\n",
       "    <tr>\n",
       "      <th>2000-01-02</th>\n",
       "      <td>4.974</td>\n",
       "      <td>1.644</td>\n",
       "    </tr>\n",
       "    <tr>\n",
       "      <th>2000-01-03</th>\n",
       "      <td>5.234</td>\n",
       "      <td>1.651</td>\n",
       "    </tr>\n",
       "    <tr>\n",
       "      <th>2000-01-04</th>\n",
       "      <td>5.270</td>\n",
       "      <td>1.549</td>\n",
       "    </tr>\n",
       "    <tr>\n",
       "      <th>2000-01-05</th>\n",
       "      <td>5.617</td>\n",
       "      <td>1.792</td>\n",
       "    </tr>\n",
       "  </tbody>\n",
       "</table>\n",
       "</div>"
      ],
      "text/plain": [
       "            wl_max  wl_min\n",
       "date_time                 \n",
       "2000-01-01   5.043   1.546\n",
       "2000-01-02   4.974   1.644\n",
       "2000-01-03   5.234   1.651\n",
       "2000-01-04   5.270   1.549\n",
       "2000-01-05   5.617   1.792"
      ]
     },
     "execution_count": 7,
     "metadata": {},
     "output_type": "execute_result"
    }
   ],
   "source": [
    "water_levels = r.read_csv(parse_dates=True)\n",
    "wl_by_day = water_levels.set_index(['date_time','type']).water_level.unstack(1).resample('1d').max()\n",
    "wl_by_day.columns = ['wl_high_1', 'wl_high_2', 'wl_low_1','wl_low_2']\n",
    "wl_by_day['wl_max'] = np.maximum(wl_by_day.wl_high_1, wl_by_day.wl_high_2 )\n",
    "wl_by_day['wl_min'] = np.maximum(wl_by_day.wl_low_1, wl_by_day.wl_low_2 )\n",
    "wl_by_day = wl_by_day[['wl_max','wl_min']]\n",
    "wl_by_day.head()"
   ]
  },
  {
   "cell_type": "code",
   "execution_count": 8,
   "metadata": {},
   "outputs": [
    {
     "data": {
      "text/html": [
       "<div>\n",
       "<style scoped>\n",
       "    .dataframe tbody tr th:only-of-type {\n",
       "        vertical-align: middle;\n",
       "    }\n",
       "\n",
       "    .dataframe tbody tr th {\n",
       "        vertical-align: top;\n",
       "    }\n",
       "\n",
       "    .dataframe thead th {\n",
       "        text-align: right;\n",
       "    }\n",
       "</style>\n",
       "<table border=\"1\" class=\"dataframe\">\n",
       "  <thead>\n",
       "    <tr style=\"text-align: right;\">\n",
       "      <th></th>\n",
       "      <th>discharge_rate</th>\n",
       "    </tr>\n",
       "    <tr>\n",
       "      <th>datetime</th>\n",
       "      <th></th>\n",
       "    </tr>\n",
       "  </thead>\n",
       "  <tbody>\n",
       "    <tr>\n",
       "      <th>1988-01-01</th>\n",
       "      <td>22.0</td>\n",
       "    </tr>\n",
       "    <tr>\n",
       "      <th>1988-01-02</th>\n",
       "      <td>20.0</td>\n",
       "    </tr>\n",
       "    <tr>\n",
       "      <th>1988-01-03</th>\n",
       "      <td>18.0</td>\n",
       "    </tr>\n",
       "    <tr>\n",
       "      <th>1988-01-04</th>\n",
       "      <td>18.0</td>\n",
       "    </tr>\n",
       "    <tr>\n",
       "      <th>1988-01-05</th>\n",
       "      <td>21.0</td>\n",
       "    </tr>\n",
       "  </tbody>\n",
       "</table>\n",
       "</div>"
      ],
      "text/plain": [
       "            discharge_rate\n",
       "datetime                  \n",
       "1988-01-01            22.0\n",
       "1988-01-02            20.0\n",
       "1988-01-03            18.0\n",
       "1988-01-04            18.0\n",
       "1988-01-05            21.0"
      ]
     },
     "execution_count": 8,
     "metadata": {},
     "output_type": "execute_result"
    }
   ],
   "source": [
    "dist = pkg.reference('sd_river_discharge').read_csv(parse_dates=True).set_index('datetime').resample('1d').mean()\n",
    "dist = dist[['discharge_rate']].copy()\n",
    "dist.head()"
   ]
  },
  {
   "cell_type": "code",
   "execution_count": 9,
   "metadata": {},
   "outputs": [],
   "source": [
    "usecols = ['date', 'reporttpye', 'dailyprecip', 'hourlyprecip']\n",
    "lcd = pkg.reference('local_climate').read_csv(parse_dates=True, usecols=usecols) #.set_index('datetime').resample('1d').mean()\n",
    "\n",
    "lcd.rename(columns={'reporttpye': 'reporttype'}, inplace=True)\n",
    "lcd = lcd[lcd.reporttype=='FM-15'].copy()\n",
    "lcd.fillna(0, inplace=True)\n",
    "lcd['date'] = lcd.date.dt.date\n",
    "lcd = lcd.groupby('date').dailyprecip.max()\n"
   ]
  },
  {
   "cell_type": "code",
   "execution_count": 10,
   "metadata": {},
   "outputs": [
    {
     "data": {
      "text/html": [
       "<div>\n",
       "<style scoped>\n",
       "    .dataframe tbody tr th:only-of-type {\n",
       "        vertical-align: middle;\n",
       "    }\n",
       "\n",
       "    .dataframe tbody tr th {\n",
       "        vertical-align: top;\n",
       "    }\n",
       "\n",
       "    .dataframe thead th {\n",
       "        text-align: right;\n",
       "    }\n",
       "</style>\n",
       "<table border=\"1\" class=\"dataframe\">\n",
       "  <thead>\n",
       "    <tr style=\"text-align: right;\">\n",
       "      <th></th>\n",
       "      <th>discharge_rate</th>\n",
       "      <th>dailyprecip</th>\n",
       "      <th>wl_max</th>\n",
       "      <th>wl_min</th>\n",
       "    </tr>\n",
       "    <tr>\n",
       "      <th>datetime</th>\n",
       "      <th></th>\n",
       "      <th></th>\n",
       "      <th></th>\n",
       "      <th></th>\n",
       "    </tr>\n",
       "  </thead>\n",
       "  <tbody>\n",
       "    <tr>\n",
       "      <th>1988-01-01</th>\n",
       "      <td>22.0</td>\n",
       "      <td>NaN</td>\n",
       "      <td>NaN</td>\n",
       "      <td>NaN</td>\n",
       "    </tr>\n",
       "    <tr>\n",
       "      <th>1988-01-02</th>\n",
       "      <td>20.0</td>\n",
       "      <td>NaN</td>\n",
       "      <td>NaN</td>\n",
       "      <td>NaN</td>\n",
       "    </tr>\n",
       "    <tr>\n",
       "      <th>1988-01-03</th>\n",
       "      <td>18.0</td>\n",
       "      <td>NaN</td>\n",
       "      <td>NaN</td>\n",
       "      <td>NaN</td>\n",
       "    </tr>\n",
       "    <tr>\n",
       "      <th>1988-01-04</th>\n",
       "      <td>18.0</td>\n",
       "      <td>NaN</td>\n",
       "      <td>NaN</td>\n",
       "      <td>NaN</td>\n",
       "    </tr>\n",
       "    <tr>\n",
       "      <th>1988-01-05</th>\n",
       "      <td>21.0</td>\n",
       "      <td>NaN</td>\n",
       "      <td>NaN</td>\n",
       "      <td>NaN</td>\n",
       "    </tr>\n",
       "  </tbody>\n",
       "</table>\n",
       "</div>"
      ],
      "text/plain": [
       "            discharge_rate  dailyprecip  wl_max  wl_min\n",
       "datetime                                               \n",
       "1988-01-01            22.0          NaN     NaN     NaN\n",
       "1988-01-02            20.0          NaN     NaN     NaN\n",
       "1988-01-03            18.0          NaN     NaN     NaN\n",
       "1988-01-04            18.0          NaN     NaN     NaN\n",
       "1988-01-05            21.0          NaN     NaN     NaN"
      ]
     },
     "execution_count": 10,
     "metadata": {},
     "output_type": "execute_result"
    }
   ],
   "source": [
    "comb = dist.join(lcd).join(wl_by_day)\n",
    "comb.head()"
   ]
  },
  {
   "cell_type": "code",
   "execution_count": 11,
   "metadata": {},
   "outputs": [
    {
     "data": {
      "text/html": [
       "<div>\n",
       "<style scoped>\n",
       "    .dataframe tbody tr th:only-of-type {\n",
       "        vertical-align: middle;\n",
       "    }\n",
       "\n",
       "    .dataframe tbody tr th {\n",
       "        vertical-align: top;\n",
       "    }\n",
       "\n",
       "    .dataframe thead th {\n",
       "        text-align: right;\n",
       "    }\n",
       "</style>\n",
       "<table border=\"1\" class=\"dataframe\">\n",
       "  <thead>\n",
       "    <tr style=\"text-align: right;\">\n",
       "      <th></th>\n",
       "      <th>discharge_rate</th>\n",
       "      <th>dailyprecip</th>\n",
       "      <th>wl_max</th>\n",
       "      <th>wl_min</th>\n",
       "    </tr>\n",
       "  </thead>\n",
       "  <tbody>\n",
       "    <tr>\n",
       "      <th>discharge_rate</th>\n",
       "      <td>1.000000</td>\n",
       "      <td>0.637036</td>\n",
       "      <td>0.045262</td>\n",
       "      <td>-0.001102</td>\n",
       "    </tr>\n",
       "    <tr>\n",
       "      <th>dailyprecip</th>\n",
       "      <td>0.637036</td>\n",
       "      <td>1.000000</td>\n",
       "      <td>0.050992</td>\n",
       "      <td>0.012542</td>\n",
       "    </tr>\n",
       "    <tr>\n",
       "      <th>wl_max</th>\n",
       "      <td>0.045262</td>\n",
       "      <td>0.050992</td>\n",
       "      <td>1.000000</td>\n",
       "      <td>-0.155287</td>\n",
       "    </tr>\n",
       "    <tr>\n",
       "      <th>wl_min</th>\n",
       "      <td>-0.001102</td>\n",
       "      <td>0.012542</td>\n",
       "      <td>-0.155287</td>\n",
       "      <td>1.000000</td>\n",
       "    </tr>\n",
       "  </tbody>\n",
       "</table>\n",
       "</div>"
      ],
      "text/plain": [
       "                discharge_rate  dailyprecip    wl_max    wl_min\n",
       "discharge_rate        1.000000     0.637036  0.045262 -0.001102\n",
       "dailyprecip           0.637036     1.000000  0.050992  0.012542\n",
       "wl_max                0.045262     0.050992  1.000000 -0.155287\n",
       "wl_min               -0.001102     0.012542 -0.155287  1.000000"
      ]
     },
     "execution_count": 11,
     "metadata": {},
     "output_type": "execute_result"
    }
   ],
   "source": [
    "comb.corr()"
   ]
  },
  {
   "cell_type": "code",
   "execution_count": 12,
   "metadata": {},
   "outputs": [],
   "source": []
  },
  {
   "cell_type": "code",
   "execution_count": 12,
   "metadata": {
    "epilog": true,
    "mt_dataframes": true
   },
   "outputs": [
    {
     "name": "stdout",
     "output_type": "stream",
     "text": [
      "{\n",
      "    \"df_name\": \"comb\",\n",
      "    \"path\": \"/Users/eric/Library/Application Support/metapack/_materialized_data/sandiegodata.org-water_quality-3/comb.csv\"\n",
      "}\n"
     ]
    }
   ],
   "source": [
    "%mt_materialize comb '/Users/eric/Library/Application Support/metapack/_materialized_data/sandiegodata.org-water_quality-3' "
   ]
  },
  {
   "cell_type": "code",
   "execution_count": 13,
   "metadata": {
    "epilog": true,
    "mt_materialize": true
   },
   "outputs": [
    {
     "name": "stdout",
     "output_type": "stream",
     "text": [
      "[]\n"
     ]
    }
   ],
   "source": [
    "\n",
    "%mt_materialize_all '/Users/eric/Library/Application Support/metapack/_materialized_data/sandiegodata.org-water_quality-3'\n"
   ]
  },
  {
   "cell_type": "code",
   "execution_count": 14,
   "metadata": {
    "epilog": true,
    "mt_final_metatab": true
   },
   "outputs": [
    {
     "name": "stdout",
     "output_type": "stream",
     "text": [
      "Declare: metatab-latest\n",
      "Section: Resources\n"
     ]
    }
   ],
   "source": [
    "\n",
    "%mt_show_metatab\n",
    "\n"
   ]
  },
  {
   "cell_type": "code",
   "execution_count": 15,
   "metadata": {
    "epilog": true,
    "mt_show_libdirs": true
   },
   "outputs": [
    {
     "name": "stdout",
     "output_type": "stream",
     "text": [
      "[]\n"
     ]
    }
   ],
   "source": [
    "\n",
    "%mt_show_libdirs\n",
    "\n"
   ]
  }
 ],
 "metadata": {
  "kernelspec": {
   "display_name": "Python 3",
   "language": "python",
   "name": "python3"
  },
  "language_info": {
   "codemirror_mode": {
    "name": "ipython",
    "version": 3
   },
   "file_extension": ".py",
   "mimetype": "text/x-python",
   "name": "python",
   "nbconvert_exporter": "python",
   "pygments_lexer": "ipython3",
   "version": "3.6.5"
  }
 },
 "nbformat": 4,
 "nbformat_minor": 2
}
