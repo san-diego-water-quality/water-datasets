{
 "cells": [
  {
   "cell_type": "code",
   "execution_count": 1,
   "metadata": {
    "": true,
    "prolog": true
   },
   "outputs": [],
   "source": [
    "#2018-08-22 08:34:44.026394\n",
    "%load_ext metapack.jupyter.magic"
   ]
  },
  {
   "cell_type": "code",
   "execution_count": 2,
   "metadata": {
    "": true,
    "prolog": true
   },
   "outputs": [],
   "source": [
    "CACHE_DIR='/Users/eric/Library/Application Support/metapack/'\n",
    "RESOURCE_NAME='stations'\n",
    "RESOLVED_URL='file:notebooks/Stations.ipynb#df'\n",
    "WORKING_DIR='/Users/eric/proj/virt-proj/water/water-datasets/derived/sandiegodata.org-station_maps'\n",
    "METATAB_DOC='metapack+file:./metadata.csv'\n",
    "METATAB_WORKING_DIR='/Users/eric/proj/virt-proj/water/water-datasets/derived/sandiegodata.org-station_maps'\n",
    "METATAB_PACKAGE='metapack+file:./'\n",
    "name='stations'\n",
    "description='Combined list of Beachwatch and San Diego Coastkeeper stations'\n",
    "url='file:notebooks/Stations.ipynb#df'"
   ]
  },
  {
   "cell_type": "code",
   "execution_count": 3,
   "metadata": {
    "": true,
    "prolog": true
   },
   "outputs": [],
   "source": [
    "METAPACK_BUILDING=True"
   ]
  },
  {
   "cell_type": "code",
   "execution_count": 4,
   "metadata": {},
   "outputs": [],
   "source": [
    "import matplotlib.pyplot as plt \n",
    "import metapack as mp\n",
    "import pandas as pd\n",
    "import numpy as np\n",
    "import seaborn as sns\n",
    "sns.set(color_codes=True)\n",
    "%matplotlib inline\n",
    "\n",
    "mp.jupyter.init()\n"
   ]
  },
  {
   "cell_type": "code",
   "execution_count": 5,
   "metadata": {},
   "outputs": [
    {
     "data": {
      "text/html": [
       "<h2>Water Quality Monitoring Stations</h2>\n",
       "<p><p><em>Geographic positions for Beachwatch and San Diego Coastkeeper monitoring stations</em></p>\n",
       "<p><small>sandiegodata.org-station_maps-1 from metapack+file:///Users/eric/proj/virt-proj/water/water-datasets/derived/sandiegodata.org-station_maps/metadata.csv</small></p></p>\n",
       "<h3>Documentation</h3>\n",
       "<h3>Contacts</h3>\n",
       "<p><strong>Wrangler:</strong> <a href=\"mailto:eric@civicknowledge.com\">Eric Busboom</a> <a href=\"http://civicknowledge.com\">Civic Knowledge</a></p>\n",
       "<h3>Resources</h3>\n",
       "<p><ol>\n",
       "<li><p><a target=\"_blank\" href=\"file:///Users/eric/proj/virt-proj/water/water-datasets/derived/sandiegodata.org-station_maps/notebooks/Stations.ipynb#df\"><strong>stations</strong></a> Combined list of Beachwatch and San Diego Coastkeeper stations</p></li></p>\n",
       "</ol>\n",
       "\n",
       "<h3>References</h3>\n",
       "<p><ol>\n",
       "<li><p><a target=\"_blank\" href=\"file:///Users/eric/proj/virt-proj/water/water-datasets/source/ceden.waterboards.ca.gov-beachwatch-sandiego/_packages/ceden.waterboards.ca.gov-beachwatch-sandiego-2/data/beachwatch-sd.csv\"><strong>beachwatch</strong></a> </p></li>\n",
       "<li><p><a target=\"_blank\" href=\"file:///Users/eric/proj/virt-proj/water/water-datasets/source/ceden.waterboards.ca.gov-sdck_monitoring/_packages/ceden.waterboards.ca.gov-sdck_monitoring-1/data/sdck_monitoring.csv\"><strong>sdck</strong></a> </p></li></p>\n",
       "</ol>"
      ],
      "text/plain": [
       "<metapack.doc.MetapackDoc at 0x118326ef0>"
      ]
     },
     "execution_count": 5,
     "metadata": {},
     "output_type": "execute_result"
    }
   ],
   "source": [
    "pkg = mp.jupyter.open_source_package()\n",
    "pkg"
   ]
  },
  {
   "cell_type": "code",
   "execution_count": 6,
   "metadata": {},
   "outputs": [],
   "source": [
    "bw = pkg.reference('beachwatch').read_csv()\n",
    "sdck = pkg.reference('sdck').read_csv()"
   ]
  },
  {
   "cell_type": "code",
   "execution_count": 7,
   "metadata": {},
   "outputs": [],
   "source": [
    "bw['stationgroup'] = bw.stationcode.str[:2]\n",
    "sdck['stationgroup'] = sdck.stationcode.str[:3]\n",
    "\n",
    "cols = ['program','parentproject','project','stationname','stationcode',\n",
    "        'targetlatitude','targetlongitude','stationgroup']\n",
    "\n",
    "_1 = pd.concat([bw[cols], sdck[cols] ]).drop_duplicates().reset_index()\n",
    "df = _1[['stationgroup','stationcode','stationname','program','parentproject','project',\n",
    "         'targetlatitude','targetlongitude']]"
   ]
  },
  {
   "cell_type": "code",
   "execution_count": 8,
   "metadata": {},
   "outputs": [
    {
     "data": {
      "text/html": [
       "<div>\n",
       "<style scoped>\n",
       "    .dataframe tbody tr th:only-of-type {\n",
       "        vertical-align: middle;\n",
       "    }\n",
       "\n",
       "    .dataframe tbody tr th {\n",
       "        vertical-align: top;\n",
       "    }\n",
       "\n",
       "    .dataframe thead th {\n",
       "        text-align: right;\n",
       "    }\n",
       "</style>\n",
       "<table border=\"1\" class=\"dataframe\">\n",
       "  <thead>\n",
       "    <tr style=\"text-align: right;\">\n",
       "      <th></th>\n",
       "      <th>stationgroup</th>\n",
       "      <th>stationcode</th>\n",
       "      <th>stationname</th>\n",
       "      <th>program</th>\n",
       "      <th>parentproject</th>\n",
       "      <th>project</th>\n",
       "      <th>targetlatitude</th>\n",
       "      <th>targetlongitude</th>\n",
       "    </tr>\n",
       "  </thead>\n",
       "  <tbody>\n",
       "    <tr>\n",
       "      <th>227</th>\n",
       "      <td>TJN</td>\n",
       "      <td>TJN-040</td>\n",
       "      <td>Saturn Blvd</td>\n",
       "      <td>SDCK Monitoring Program</td>\n",
       "      <td>San Diego Coastkeeper Ambient Monitoring Progran</td>\n",
       "      <td>SDCK Monthly monitoring</td>\n",
       "      <td>32.559319</td>\n",
       "      <td>-117.092842</td>\n",
       "    </tr>\n",
       "    <tr>\n",
       "      <th>228</th>\n",
       "      <td>RSC</td>\n",
       "      <td>RSC-011</td>\n",
       "      <td>Lower Rise Creek beind In-N-Out</td>\n",
       "      <td>SDCK Monitoring Program</td>\n",
       "      <td>San Diego Coastkeeper Ambient Monitoring Progran</td>\n",
       "      <td>SDCK Monthly monitoring</td>\n",
       "      <td>32.810211</td>\n",
       "      <td>-117.219460</td>\n",
       "    </tr>\n",
       "    <tr>\n",
       "      <th>229</th>\n",
       "      <td>SCC</td>\n",
       "      <td>SCC-010</td>\n",
       "      <td>San Clemente Creek at Regents Road</td>\n",
       "      <td>SDCK Monitoring Program</td>\n",
       "      <td>San Diego Coastkeeper Ambient Monitoring Progran</td>\n",
       "      <td>SDCK Monthly monitoring</td>\n",
       "      <td>32.839859</td>\n",
       "      <td>-117.220169</td>\n",
       "    </tr>\n",
       "    <tr>\n",
       "      <th>230</th>\n",
       "      <td>RSC</td>\n",
       "      <td>RSC-012</td>\n",
       "      <td>Upper Rose Creek at Bloch st and Bothe Ave</td>\n",
       "      <td>SDCK Monitoring Program</td>\n",
       "      <td>San Diego Coastkeeper Ambient Monitoring Progran</td>\n",
       "      <td>SDCK Monthly monitoring</td>\n",
       "      <td>32.839600</td>\n",
       "      <td>-117.233963</td>\n",
       "    </tr>\n",
       "    <tr>\n",
       "      <th>231</th>\n",
       "      <td>OTY</td>\n",
       "      <td>OTY-011</td>\n",
       "      <td>Under Trolley Bridge on Hollister st</td>\n",
       "      <td>SDCK Monitoring Program</td>\n",
       "      <td>San Diego Coastkeeper Ambient Monitoring Progran</td>\n",
       "      <td>SDCK Monthly monitoring</td>\n",
       "      <td>32.590038</td>\n",
       "      <td>-117.083977</td>\n",
       "    </tr>\n",
       "  </tbody>\n",
       "</table>\n",
       "</div>"
      ],
      "text/plain": [
       "    stationgroup stationcode                                 stationname  \\\n",
       "227          TJN     TJN-040                                 Saturn Blvd   \n",
       "228          RSC     RSC-011             Lower Rise Creek beind In-N-Out   \n",
       "229          SCC     SCC-010          San Clemente Creek at Regents Road   \n",
       "230          RSC     RSC-012  Upper Rose Creek at Bloch st and Bothe Ave   \n",
       "231          OTY     OTY-011        Under Trolley Bridge on Hollister st   \n",
       "\n",
       "                     program  \\\n",
       "227  SDCK Monitoring Program   \n",
       "228  SDCK Monitoring Program   \n",
       "229  SDCK Monitoring Program   \n",
       "230  SDCK Monitoring Program   \n",
       "231  SDCK Monitoring Program   \n",
       "\n",
       "                                        parentproject  \\\n",
       "227  San Diego Coastkeeper Ambient Monitoring Progran   \n",
       "228  San Diego Coastkeeper Ambient Monitoring Progran   \n",
       "229  San Diego Coastkeeper Ambient Monitoring Progran   \n",
       "230  San Diego Coastkeeper Ambient Monitoring Progran   \n",
       "231  San Diego Coastkeeper Ambient Monitoring Progran   \n",
       "\n",
       "                     project  targetlatitude  targetlongitude  \n",
       "227  SDCK Monthly monitoring       32.559319      -117.092842  \n",
       "228  SDCK Monthly monitoring       32.810211      -117.219460  \n",
       "229  SDCK Monthly monitoring       32.839859      -117.220169  \n",
       "230  SDCK Monthly monitoring       32.839600      -117.233963  \n",
       "231  SDCK Monthly monitoring       32.590038      -117.083977  "
      ]
     },
     "execution_count": 8,
     "metadata": {},
     "output_type": "execute_result"
    }
   ],
   "source": [
    "\n",
    "\n",
    "df.tail()"
   ]
  },
  {
   "cell_type": "code",
   "execution_count": 9,
   "metadata": {},
   "outputs": [],
   "source": []
  },
  {
   "cell_type": "code",
   "execution_count": 9,
   "metadata": {
    "epilog": true,
    "mt_dataframes": true
   },
   "outputs": [
    {
     "name": "stdout",
     "output_type": "stream",
     "text": [
      "{\n",
      "    \"df_name\": \"df\",\n",
      "    \"path\": \"/Users/eric/Library/Application Support/metapack/_materialized_data/sandiegodata.org-station_maps-1/df.csv\"\n",
      "}\n"
     ]
    }
   ],
   "source": [
    "%mt_materialize df '/Users/eric/Library/Application Support/metapack/_materialized_data/sandiegodata.org-station_maps-1' "
   ]
  },
  {
   "cell_type": "code",
   "execution_count": 10,
   "metadata": {
    "epilog": true,
    "mt_materialize": true
   },
   "outputs": [
    {
     "name": "stdout",
     "output_type": "stream",
     "text": [
      "[]\n"
     ]
    }
   ],
   "source": [
    "\n",
    "%mt_materialize_all '/Users/eric/Library/Application Support/metapack/_materialized_data/sandiegodata.org-station_maps-1'\n"
   ]
  },
  {
   "cell_type": "code",
   "execution_count": 11,
   "metadata": {
    "epilog": true,
    "mt_final_metatab": true
   },
   "outputs": [
    {
     "name": "stdout",
     "output_type": "stream",
     "text": [
      "Declare: metatab-latest\n",
      "Section: Resources\n"
     ]
    }
   ],
   "source": [
    "\n",
    "%mt_show_metatab\n",
    "\n"
   ]
  },
  {
   "cell_type": "code",
   "execution_count": 12,
   "metadata": {
    "epilog": true,
    "mt_show_libdirs": true
   },
   "outputs": [
    {
     "name": "stdout",
     "output_type": "stream",
     "text": [
      "[]\n"
     ]
    }
   ],
   "source": [
    "\n",
    "%mt_show_libdirs\n",
    "\n"
   ]
  }
 ],
 "metadata": {
  "kernelspec": {
   "display_name": "Python 3",
   "language": "python",
   "name": "python3"
  },
  "language_info": {
   "codemirror_mode": {
    "name": "ipython",
    "version": 3
   },
   "file_extension": ".py",
   "mimetype": "text/x-python",
   "name": "python",
   "nbconvert_exporter": "python",
   "pygments_lexer": "ipython3",
   "version": "3.6.5"
  }
 },
 "nbformat": 4,
 "nbformat_minor": 2
}
