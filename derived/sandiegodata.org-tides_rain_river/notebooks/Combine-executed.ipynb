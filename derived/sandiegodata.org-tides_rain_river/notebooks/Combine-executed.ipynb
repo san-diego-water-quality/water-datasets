{
 "cells": [
  {
   "cell_type": "code",
   "execution_count": 1,
   "metadata": {
    "": true,
    "prolog": true
   },
   "outputs": [],
   "source": [
    "#2018-08-15 16:42:40.447935\n",
    "%load_ext metapack.jupyter.magic"
   ]
  },
  {
   "cell_type": "code",
   "execution_count": 2,
   "metadata": {
    "": true,
    "prolog": true
   },
   "outputs": [],
   "source": [
    "CACHE_DIR='/Users/eric/Library/Application Support/metapack/'\n",
    "RESOURCE_NAME='tides_river_rain'\n",
    "RESOLVED_URL='file:///Users/eric/proj/virt-proj/water/water-datasets/derived/sandiegodata.org-tides_rain_river/notebooks/Combine.ipynb#comb'\n",
    "WORKING_DIR='/Users/eric/proj/virt-proj/water/water-datasets/derived/sandiegodata.org-tides_rain_river'\n",
    "METATAB_DOC='metapack+file:///Users/eric/proj/virt-proj/water/water-datasets/derived/sandiegodata.org-tides_rain_river/metadata.csv'\n",
    "METATAB_WORKING_DIR='/Users/eric/proj/virt-proj/water/water-datasets/derived/sandiegodata.org-tides_rain_river'\n",
    "METATAB_PACKAGE='metapack+file:///Users/eric/proj/virt-proj/water/water-datasets/derived/sandiegodata.org-tides_rain_river/'\n",
    "name='tides_river_rain'\n",
    "description='Combined max, min tides, San Diego river flow and daily precipitation'\n",
    "url='notebooks/Combine.ipynb#comb'"
   ]
  },
  {
   "cell_type": "code",
   "execution_count": 3,
   "metadata": {
    "": true,
    "prolog": true
   },
   "outputs": [],
   "source": [
    "METAPACK_BUILDING=True"
   ]
  },
  {
   "cell_type": "code",
   "execution_count": 4,
   "metadata": {},
   "outputs": [
    {
     "name": "stdout",
     "output_type": "stream",
     "text": [
      "1.14.5\n"
     ]
    }
   ],
   "source": [
    "import matplotlib.pyplot as plt \n",
    "import metapack as mp\n",
    "import pandas as pd\n",
    "import numpy as np\n",
    "import seaborn as sns\n",
    "%matplotlib inline\n",
    "\n",
    "from metapack.appurl import SearchUrl \n",
    "SearchUrl.initialize()\n",
    "\n",
    "print(np.__version__)\n",
    "\n"
   ]
  },
  {
   "cell_type": "code",
   "execution_count": 5,
   "metadata": {},
   "outputs": [
    {
     "data": {
      "text/html": [
       "<h2>San Diego Tides, Rain and River Flow</h2>\n",
       "<p><p><em>A combined dataset of NOAA weather reports, USGS flow rates for the Sn Diego River and NOAA tide levels for La Jolla.</em></p>\n",
       "<p><small>sandiegodata.org-tides_rain_river-6 from metapack+file:///Users/eric/proj/virt-proj/water/water-datasets/derived/sandiegodata.org-tides_rain_river/metadata.csv</small></p></p>\n",
       "<p>This package combines three other datasets for use in the water quality data\n",
       "ptoject:</p>\n",
       "<pre><code>* waterservices.usgs.gov-stream_discharge-fashion_valley_sd\n",
       "* tidesandcurrents.noaa.gov-water_levels-la_jolla#water_levels\n",
       "* noaa.gov-localclimate-200808_201807-san#lcd-san\n",
       "</code></pre>\n",
       "<p>The resulting dataset has daily values for rainfall, flow rate for the San\n",
       "Diego river, and the max and min tide level at La Jolla.</p>\n",
       "<p>See the <a href=\"https://github.com/san-diego-water-quality/water-datasets/blob/master/derived/sandiegodata.org-tides_rain_river/notebooks/eda-tides_river_rain.ipynb\">EDA\n",
       "Notebook</a> for details of the structure of the data, in particular, the time coverage in the Nulls section.</p>\n",
       "<h1>Versions</h1>\n",
       "<ol>\n",
       "<li>Initial</li>\n",
       "<li>Continued development</li>\n",
       "<li>First release</li>\n",
       "<li>Added rolling averages</li>\n",
       "<li>Changed name</li>\n",
       "</ol>\n",
       "<h3>Documentation</h3>\n",
       "<h3>Contacts</h3>\n",
       "<p><strong>Wrangler:</strong> <a href=\"mailto:eric@civicknowledge.com\">Eric Busboom</a> <a href=\"http://civicknowledge.com\">Civic Knowledge</a></p>\n",
       "<h3>Resources</h3>\n",
       "<p><ol>\n",
       "<li><p><a target=\"_blank\" href=\"file:///Users/eric/proj/virt-proj/water/water-datasets/derived/sandiegodata.org-tides_rain_river/notebooks/Combine.ipynb#comb\"><strong>tides_river_rain</strong></a> Combined max, min tides, San Diego river flow and daily precipitation</p></li></p>\n",
       "</ol>\n",
       "\n",
       "<h3>References</h3>\n",
       "<p><ol>\n",
       "<li><p><a target=\"_blank\" href=\"file:///Users/eric/proj/virt-proj/water/water-datasets/source/waterservices.usgs.gov-stream_discharge-fashion_valley_sd/_packages/waterservices.usgs.gov-stream_discharge-fashion_valley_sd-2/data/fashion_valley.csv\"><strong>sd_river_discharge</strong></a> Stream discharge rates for the San Diego River, Fashion Valley Station.</p></li>\n",
       "<li><p><a target=\"_blank\" href=\"file:///Users/eric/proj/virt-proj/water/water-datasets/source/tidesandcurrents.noaa.gov-water_levels-la_jolla/_packages/tidesandcurrents.noaa.gov-water_levels-la_jolla-1/data/water_levels.csv\"><strong>la_jolla_tide</strong></a> High and Low Ocean water levels for the La Jolla station.</p></li>\n",
       "<li><p><a target=\"_blank\" href=\"file:///Users/eric/proj/virt-proj/water/water-datasets/source/noaa.gov-localclimate-200808_201807-san/_packages/noaa.gov-localclimate-200808_201807-san-4/data/lcd-san.csv\"><strong>local_climate</strong></a> Local climate data for San Diego</p></li></p>\n",
       "</ol>"
      ],
      "text/plain": [
       "<metapack.doc.MetapackDoc at 0x114de70f0>"
      ]
     },
     "execution_count": 5,
     "metadata": {},
     "output_type": "execute_result"
    }
   ],
   "source": [
    "pkg = mp.jupyter.open_source_package()\n",
    "pkg"
   ]
  },
  {
   "cell_type": "code",
   "execution_count": 6,
   "metadata": {},
   "outputs": [
    {
     "data": {
      "text/html": [
       "<h3><a name=\"resource-water_levels\"></a>water_levels</h3><p><a target=\"_blank\" href=\"file:///Users/eric/proj/virt-proj/water/water-datasets/source/tidesandcurrents.noaa.gov-water_levels-la_jolla/_packages/tidesandcurrents.noaa.gov-water_levels-la_jolla-1/data/water_levels.csv\">file:///Users/eric/proj/virt-proj/water/water-datasets/source/tidesandcurrents.noaa.gov-water_levels-la_jolla/_packages/tidesandcurrents.noaa.gov-water_levels-la_jolla-1/data/water_levels.csv</a></p><table>\n",
       "<tr><th>Header</th><th>Type</th><th>Description</th></tr><tr><td>date_time</td><td>datetime</td><td></td></tr> \n",
       "<tr><td>water_level</td><td>number</td><td>Water level, relative to datum, in feet</td></tr> \n",
       "<tr><td>type</td><td>string</td><td>HH Daily high, H High, LL Daily Low, L Low</td></tr> \n",
       "<tr><td>I</td><td>integer</td><td></td></tr> \n",
       "<tr><td>L</td><td>integer</td><td></td></tr> </table>"
      ],
      "text/plain": [
       "<Reference: metadata.csv 28:1 root.reference index:tidesandcurrents.noaa.gov-water_levels-la_jolla#water_levels ['la_jolla_tide', 'High and Low Ocean water levels for the La Jolla station.', '']>"
      ]
     },
     "execution_count": 6,
     "metadata": {},
     "output_type": "execute_result"
    }
   ],
   "source": [
    "r =  pkg.reference('la_jolla_tide')\n",
    "r"
   ]
  },
  {
   "cell_type": "code",
   "execution_count": 7,
   "metadata": {},
   "outputs": [
    {
     "data": {
      "text/html": [
       "<div>\n",
       "<style scoped>\n",
       "    .dataframe tbody tr th:only-of-type {\n",
       "        vertical-align: middle;\n",
       "    }\n",
       "\n",
       "    .dataframe tbody tr th {\n",
       "        vertical-align: top;\n",
       "    }\n",
       "\n",
       "    .dataframe thead th {\n",
       "        text-align: right;\n",
       "    }\n",
       "</style>\n",
       "<table border=\"1\" class=\"dataframe\">\n",
       "  <thead>\n",
       "    <tr style=\"text-align: right;\">\n",
       "      <th></th>\n",
       "      <th>wl_max</th>\n",
       "      <th>wl_min</th>\n",
       "    </tr>\n",
       "    <tr>\n",
       "      <th>date_time</th>\n",
       "      <th></th>\n",
       "      <th></th>\n",
       "    </tr>\n",
       "  </thead>\n",
       "  <tbody>\n",
       "    <tr>\n",
       "      <th>2000-01-01</th>\n",
       "      <td>5.043</td>\n",
       "      <td>1.546</td>\n",
       "    </tr>\n",
       "    <tr>\n",
       "      <th>2000-01-02</th>\n",
       "      <td>4.974</td>\n",
       "      <td>1.644</td>\n",
       "    </tr>\n",
       "    <tr>\n",
       "      <th>2000-01-03</th>\n",
       "      <td>5.234</td>\n",
       "      <td>1.651</td>\n",
       "    </tr>\n",
       "    <tr>\n",
       "      <th>2000-01-04</th>\n",
       "      <td>5.270</td>\n",
       "      <td>1.549</td>\n",
       "    </tr>\n",
       "    <tr>\n",
       "      <th>2000-01-05</th>\n",
       "      <td>5.617</td>\n",
       "      <td>1.792</td>\n",
       "    </tr>\n",
       "  </tbody>\n",
       "</table>\n",
       "</div>"
      ],
      "text/plain": [
       "            wl_max  wl_min\n",
       "date_time                 \n",
       "2000-01-01   5.043   1.546\n",
       "2000-01-02   4.974   1.644\n",
       "2000-01-03   5.234   1.651\n",
       "2000-01-04   5.270   1.549\n",
       "2000-01-05   5.617   1.792"
      ]
     },
     "execution_count": 7,
     "metadata": {},
     "output_type": "execute_result"
    }
   ],
   "source": [
    "water_levels = r.read_csv(parse_dates=True)\n",
    "wl_by_day = water_levels.set_index(['date_time','type']).water_level.unstack(1).resample('1d').max()\n",
    "wl_by_day.columns = ['wl_high_1', 'wl_high_2', 'wl_low_1','wl_low_2']\n",
    "wl_by_day['wl_max'] = np.maximum(wl_by_day.wl_high_1, wl_by_day.wl_high_2 )\n",
    "wl_by_day['wl_min'] = np.maximum(wl_by_day.wl_low_1, wl_by_day.wl_low_2 )\n",
    "wl_by_day = wl_by_day[['wl_max','wl_min']]\n",
    "wl_by_day.head()"
   ]
  },
  {
   "cell_type": "code",
   "execution_count": 8,
   "metadata": {},
   "outputs": [
    {
     "data": {
      "text/html": [
       "<div>\n",
       "<style scoped>\n",
       "    .dataframe tbody tr th:only-of-type {\n",
       "        vertical-align: middle;\n",
       "    }\n",
       "\n",
       "    .dataframe tbody tr th {\n",
       "        vertical-align: top;\n",
       "    }\n",
       "\n",
       "    .dataframe thead th {\n",
       "        text-align: right;\n",
       "    }\n",
       "</style>\n",
       "<table border=\"1\" class=\"dataframe\">\n",
       "  <thead>\n",
       "    <tr style=\"text-align: right;\">\n",
       "      <th></th>\n",
       "      <th>discharge_rate</th>\n",
       "    </tr>\n",
       "    <tr>\n",
       "      <th>datetime</th>\n",
       "      <th></th>\n",
       "    </tr>\n",
       "  </thead>\n",
       "  <tbody>\n",
       "    <tr>\n",
       "      <th>1988-01-01</th>\n",
       "      <td>22.0</td>\n",
       "    </tr>\n",
       "    <tr>\n",
       "      <th>1988-01-02</th>\n",
       "      <td>20.0</td>\n",
       "    </tr>\n",
       "    <tr>\n",
       "      <th>1988-01-03</th>\n",
       "      <td>18.0</td>\n",
       "    </tr>\n",
       "    <tr>\n",
       "      <th>1988-01-04</th>\n",
       "      <td>18.0</td>\n",
       "    </tr>\n",
       "    <tr>\n",
       "      <th>1988-01-05</th>\n",
       "      <td>21.0</td>\n",
       "    </tr>\n",
       "  </tbody>\n",
       "</table>\n",
       "</div>"
      ],
      "text/plain": [
       "            discharge_rate\n",
       "datetime                  \n",
       "1988-01-01            22.0\n",
       "1988-01-02            20.0\n",
       "1988-01-03            18.0\n",
       "1988-01-04            18.0\n",
       "1988-01-05            21.0"
      ]
     },
     "execution_count": 8,
     "metadata": {},
     "output_type": "execute_result"
    }
   ],
   "source": [
    "dist = pkg.reference('sd_river_discharge').read_csv(parse_dates=True).set_index('datetime').resample('1d').mean()\n",
    "dist = dist[['discharge_rate']].copy()\n",
    "dist.head()"
   ]
  },
  {
   "cell_type": "code",
   "execution_count": 9,
   "metadata": {},
   "outputs": [],
   "source": [
    "usecols = ['date', 'reporttpye', 'dailyprecip', 'hourlyprecip']\n",
    "lcd = pkg.reference('local_climate').read_csv(parse_dates=True, usecols=usecols) #.set_index('datetime').resample('1d').mean()\n",
    "\n",
    "lcd.rename(columns={'reporttpye': 'reporttype'}, inplace=True)\n",
    "lcd = lcd[lcd.reporttype=='FM-15'].copy()\n",
    "lcd.fillna(0, inplace=True)\n",
    "lcd['date'] = lcd.date.dt.date\n",
    "lcd = lcd.groupby('date').dailyprecip.max()\n"
   ]
  },
  {
   "cell_type": "code",
   "execution_count": 10,
   "metadata": {},
   "outputs": [
    {
     "data": {
      "text/html": [
       "<div>\n",
       "<style scoped>\n",
       "    .dataframe tbody tr th:only-of-type {\n",
       "        vertical-align: middle;\n",
       "    }\n",
       "\n",
       "    .dataframe tbody tr th {\n",
       "        vertical-align: top;\n",
       "    }\n",
       "\n",
       "    .dataframe thead th {\n",
       "        text-align: right;\n",
       "    }\n",
       "</style>\n",
       "<table border=\"1\" class=\"dataframe\">\n",
       "  <thead>\n",
       "    <tr style=\"text-align: right;\">\n",
       "      <th></th>\n",
       "      <th>discharge_rate</th>\n",
       "      <th>dailyprecip</th>\n",
       "      <th>wl_max</th>\n",
       "      <th>wl_min</th>\n",
       "    </tr>\n",
       "    <tr>\n",
       "      <th>datetime</th>\n",
       "      <th></th>\n",
       "      <th></th>\n",
       "      <th></th>\n",
       "      <th></th>\n",
       "    </tr>\n",
       "  </thead>\n",
       "  <tbody>\n",
       "    <tr>\n",
       "      <th>1988-01-01</th>\n",
       "      <td>22.0</td>\n",
       "      <td>NaN</td>\n",
       "      <td>NaN</td>\n",
       "      <td>NaN</td>\n",
       "    </tr>\n",
       "    <tr>\n",
       "      <th>1988-01-02</th>\n",
       "      <td>20.0</td>\n",
       "      <td>NaN</td>\n",
       "      <td>NaN</td>\n",
       "      <td>NaN</td>\n",
       "    </tr>\n",
       "    <tr>\n",
       "      <th>1988-01-03</th>\n",
       "      <td>18.0</td>\n",
       "      <td>NaN</td>\n",
       "      <td>NaN</td>\n",
       "      <td>NaN</td>\n",
       "    </tr>\n",
       "    <tr>\n",
       "      <th>1988-01-04</th>\n",
       "      <td>18.0</td>\n",
       "      <td>NaN</td>\n",
       "      <td>NaN</td>\n",
       "      <td>NaN</td>\n",
       "    </tr>\n",
       "    <tr>\n",
       "      <th>1988-01-05</th>\n",
       "      <td>21.0</td>\n",
       "      <td>NaN</td>\n",
       "      <td>NaN</td>\n",
       "      <td>NaN</td>\n",
       "    </tr>\n",
       "  </tbody>\n",
       "</table>\n",
       "</div>"
      ],
      "text/plain": [
       "            discharge_rate  dailyprecip  wl_max  wl_min\n",
       "datetime                                               \n",
       "1988-01-01            22.0          NaN     NaN     NaN\n",
       "1988-01-02            20.0          NaN     NaN     NaN\n",
       "1988-01-03            18.0          NaN     NaN     NaN\n",
       "1988-01-04            18.0          NaN     NaN     NaN\n",
       "1988-01-05            21.0          NaN     NaN     NaN"
      ]
     },
     "execution_count": 10,
     "metadata": {},
     "output_type": "execute_result"
    }
   ],
   "source": [
    "comb = dist.join(lcd).join(wl_by_day)\n",
    "comb.head()"
   ]
  },
  {
   "cell_type": "code",
   "execution_count": 11,
   "metadata": {},
   "outputs": [
    {
     "data": {
      "text/html": [
       "<div>\n",
       "<style scoped>\n",
       "    .dataframe tbody tr th:only-of-type {\n",
       "        vertical-align: middle;\n",
       "    }\n",
       "\n",
       "    .dataframe tbody tr th {\n",
       "        vertical-align: top;\n",
       "    }\n",
       "\n",
       "    .dataframe thead th {\n",
       "        text-align: right;\n",
       "    }\n",
       "</style>\n",
       "<table border=\"1\" class=\"dataframe\">\n",
       "  <thead>\n",
       "    <tr style=\"text-align: right;\">\n",
       "      <th></th>\n",
       "      <th>discharge_rate</th>\n",
       "      <th>dailyprecip</th>\n",
       "      <th>wl_max</th>\n",
       "      <th>wl_min</th>\n",
       "    </tr>\n",
       "  </thead>\n",
       "  <tbody>\n",
       "    <tr>\n",
       "      <th>discharge_rate</th>\n",
       "      <td>1.000000</td>\n",
       "      <td>0.637036</td>\n",
       "      <td>0.045262</td>\n",
       "      <td>-0.001102</td>\n",
       "    </tr>\n",
       "    <tr>\n",
       "      <th>dailyprecip</th>\n",
       "      <td>0.637036</td>\n",
       "      <td>1.000000</td>\n",
       "      <td>0.050992</td>\n",
       "      <td>0.012542</td>\n",
       "    </tr>\n",
       "    <tr>\n",
       "      <th>wl_max</th>\n",
       "      <td>0.045262</td>\n",
       "      <td>0.050992</td>\n",
       "      <td>1.000000</td>\n",
       "      <td>-0.155287</td>\n",
       "    </tr>\n",
       "    <tr>\n",
       "      <th>wl_min</th>\n",
       "      <td>-0.001102</td>\n",
       "      <td>0.012542</td>\n",
       "      <td>-0.155287</td>\n",
       "      <td>1.000000</td>\n",
       "    </tr>\n",
       "  </tbody>\n",
       "</table>\n",
       "</div>"
      ],
      "text/plain": [
       "                discharge_rate  dailyprecip    wl_max    wl_min\n",
       "discharge_rate        1.000000     0.637036  0.045262 -0.001102\n",
       "dailyprecip           0.637036     1.000000  0.050992  0.012542\n",
       "wl_max                0.045262     0.050992  1.000000 -0.155287\n",
       "wl_min               -0.001102     0.012542 -0.155287  1.000000"
      ]
     },
     "execution_count": 11,
     "metadata": {},
     "output_type": "execute_result"
    }
   ],
   "source": [
    "comb.corr()"
   ]
  },
  {
   "cell_type": "code",
   "execution_count": 12,
   "metadata": {},
   "outputs": [
    {
     "data": {
      "text/html": [
       "<div>\n",
       "<style scoped>\n",
       "    .dataframe tbody tr th:only-of-type {\n",
       "        vertical-align: middle;\n",
       "    }\n",
       "\n",
       "    .dataframe tbody tr th {\n",
       "        vertical-align: top;\n",
       "    }\n",
       "\n",
       "    .dataframe thead th {\n",
       "        text-align: right;\n",
       "    }\n",
       "</style>\n",
       "<table border=\"1\" class=\"dataframe\">\n",
       "  <thead>\n",
       "    <tr style=\"text-align: right;\">\n",
       "      <th></th>\n",
       "      <th>discharge_rate</th>\n",
       "      <th>dailyprecip</th>\n",
       "      <th>wl_max</th>\n",
       "      <th>wl_min</th>\n",
       "      <th>recent_precip</th>\n",
       "      <th>recent_total_discharge</th>\n",
       "      <th>recent_max_discharge</th>\n",
       "    </tr>\n",
       "    <tr>\n",
       "      <th>datetime</th>\n",
       "      <th></th>\n",
       "      <th></th>\n",
       "      <th></th>\n",
       "      <th></th>\n",
       "      <th></th>\n",
       "      <th></th>\n",
       "      <th></th>\n",
       "    </tr>\n",
       "  </thead>\n",
       "  <tbody>\n",
       "    <tr>\n",
       "      <th>2008-10-05</th>\n",
       "      <td>2.46</td>\n",
       "      <td>0.18</td>\n",
       "      <td>NaN</td>\n",
       "      <td>NaN</td>\n",
       "      <td>0.18</td>\n",
       "      <td>5.20</td>\n",
       "      <td>5.20</td>\n",
       "    </tr>\n",
       "    <tr>\n",
       "      <th>2008-10-06</th>\n",
       "      <td>2.78</td>\n",
       "      <td>0.00</td>\n",
       "      <td>NaN</td>\n",
       "      <td>NaN</td>\n",
       "      <td>0.18</td>\n",
       "      <td>6.70</td>\n",
       "      <td>6.70</td>\n",
       "    </tr>\n",
       "    <tr>\n",
       "      <th>2008-10-07</th>\n",
       "      <td>2.01</td>\n",
       "      <td>0.00</td>\n",
       "      <td>NaN</td>\n",
       "      <td>NaN</td>\n",
       "      <td>0.18</td>\n",
       "      <td>7.25</td>\n",
       "      <td>7.25</td>\n",
       "    </tr>\n",
       "    <tr>\n",
       "      <th>2008-11-05</th>\n",
       "      <td>16.00</td>\n",
       "      <td>0.14</td>\n",
       "      <td>4.036</td>\n",
       "      <td>3.268</td>\n",
       "      <td>0.14</td>\n",
       "      <td>32.97</td>\n",
       "      <td>32.97</td>\n",
       "    </tr>\n",
       "    <tr>\n",
       "      <th>2008-11-06</th>\n",
       "      <td>4.74</td>\n",
       "      <td>0.00</td>\n",
       "      <td>3.810</td>\n",
       "      <td>3.154</td>\n",
       "      <td>0.14</td>\n",
       "      <td>36.64</td>\n",
       "      <td>36.64</td>\n",
       "    </tr>\n",
       "    <tr>\n",
       "      <th>2008-11-07</th>\n",
       "      <td>2.75</td>\n",
       "      <td>0.00</td>\n",
       "      <td>NaN</td>\n",
       "      <td>2.606</td>\n",
       "      <td>0.14</td>\n",
       "      <td>23.49</td>\n",
       "      <td>36.64</td>\n",
       "    </tr>\n",
       "    <tr>\n",
       "      <th>2008-11-26</th>\n",
       "      <td>231.00</td>\n",
       "      <td>0.99</td>\n",
       "      <td>6.192</td>\n",
       "      <td>2.350</td>\n",
       "      <td>0.99</td>\n",
       "      <td>233.79</td>\n",
       "      <td>233.79</td>\n",
       "    </tr>\n",
       "    <tr>\n",
       "      <th>2008-11-27</th>\n",
       "      <td>270.00</td>\n",
       "      <td>0.10</td>\n",
       "      <td>6.290</td>\n",
       "      <td>2.573</td>\n",
       "      <td>1.09</td>\n",
       "      <td>502.44</td>\n",
       "      <td>502.44</td>\n",
       "    </tr>\n",
       "    <tr>\n",
       "      <th>2008-11-28</th>\n",
       "      <td>247.00</td>\n",
       "      <td>1.26</td>\n",
       "      <td>5.952</td>\n",
       "      <td>2.438</td>\n",
       "      <td>2.35</td>\n",
       "      <td>748.00</td>\n",
       "      <td>748.00</td>\n",
       "    </tr>\n",
       "    <tr>\n",
       "      <th>2008-11-29</th>\n",
       "      <td>75.60</td>\n",
       "      <td>0.00</td>\n",
       "      <td>5.955</td>\n",
       "      <td>NaN</td>\n",
       "      <td>1.36</td>\n",
       "      <td>592.60</td>\n",
       "      <td>748.00</td>\n",
       "    </tr>\n",
       "    <tr>\n",
       "      <th>2008-11-30</th>\n",
       "      <td>33.10</td>\n",
       "      <td>0.00</td>\n",
       "      <td>5.713</td>\n",
       "      <td>2.570</td>\n",
       "      <td>1.26</td>\n",
       "      <td>355.70</td>\n",
       "      <td>748.00</td>\n",
       "    </tr>\n",
       "    <tr>\n",
       "      <th>2008-12-14</th>\n",
       "      <td>7.07</td>\n",
       "      <td>0.01</td>\n",
       "      <td>6.861</td>\n",
       "      <td>1.999</td>\n",
       "      <td>0.01</td>\n",
       "      <td>21.30</td>\n",
       "      <td>21.80</td>\n",
       "    </tr>\n",
       "    <tr>\n",
       "      <th>2008-12-15</th>\n",
       "      <td>385.00</td>\n",
       "      <td>0.04</td>\n",
       "      <td>6.566</td>\n",
       "      <td>2.202</td>\n",
       "      <td>0.05</td>\n",
       "      <td>399.14</td>\n",
       "      <td>399.14</td>\n",
       "    </tr>\n",
       "    <tr>\n",
       "      <th>2008-12-16</th>\n",
       "      <td>551.00</td>\n",
       "      <td>1.02</td>\n",
       "      <td>5.801</td>\n",
       "      <td>2.428</td>\n",
       "      <td>1.07</td>\n",
       "      <td>943.07</td>\n",
       "      <td>943.07</td>\n",
       "    </tr>\n",
       "    <tr>\n",
       "      <th>2008-12-17</th>\n",
       "      <td>979.00</td>\n",
       "      <td>0.14</td>\n",
       "      <td>5.345</td>\n",
       "      <td>2.783</td>\n",
       "      <td>1.20</td>\n",
       "      <td>1915.00</td>\n",
       "      <td>1915.00</td>\n",
       "    </tr>\n",
       "    <tr>\n",
       "      <th>2008-12-18</th>\n",
       "      <td>894.00</td>\n",
       "      <td>1.49</td>\n",
       "      <td>NaN</td>\n",
       "      <td>2.363</td>\n",
       "      <td>2.65</td>\n",
       "      <td>2424.00</td>\n",
       "      <td>2424.00</td>\n",
       "    </tr>\n",
       "    <tr>\n",
       "      <th>2008-12-19</th>\n",
       "      <td>187.00</td>\n",
       "      <td>0.00</td>\n",
       "      <td>4.725</td>\n",
       "      <td>1.969</td>\n",
       "      <td>1.63</td>\n",
       "      <td>2060.00</td>\n",
       "      <td>2424.00</td>\n",
       "    </tr>\n",
       "    <tr>\n",
       "      <th>2008-12-20</th>\n",
       "      <td>113.00</td>\n",
       "      <td>0.00</td>\n",
       "      <td>NaN</td>\n",
       "      <td>NaN</td>\n",
       "      <td>1.49</td>\n",
       "      <td>1194.00</td>\n",
       "      <td>2424.00</td>\n",
       "    </tr>\n",
       "    <tr>\n",
       "      <th>2008-12-23</th>\n",
       "      <td>189.00</td>\n",
       "      <td>0.39</td>\n",
       "      <td>5.631</td>\n",
       "      <td>2.346</td>\n",
       "      <td>0.39</td>\n",
       "      <td>421.40</td>\n",
       "      <td>421.40</td>\n",
       "    </tr>\n",
       "    <tr>\n",
       "      <th>2008-12-24</th>\n",
       "      <td>80.80</td>\n",
       "      <td>0.00</td>\n",
       "      <td>5.713</td>\n",
       "      <td>2.310</td>\n",
       "      <td>0.39</td>\n",
       "      <td>421.80</td>\n",
       "      <td>421.80</td>\n",
       "    </tr>\n",
       "  </tbody>\n",
       "</table>\n",
       "</div>"
      ],
      "text/plain": [
       "            discharge_rate  dailyprecip  wl_max  wl_min  recent_precip  \\\n",
       "datetime                                                                 \n",
       "2008-10-05            2.46         0.18     NaN     NaN           0.18   \n",
       "2008-10-06            2.78         0.00     NaN     NaN           0.18   \n",
       "2008-10-07            2.01         0.00     NaN     NaN           0.18   \n",
       "2008-11-05           16.00         0.14   4.036   3.268           0.14   \n",
       "2008-11-06            4.74         0.00   3.810   3.154           0.14   \n",
       "2008-11-07            2.75         0.00     NaN   2.606           0.14   \n",
       "2008-11-26          231.00         0.99   6.192   2.350           0.99   \n",
       "2008-11-27          270.00         0.10   6.290   2.573           1.09   \n",
       "2008-11-28          247.00         1.26   5.952   2.438           2.35   \n",
       "2008-11-29           75.60         0.00   5.955     NaN           1.36   \n",
       "2008-11-30           33.10         0.00   5.713   2.570           1.26   \n",
       "2008-12-14            7.07         0.01   6.861   1.999           0.01   \n",
       "2008-12-15          385.00         0.04   6.566   2.202           0.05   \n",
       "2008-12-16          551.00         1.02   5.801   2.428           1.07   \n",
       "2008-12-17          979.00         0.14   5.345   2.783           1.20   \n",
       "2008-12-18          894.00         1.49     NaN   2.363           2.65   \n",
       "2008-12-19          187.00         0.00   4.725   1.969           1.63   \n",
       "2008-12-20          113.00         0.00     NaN     NaN           1.49   \n",
       "2008-12-23          189.00         0.39   5.631   2.346           0.39   \n",
       "2008-12-24           80.80         0.00   5.713   2.310           0.39   \n",
       "\n",
       "            recent_total_discharge  recent_max_discharge  \n",
       "datetime                                                  \n",
       "2008-10-05                    5.20                  5.20  \n",
       "2008-10-06                    6.70                  6.70  \n",
       "2008-10-07                    7.25                  7.25  \n",
       "2008-11-05                   32.97                 32.97  \n",
       "2008-11-06                   36.64                 36.64  \n",
       "2008-11-07                   23.49                 36.64  \n",
       "2008-11-26                  233.79                233.79  \n",
       "2008-11-27                  502.44                502.44  \n",
       "2008-11-28                  748.00                748.00  \n",
       "2008-11-29                  592.60                748.00  \n",
       "2008-11-30                  355.70                748.00  \n",
       "2008-12-14                   21.30                 21.80  \n",
       "2008-12-15                  399.14                399.14  \n",
       "2008-12-16                  943.07                943.07  \n",
       "2008-12-17                 1915.00               1915.00  \n",
       "2008-12-18                 2424.00               2424.00  \n",
       "2008-12-19                 2060.00               2424.00  \n",
       "2008-12-20                 1194.00               2424.00  \n",
       "2008-12-23                  421.40                421.40  \n",
       "2008-12-24                  421.80                421.80  "
      ]
     },
     "execution_count": 12,
     "metadata": {},
     "output_type": "execute_result"
    }
   ],
   "source": [
    "\n",
    "_1 = comb.rolling('3d').sum()\n",
    "\n",
    "comb['recent_precip'] = _1.dailyprecip.round(2)\n",
    "comb['recent_total_discharge'] = _1.discharge_rate.round(2)\n",
    "\n",
    "_2 = _1.rolling('3d').max()\n",
    "\n",
    "comb['recent_max_discharge'] = _2.discharge_rate.round(2)\n",
    "\n",
    "comb[comb.recent_precip > 0].head(20)"
   ]
  },
  {
   "cell_type": "code",
   "execution_count": 13,
   "metadata": {},
   "outputs": [],
   "source": [
    "comb = comb[['discharge_rate', 'recent_total_discharge', 'recent_max_discharge',\n",
    "             'dailyprecip', 'recent_precip', 'wl_max', 'wl_min']]"
   ]
  },
  {
   "cell_type": "code",
   "execution_count": 14,
   "metadata": {},
   "outputs": [
    {
     "name": "stdout",
     "output_type": "stream",
     "text": [
      "['discharge_rate', 'recent_total_discharge', 'recent_max_discharge', 'dailyprecip', 'recent_precip', 'wl_max', 'wl_min']\n"
     ]
    }
   ],
   "source": [
    "print(list(comb.columns))"
   ]
  },
  {
   "cell_type": "code",
   "execution_count": 15,
   "metadata": {},
   "outputs": [],
   "source": []
  },
  {
   "cell_type": "code",
   "execution_count": 15,
   "metadata": {
    "epilog": true,
    "mt_dataframes": true
   },
   "outputs": [
    {
     "name": "stdout",
     "output_type": "stream",
     "text": [
      "{\n",
      "    \"df_name\": \"comb\",\n",
      "    \"path\": \"/Users/eric/Library/Application Support/metapack/_materialized_data/sandiegodata.org-tides_rain_river-6/comb.csv\"\n",
      "}\n"
     ]
    }
   ],
   "source": [
    "%mt_materialize comb '/Users/eric/Library/Application Support/metapack/_materialized_data/sandiegodata.org-tides_rain_river-6' "
   ]
  },
  {
   "cell_type": "code",
   "execution_count": 16,
   "metadata": {
    "epilog": true,
    "mt_materialize": true
   },
   "outputs": [
    {
     "name": "stdout",
     "output_type": "stream",
     "text": [
      "[]\n"
     ]
    }
   ],
   "source": [
    "\n",
    "%mt_materialize_all '/Users/eric/Library/Application Support/metapack/_materialized_data/sandiegodata.org-tides_rain_river-6'\n"
   ]
  },
  {
   "cell_type": "code",
   "execution_count": 17,
   "metadata": {
    "epilog": true,
    "mt_final_metatab": true
   },
   "outputs": [
    {
     "name": "stdout",
     "output_type": "stream",
     "text": [
      "Declare: metatab-latest\n",
      "Section: Resources\n"
     ]
    }
   ],
   "source": [
    "\n",
    "%mt_show_metatab\n",
    "\n"
   ]
  },
  {
   "cell_type": "code",
   "execution_count": 18,
   "metadata": {
    "epilog": true,
    "mt_show_libdirs": true
   },
   "outputs": [
    {
     "name": "stdout",
     "output_type": "stream",
     "text": [
      "[]\n"
     ]
    }
   ],
   "source": [
    "\n",
    "%mt_show_libdirs\n",
    "\n"
   ]
  }
 ],
 "metadata": {
  "kernelspec": {
   "display_name": "Python 3",
   "language": "python",
   "name": "python3"
  },
  "language_info": {
   "codemirror_mode": {
    "name": "ipython",
    "version": 3
   },
   "file_extension": ".py",
   "mimetype": "text/x-python",
   "name": "python",
   "nbconvert_exporter": "python",
   "pygments_lexer": "ipython3",
   "version": "3.6.5"
  }
 },
 "nbformat": 4,
 "nbformat_minor": 2
}
