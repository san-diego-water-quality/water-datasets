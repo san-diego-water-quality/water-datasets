{
 "cells": [
  {
   "cell_type": "markdown",
   "metadata": {},
   "source": [
    "# Use Examples for sandiegodata.org-beachwatch"
   ]
  },
  {
   "cell_type": "code",
   "execution_count": 1,
   "metadata": {},
   "outputs": [],
   "source": [
    "import matplotlib.pyplot as plt \n",
    "import metapack as mp\n",
    "import pandas as pd\n",
    "import numpy as np\n",
    "import seaborn as sns\n",
    "sns.set(color_codes=True)\n",
    "%matplotlib inline"
   ]
  },
  {
   "cell_type": "code",
   "execution_count": 2,
   "metadata": {
    "scrolled": false
   },
   "outputs": [
    {
     "data": {
      "text/html": [
       "<h2>San Diego Beachwatch Data, With Features</h2>\n",
       "<p><p><em>Water quality data for San Diego county beaches from from CEDEN, with added features for log transformation, quantiles and group codes.</em></p>\n",
       "<p><small>sandiegodata.org-beachwatch-1 from metapack+file:///Users/eric/proj/virt-proj/water/water-datasets/derived/sandiegodata.org-beachwatch/_packages/sandiegodata.org-beachwatch-1/metadata.csv</small></p></p>\n",
       "<h1>Elided Columns</h1>\n",
       "<p>This datasets excludes the const and empty columns from the source dataset.\n",
       "These columns and their values are:</p>\n",
       "<table>\n",
       "<thead>\n",
       "<tr>\n",
       "<th align=\"right\"></th>\n",
       "<th align=\"left\">Column Name</th>\n",
       "<th align=\"left\">Constant Value</th>\n",
       "</tr>\n",
       "</thead>\n",
       "<tbody>\n",
       "<tr>\n",
       "<td align=\"right\">0</td>\n",
       "<td align=\"left\">program</td>\n",
       "<td align=\"left\">BeachWatch</td>\n",
       "</tr>\n",
       "<tr>\n",
       "<td align=\"right\">1</td>\n",
       "<td align=\"left\">parentproject</td>\n",
       "<td align=\"left\">BeachWatch_San Diego County</td>\n",
       "</tr>\n",
       "<tr>\n",
       "<td align=\"right\">2</td>\n",
       "<td align=\"left\">project</td>\n",
       "<td align=\"left\">BeachWatch_San Diego County</td>\n",
       "</tr>\n",
       "<tr>\n",
       "<td align=\"right\">3</td>\n",
       "<td align=\"left\">locationcode</td>\n",
       "<td align=\"left\">SurfZone</td>\n",
       "</tr>\n",
       "<tr>\n",
       "<td align=\"right\">4</td>\n",
       "<td align=\"left\">collectiondepth</td>\n",
       "<td align=\"left\">-88</td>\n",
       "</tr>\n",
       "<tr>\n",
       "<td align=\"right\">5</td>\n",
       "<td align=\"left\">unitcollectiondepth</td>\n",
       "<td align=\"left\">NR</td>\n",
       "</tr>\n",
       "<tr>\n",
       "<td align=\"right\">6</td>\n",
       "<td align=\"left\">sampletypecode</td>\n",
       "<td align=\"left\">Grab</td>\n",
       "</tr>\n",
       "<tr>\n",
       "<td align=\"right\">7</td>\n",
       "<td align=\"left\">collectionreplicate</td>\n",
       "<td align=\"left\">1</td>\n",
       "</tr>\n",
       "<tr>\n",
       "<td align=\"right\">8</td>\n",
       "<td align=\"left\">resultsreplicate</td>\n",
       "<td align=\"left\">1</td>\n",
       "</tr>\n",
       "<tr>\n",
       "<td align=\"right\">9</td>\n",
       "<td align=\"left\">labsampleid</td>\n",
       "<td align=\"left\">Not Recorded</td>\n",
       "</tr>\n",
       "<tr>\n",
       "<td align=\"right\">10</td>\n",
       "<td align=\"left\">matrixname</td>\n",
       "<td align=\"left\">samplewater</td>\n",
       "</tr>\n",
       "<tr>\n",
       "<td align=\"right\">11</td>\n",
       "<td align=\"left\">mdl</td>\n",
       "<td align=\"left\">-88</td>\n",
       "</tr>\n",
       "<tr>\n",
       "<td align=\"right\">12</td>\n",
       "<td align=\"left\">rl</td>\n",
       "<td align=\"left\">-88</td>\n",
       "</tr>\n",
       "<tr>\n",
       "<td align=\"right\">13</td>\n",
       "<td align=\"left\">batchverification</td>\n",
       "<td align=\"left\">NR</td>\n",
       "</tr>\n",
       "<tr>\n",
       "<td align=\"right\">14</td>\n",
       "<td align=\"left\">compliancecode</td>\n",
       "<td align=\"left\">NR</td>\n",
       "</tr>\n",
       "<tr>\n",
       "<td align=\"right\">15</td>\n",
       "<td align=\"left\">eventcode</td>\n",
       "<td align=\"left\">WQ</td>\n",
       "</tr>\n",
       "<tr>\n",
       "<td align=\"right\">16</td>\n",
       "<td align=\"left\">protocolcode</td>\n",
       "<td align=\"left\">Not Recorded</td>\n",
       "</tr>\n",
       "<tr>\n",
       "<td align=\"right\">17</td>\n",
       "<td align=\"left\">collectionmethodname</td>\n",
       "<td align=\"left\">Water_Grab</td>\n",
       "</tr>\n",
       "<tr>\n",
       "<td align=\"right\">18</td>\n",
       "<td align=\"left\">collectiondevicedescription</td>\n",
       "<td align=\"left\">Not Recorded</td>\n",
       "</tr>\n",
       "<tr>\n",
       "<td align=\"right\">19</td>\n",
       "<td align=\"left\">calibrationdate</td>\n",
       "<td align=\"left\">0000-00-00</td>\n",
       "</tr>\n",
       "<tr>\n",
       "<td align=\"right\">20</td>\n",
       "<td align=\"left\">positionwatercolumn</td>\n",
       "<td align=\"left\">Not Recorded</td>\n",
       "</tr>\n",
       "<tr>\n",
       "<td align=\"right\">21</td>\n",
       "<td align=\"left\">preppreservationname</td>\n",
       "<td align=\"left\">Not Recorded</td>\n",
       "</tr>\n",
       "<tr>\n",
       "<td align=\"right\">22</td>\n",
       "<td align=\"left\">preppreservationdate</td>\n",
       "<td align=\"left\">0000-00-00 00:00:00</td>\n",
       "</tr>\n",
       "<tr>\n",
       "<td align=\"right\">23</td>\n",
       "<td align=\"left\">digestextractmethod</td>\n",
       "<td align=\"left\">Not Recorded</td>\n",
       "</tr>\n",
       "<tr>\n",
       "<td align=\"right\">24</td>\n",
       "<td align=\"left\">digestextractdate</td>\n",
       "<td align=\"left\">0000-00-00</td>\n",
       "</tr>\n",
       "<tr>\n",
       "<td align=\"right\">25</td>\n",
       "<td align=\"left\">analysisdate</td>\n",
       "<td align=\"left\">0000-00-00</td>\n",
       "</tr>\n",
       "<tr>\n",
       "<td align=\"right\">26</td>\n",
       "<td align=\"left\">dilutionfactor</td>\n",
       "<td align=\"left\">-88</td>\n",
       "</tr>\n",
       "<tr>\n",
       "<td align=\"right\">27</td>\n",
       "<td align=\"left\">expectedvalue</td>\n",
       "<td align=\"left\">0</td>\n",
       "</tr>\n",
       "<tr>\n",
       "<td align=\"right\">28</td>\n",
       "<td align=\"left\">submissioncode</td>\n",
       "<td align=\"left\">NR</td>\n",
       "</tr>\n",
       "<tr>\n",
       "<td align=\"right\">29</td>\n",
       "<td align=\"left\">county</td>\n",
       "<td align=\"left\">San Diego</td>\n",
       "</tr>\n",
       "<tr>\n",
       "<td align=\"right\">30</td>\n",
       "<td align=\"left\">county_fips</td>\n",
       "<td align=\"left\">73</td>\n",
       "</tr>\n",
       "<tr>\n",
       "<td align=\"right\">31</td>\n",
       "<td align=\"left\">regional_board</td>\n",
       "<td align=\"left\">San Diego</td>\n",
       "</tr>\n",
       "<tr>\n",
       "<td align=\"right\">32</td>\n",
       "<td align=\"left\">rb_number</td>\n",
       "<td align=\"left\">9</td>\n",
       "</tr>\n",
       "<tr>\n",
       "<td align=\"right\">33</td>\n",
       "<td align=\"left\">sampleid</td>\n",
       "<td align=\"left\">Not Recorded</td>\n",
       "</tr>\n",
       "</tbody>\n",
       "</table>\n",
       "<p>The dataset also excludes these Null columns:</p>\n",
       "<ul>\n",
       "<li>observation</li>\n",
       "<li>samplecomments</li>\n",
       "<li>collectioncomments</li>\n",
       "<li>resultscomments</li>\n",
       "<li>batchcomments</li>\n",
       "<li>groupsamples</li>\n",
       "<li>occupationmethod</li>\n",
       "<li>startingbank</li>\n",
       "<li>distancefrombank</li>\n",
       "<li>unitdistancefrombank</li>\n",
       "<li>streamwidth</li>\n",
       "<li>unitstreamwidth</li>\n",
       "<li>stationwaterdepth</li>\n",
       "<li>unitstationwaterdepth</li>\n",
       "<li>hydromod</li>\n",
       "<li>hydromodloc</li>\n",
       "<li>locationdetailwqcomments</li>\n",
       "<li>channelwidth</li>\n",
       "<li>upstreamlength</li>\n",
       "<li>downstreamlength</li>\n",
       "<li>totalreach</li>\n",
       "<li>locationdetailbacomments</li>\n",
       "<li>huc8</li>\n",
       "<li>huc8_number</li>\n",
       "<li>huc10</li>\n",
       "<li>huc10_number</li>\n",
       "<li>huc12</li>\n",
       "<li>huc12_number</li>\n",
       "<li>waterbody_type</li>\n",
       "</ul>\n",
       "<h1>Notes</h1>\n",
       "<p>The most prevalent measure code in this dataset is 24 for Enterococcus (analyte) meaured with Enterolert (methodname) in units of MPN/100 mL. This is probably because in 2004, the <a href=\"https://www.federalregister.gov/documents/2004/11/16/04-25303/water-quality-standards-for-coastal-and-great-lakes-recreation-waters\">EPA changed recomendations to use Enterococcus as a primary indicator bacteria in coastal waters:</a></p>\n",
       "<pre><code>EPA subsequently recommended the use of E. coli or enterococci for fresh\n",
       "recreational waters and enterococci for marine recreational waters because\n",
       "levels of these organisms more accurately predict acute gastrointestinal\n",
       "illness than levels of fecal coliforms.\n",
       "</code></pre>\n",
       "<h3>Documentation</h3>\n",
       "<h3>Contacts</h3>\n",
       "<p><strong>Wrangler:</strong> <a href=\"mailto:eric@civicknowledge.com\">Eric Busboom</a> <a href=\"http://civicknowledge.com\">Civic Knowledge</a></p>\n",
       "<h3>Resources</h3>\n",
       "<p><ol>\n",
       "<li><p><a target=\"_blank\" href=\"file:///Users/eric/proj/virt-proj/water/water-datasets/derived/sandiegodata.org-beachwatch/_packages/sandiegodata.org-beachwatch-1/data/stations.csv\"><strong>stations</strong></a> Measurement stations</p></li>\n",
       "<li><p><a target=\"_blank\" href=\"file:///Users/eric/proj/virt-proj/water/water-datasets/derived/sandiegodata.org-beachwatch/_packages/sandiegodata.org-beachwatch-1/data/measure_codes.csv\"><strong>measure_codes</strong></a> Measurement group codes</p></li>\n",
       "<li><p><a target=\"_blank\" href=\"file:///Users/eric/proj/virt-proj/water/water-datasets/derived/sandiegodata.org-beachwatch/_packages/sandiegodata.org-beachwatch-1/data/beachwatch.csv\"><strong>beachwatch</strong></a> Beachwatch data, with features added</p></li></p>\n",
       "</ol>\n",
       "\n",
       "<h3>References</h3>\n",
       "<p><ol>\n",
       "<li><p><a target=\"_blank\" href=\"index:ceden.waterboards.ca.gov-beachwatch-sandiego#beachwatch-sd\"><strong>beachwatch_source</strong></a> Beachwatch source data</p></li></p>\n",
       "</ol>"
      ],
      "text/plain": [
       "<metapack.doc.MetapackDoc at 0x10af54ef0>"
      ]
     },
     "execution_count": 2,
     "metadata": {},
     "output_type": "execute_result"
    }
   ],
   "source": [
    "pkg = mp.jupyter.open_package()\n",
    "pkg"
   ]
  },
  {
   "cell_type": "code",
   "execution_count": 3,
   "metadata": {},
   "outputs": [
    {
     "data": {
      "text/html": [
       "<h3><a name=\"resource-beachwatch\"></a>beachwatch</h3><p><a target=\"_blank\" href=\"file:///Users/eric/proj/virt-proj/water/water-datasets/derived/sandiegodata.org-beachwatch/_packages/sandiegodata.org-beachwatch-1/data/beachwatch.csv\">file:///Users/eric/proj/virt-proj/water/water-datasets/derived/sandiegodata.org-beachwatch/_packages/sandiegodata.org-beachwatch-1/data/beachwatch.csv</a></p><table>\n",
       "<tr><th>Header</th><th>Type</th><th>Description</th></tr><tr><td>stationcode</td><td>string</td><td>Short name for the station</td></tr> \n",
       "<tr><td>stationgroup</td><td>string</td><td>First two characters of station code</td></tr> \n",
       "<tr><td>sampledate</td><td>datetime</td><td>Date sample was taken</td></tr> \n",
       "<tr><td>collectiontime</td><td>time</td><td>Time sample was taken</td></tr> \n",
       "<tr><td>measure_code</td><td>integer</td><td>Reference to the measure codes, the unique groups of analyte, mehodname and unit.</td></tr> \n",
       "<tr><td>analyte</td><td>string</td><td>The type of bacterial being measured, for coliform, total coliform, Enterococcus or E. coli.</td></tr> \n",
       "<tr><td>methodname</td><td>string</td><td>Method used to count bacteria, such as “MTF”, “SM 9222 B” or “Enterolert”</td></tr> \n",
       "<tr><td>unit</td><td>string</td><td>Measurement units, type of count per 100 ml.</td></tr> \n",
       "<tr><td>result</td><td>integer</td><td>Measured value</td></tr> \n",
       "<tr><td>result_group_count</td><td>integer</td><td>Number of records in this measurement group</td></tr> \n",
       "<tr><td>result_group_std</td><td>number</td><td>Standard deviation for this group</td></tr> \n",
       "<tr><td>result_group_mean</td><td>number</td><td>Mean for this group</td></tr> \n",
       "<tr><td>result_group_25pctl</td><td>number</td><td>25th percentile for this group</td></tr> \n",
       "<tr><td>result_group_median</td><td>number</td><td>Median for this group</td></tr> \n",
       "<tr><td>result_group_75pctl</td><td>number</td><td>75th percentile for  this group</td></tr> \n",
       "<tr><td>result_gt_median</td><td>number</td><td>1 if the result is greater than the median, 0 otherwise</td></tr> \n",
       "<tr><td>result_gt_mean</td><td>number</td><td>1 if the result is greater than the mean, 0 otherwise</td></tr> \n",
       "<tr><td>result_lte_25pctl</td><td>number</td><td>1 if the result is less than or equal to the 25th percentile, 0 otherwise</td></tr> \n",
       "<tr><td>result_gte_75pctl</td><td>number</td><td>1 if the result is greater than or equal to the 75th percentile, 0 otherwise</td></tr> \n",
       "<tr><td>lresult</td><td>number</td><td>Log  of measured value</td></tr> \n",
       "<tr><td>lresult_group_std</td><td>number</td><td>Standard deviation of log(result) for this group</td></tr> \n",
       "<tr><td>lresult_group_mean</td><td>number</td><td>Mean of log(result) for this group</td></tr> \n",
       "<tr><td>lresult_group_25pctl</td><td>number</td><td>25th percentile of log(result) for this group</td></tr> \n",
       "<tr><td>lresult_group_median</td><td>number</td><td>Median of log(result) for this group</td></tr> \n",
       "<tr><td>lresult_group_75pctl</td><td>number</td><td>75th percentile of log(result) for this group</td></tr> \n",
       "<tr><td>lresult_gt_lmedian</td><td>number</td><td>1 if the result is greater than the median of log(result) , 0 otherwise</td></tr> \n",
       "<tr><td>lresult_gt_lmean</td><td>number</td><td>1 if the result is greater than the mean of log(result) , 0 otherwise</td></tr> \n",
       "<tr><td>lresult_lte_25pctl</td><td>number</td><td>1 if the result is less than or equal to the 25th percentile of log(result) , 0 otherwise</td></tr> \n",
       "<tr><td>lresult_gte_75pctl</td><td>number</td><td>1 if the result is greater than or equal to the 75th percentile of log(result) , 0 otherwise</td></tr> \n",
       "<tr><td>labbatch</td><td>string</td><td>Identifier of the processing group in the lab</td></tr> \n",
       "<tr><td>resultqualcode</td><td>string</td><td>Result Qualifier code. See result_qual_cv documentation</td></tr> \n",
       "<tr><td>qacode</td><td>string</td><td>QA code. See qa_cv documentation</td></tr> \n",
       "<tr><td>sampleagency</td><td>string</td><td>Code for agency that took the sample</td></tr> \n",
       "<tr><td>labagency</td><td>string</td><td>Code for agency that analyzed sample</td></tr> \n",
       "<tr><td>submittingagency</td><td>string</td><td>Code for agency that submitted sample to lab</td></tr> </table>"
      ],
      "text/plain": [
       "<Resource: metadata.csv 34:1 root.datafile data/beachwatch.csv ['beachwatch', 'Beachwatch data, with features added', '', '']>"
      ]
     },
     "execution_count": 3,
     "metadata": {},
     "output_type": "execute_result"
    }
   ],
   "source": [
    "pkg.resource('beachwatch')"
   ]
  },
  {
   "cell_type": "code",
   "execution_count": 4,
   "metadata": {},
   "outputs": [
    {
     "data": {
      "text/html": [
       "<div>\n",
       "<style scoped>\n",
       "    .dataframe tbody tr th:only-of-type {\n",
       "        vertical-align: middle;\n",
       "    }\n",
       "\n",
       "    .dataframe tbody tr th {\n",
       "        vertical-align: top;\n",
       "    }\n",
       "\n",
       "    .dataframe thead th {\n",
       "        text-align: right;\n",
       "    }\n",
       "</style>\n",
       "<table border=\"1\" class=\"dataframe\">\n",
       "  <thead>\n",
       "    <tr style=\"text-align: right;\">\n",
       "      <th></th>\n",
       "      <th>stationcode</th>\n",
       "      <th>stationgroup</th>\n",
       "      <th>sampledate</th>\n",
       "      <th>collectiontime</th>\n",
       "      <th>measure_code</th>\n",
       "      <th>analyte</th>\n",
       "      <th>methodname</th>\n",
       "      <th>unit</th>\n",
       "      <th>result</th>\n",
       "      <th>result_group_count</th>\n",
       "      <th>...</th>\n",
       "      <th>lresult_gt_lmedian</th>\n",
       "      <th>lresult_gt_lmean</th>\n",
       "      <th>lresult_lte_25pctl</th>\n",
       "      <th>lresult_gte_75pctl</th>\n",
       "      <th>labbatch</th>\n",
       "      <th>resultqualcode</th>\n",
       "      <th>qacode</th>\n",
       "      <th>sampleagency</th>\n",
       "      <th>labagency</th>\n",
       "      <th>submittingagency</th>\n",
       "    </tr>\n",
       "  </thead>\n",
       "  <tbody>\n",
       "    <tr>\n",
       "      <th>0</th>\n",
       "      <td>EH-010</td>\n",
       "      <td>EH</td>\n",
       "      <td>1999-05-26</td>\n",
       "      <td>2018-08-08</td>\n",
       "      <td>0</td>\n",
       "      <td>Coliform, Fecal</td>\n",
       "      <td>MTF</td>\n",
       "      <td>MPN/100 mL</td>\n",
       "      <td>20.0</td>\n",
       "      <td>213</td>\n",
       "      <td>...</td>\n",
       "      <td>0.0</td>\n",
       "      <td>0.0</td>\n",
       "      <td>0.0</td>\n",
       "      <td>1.0</td>\n",
       "      <td>SH-5/26/1999</td>\n",
       "      <td>&lt;</td>\n",
       "      <td>NR</td>\n",
       "      <td>SDCDEH</td>\n",
       "      <td>SDCDEH</td>\n",
       "      <td>SDCDEH</td>\n",
       "    </tr>\n",
       "    <tr>\n",
       "      <th>1</th>\n",
       "      <td>EH-010</td>\n",
       "      <td>EH</td>\n",
       "      <td>1999-10-13</td>\n",
       "      <td>2018-08-08</td>\n",
       "      <td>0</td>\n",
       "      <td>Coliform, Fecal</td>\n",
       "      <td>MTF</td>\n",
       "      <td>MPN/100 mL</td>\n",
       "      <td>0.0</td>\n",
       "      <td>213</td>\n",
       "      <td>...</td>\n",
       "      <td>0.0</td>\n",
       "      <td>0.0</td>\n",
       "      <td>0.0</td>\n",
       "      <td>0.0</td>\n",
       "      <td>SH-10/13/1999</td>\n",
       "      <td>=</td>\n",
       "      <td>NR</td>\n",
       "      <td>SDCDEH</td>\n",
       "      <td>SDCDEH</td>\n",
       "      <td>SDCDEH</td>\n",
       "    </tr>\n",
       "    <tr>\n",
       "      <th>2</th>\n",
       "      <td>EH-010</td>\n",
       "      <td>EH</td>\n",
       "      <td>1999-10-26</td>\n",
       "      <td>2018-08-08</td>\n",
       "      <td>0</td>\n",
       "      <td>Coliform, Fecal</td>\n",
       "      <td>MTF</td>\n",
       "      <td>MPN/100 mL</td>\n",
       "      <td>20.0</td>\n",
       "      <td>213</td>\n",
       "      <td>...</td>\n",
       "      <td>0.0</td>\n",
       "      <td>0.0</td>\n",
       "      <td>0.0</td>\n",
       "      <td>1.0</td>\n",
       "      <td>SH-10/26/1999</td>\n",
       "      <td>&lt;</td>\n",
       "      <td>NR</td>\n",
       "      <td>SDCDEH</td>\n",
       "      <td>SDCDEH</td>\n",
       "      <td>SDCDEH</td>\n",
       "    </tr>\n",
       "    <tr>\n",
       "      <th>3</th>\n",
       "      <td>EH-010</td>\n",
       "      <td>EH</td>\n",
       "      <td>2000-03-21</td>\n",
       "      <td>2018-08-08</td>\n",
       "      <td>0</td>\n",
       "      <td>Coliform, Fecal</td>\n",
       "      <td>MTF</td>\n",
       "      <td>MPN/100 mL</td>\n",
       "      <td>20.0</td>\n",
       "      <td>213</td>\n",
       "      <td>...</td>\n",
       "      <td>0.0</td>\n",
       "      <td>0.0</td>\n",
       "      <td>0.0</td>\n",
       "      <td>1.0</td>\n",
       "      <td>SH-3/21/2000</td>\n",
       "      <td>&lt;</td>\n",
       "      <td>NR</td>\n",
       "      <td>SDCDEH</td>\n",
       "      <td>SDCDEH</td>\n",
       "      <td>SDCDEH</td>\n",
       "    </tr>\n",
       "    <tr>\n",
       "      <th>4</th>\n",
       "      <td>EH-010</td>\n",
       "      <td>EH</td>\n",
       "      <td>2000-05-24</td>\n",
       "      <td>2018-08-08</td>\n",
       "      <td>0</td>\n",
       "      <td>Coliform, Fecal</td>\n",
       "      <td>MTF</td>\n",
       "      <td>MPN/100 mL</td>\n",
       "      <td>230.0</td>\n",
       "      <td>213</td>\n",
       "      <td>...</td>\n",
       "      <td>1.0</td>\n",
       "      <td>1.0</td>\n",
       "      <td>0.0</td>\n",
       "      <td>1.0</td>\n",
       "      <td>SH-5/24/2000</td>\n",
       "      <td>=</td>\n",
       "      <td>NR</td>\n",
       "      <td>SDCDEH</td>\n",
       "      <td>SDCDEH</td>\n",
       "      <td>SDCDEH</td>\n",
       "    </tr>\n",
       "  </tbody>\n",
       "</table>\n",
       "<p>5 rows × 35 columns</p>\n",
       "</div>"
      ],
      "text/plain": [
       "  stationcode stationgroup sampledate collectiontime  measure_code  \\\n",
       "0      EH-010           EH 1999-05-26     2018-08-08             0   \n",
       "1      EH-010           EH 1999-10-13     2018-08-08             0   \n",
       "2      EH-010           EH 1999-10-26     2018-08-08             0   \n",
       "3      EH-010           EH 2000-03-21     2018-08-08             0   \n",
       "4      EH-010           EH 2000-05-24     2018-08-08             0   \n",
       "\n",
       "           analyte methodname        unit  result  result_group_count  \\\n",
       "0  Coliform, Fecal        MTF  MPN/100 mL    20.0                 213   \n",
       "1  Coliform, Fecal        MTF  MPN/100 mL     0.0                 213   \n",
       "2  Coliform, Fecal        MTF  MPN/100 mL    20.0                 213   \n",
       "3  Coliform, Fecal        MTF  MPN/100 mL    20.0                 213   \n",
       "4  Coliform, Fecal        MTF  MPN/100 mL   230.0                 213   \n",
       "\n",
       "         ...         lresult_gt_lmedian  lresult_gt_lmean  lresult_lte_25pctl  \\\n",
       "0        ...                        0.0               0.0                 0.0   \n",
       "1        ...                        0.0               0.0                 0.0   \n",
       "2        ...                        0.0               0.0                 0.0   \n",
       "3        ...                        0.0               0.0                 0.0   \n",
       "4        ...                        1.0               1.0                 0.0   \n",
       "\n",
       "   lresult_gte_75pctl       labbatch  resultqualcode  qacode  sampleagency  \\\n",
       "0                 1.0   SH-5/26/1999               <      NR        SDCDEH   \n",
       "1                 0.0  SH-10/13/1999               =      NR        SDCDEH   \n",
       "2                 1.0  SH-10/26/1999               <      NR        SDCDEH   \n",
       "3                 1.0   SH-3/21/2000               <      NR        SDCDEH   \n",
       "4                 1.0   SH-5/24/2000               =      NR        SDCDEH   \n",
       "\n",
       "   labagency  submittingagency  \n",
       "0     SDCDEH            SDCDEH  \n",
       "1     SDCDEH            SDCDEH  \n",
       "2     SDCDEH            SDCDEH  \n",
       "3     SDCDEH            SDCDEH  \n",
       "4     SDCDEH            SDCDEH  \n",
       "\n",
       "[5 rows x 35 columns]"
      ]
     },
     "execution_count": 4,
     "metadata": {},
     "output_type": "execute_result"
    }
   ],
   "source": [
    "beachwatch = pkg.resource('beachwatch').read_csv(parse_dates=True)\n",
    "beachwatch.head()"
   ]
  },
  {
   "cell_type": "code",
   "execution_count": 5,
   "metadata": {},
   "outputs": [
    {
     "data": {
      "text/html": [
       "<div>\n",
       "<style scoped>\n",
       "    .dataframe tbody tr th:only-of-type {\n",
       "        vertical-align: middle;\n",
       "    }\n",
       "\n",
       "    .dataframe tbody tr th {\n",
       "        vertical-align: top;\n",
       "    }\n",
       "\n",
       "    .dataframe thead th {\n",
       "        text-align: right;\n",
       "    }\n",
       "</style>\n",
       "<table border=\"1\" class=\"dataframe\">\n",
       "  <thead>\n",
       "    <tr style=\"text-align: right;\">\n",
       "      <th></th>\n",
       "      <th>stationcode</th>\n",
       "      <th>measure_code</th>\n",
       "      <th>result_group_count</th>\n",
       "      <th>analyte</th>\n",
       "      <th>methodname</th>\n",
       "      <th>unit</th>\n",
       "    </tr>\n",
       "  </thead>\n",
       "  <tbody>\n",
       "    <tr>\n",
       "      <th>48745</th>\n",
       "      <td>EH-420</td>\n",
       "      <td>24</td>\n",
       "      <td>1081</td>\n",
       "      <td>Enterococcus</td>\n",
       "      <td>Enterolert</td>\n",
       "      <td>MPN/100 mL</td>\n",
       "    </tr>\n",
       "    <tr>\n",
       "      <th>75870</th>\n",
       "      <td>FM-010</td>\n",
       "      <td>24</td>\n",
       "      <td>990</td>\n",
       "      <td>Enterococcus</td>\n",
       "      <td>Enterolert</td>\n",
       "      <td>MPN/100 mL</td>\n",
       "    </tr>\n",
       "    <tr>\n",
       "      <th>110949</th>\n",
       "      <td>IB-080</td>\n",
       "      <td>24</td>\n",
       "      <td>980</td>\n",
       "      <td>Enterococcus</td>\n",
       "      <td>Enterolert</td>\n",
       "      <td>MPN/100 mL</td>\n",
       "    </tr>\n",
       "    <tr>\n",
       "      <th>164182</th>\n",
       "      <td>OC-100</td>\n",
       "      <td>24</td>\n",
       "      <td>963</td>\n",
       "      <td>Enterococcus</td>\n",
       "      <td>Enterolert</td>\n",
       "      <td>MPN/100 mL</td>\n",
       "    </tr>\n",
       "    <tr>\n",
       "      <th>87399</th>\n",
       "      <td>FM-100</td>\n",
       "      <td>24</td>\n",
       "      <td>918</td>\n",
       "      <td>Enterococcus</td>\n",
       "      <td>Enterolert</td>\n",
       "      <td>MPN/100 mL</td>\n",
       "    </tr>\n",
       "    <tr>\n",
       "      <th>9370</th>\n",
       "      <td>EH-060</td>\n",
       "      <td>24</td>\n",
       "      <td>902</td>\n",
       "      <td>Enterococcus</td>\n",
       "      <td>Enterolert</td>\n",
       "      <td>MPN/100 mL</td>\n",
       "    </tr>\n",
       "    <tr>\n",
       "      <th>6429</th>\n",
       "      <td>EH-050</td>\n",
       "      <td>24</td>\n",
       "      <td>896</td>\n",
       "      <td>Enterococcus</td>\n",
       "      <td>Enterolert</td>\n",
       "      <td>MPN/100 mL</td>\n",
       "    </tr>\n",
       "    <tr>\n",
       "      <th>40425</th>\n",
       "      <td>EH-380</td>\n",
       "      <td>24</td>\n",
       "      <td>881</td>\n",
       "      <td>Enterococcus</td>\n",
       "      <td>Enterolert</td>\n",
       "      <td>MPN/100 mL</td>\n",
       "    </tr>\n",
       "    <tr>\n",
       "      <th>197580</th>\n",
       "      <td>SE-060</td>\n",
       "      <td>24</td>\n",
       "      <td>824</td>\n",
       "      <td>Enterococcus</td>\n",
       "      <td>Enterolert</td>\n",
       "      <td>MPN/100 mL</td>\n",
       "    </tr>\n",
       "    <tr>\n",
       "      <th>47511</th>\n",
       "      <td>EH-420</td>\n",
       "      <td>11</td>\n",
       "      <td>771</td>\n",
       "      <td>Coliform, Total</td>\n",
       "      <td>SM 9221 B</td>\n",
       "      <td>MPN/100 mL</td>\n",
       "    </tr>\n",
       "  </tbody>\n",
       "</table>\n",
       "</div>"
      ],
      "text/plain": [
       "       stationcode  measure_code  result_group_count          analyte  \\\n",
       "48745       EH-420            24                1081     Enterococcus   \n",
       "75870       FM-010            24                 990     Enterococcus   \n",
       "110949      IB-080            24                 980     Enterococcus   \n",
       "164182      OC-100            24                 963     Enterococcus   \n",
       "87399       FM-100            24                 918     Enterococcus   \n",
       "9370        EH-060            24                 902     Enterococcus   \n",
       "6429        EH-050            24                 896     Enterococcus   \n",
       "40425       EH-380            24                 881     Enterococcus   \n",
       "197580      SE-060            24                 824     Enterococcus   \n",
       "47511       EH-420            11                 771  Coliform, Total   \n",
       "\n",
       "        methodname        unit  \n",
       "48745   Enterolert  MPN/100 mL  \n",
       "75870   Enterolert  MPN/100 mL  \n",
       "110949  Enterolert  MPN/100 mL  \n",
       "164182  Enterolert  MPN/100 mL  \n",
       "87399   Enterolert  MPN/100 mL  \n",
       "9370    Enterolert  MPN/100 mL  \n",
       "6429    Enterolert  MPN/100 mL  \n",
       "40425   Enterolert  MPN/100 mL  \n",
       "197580  Enterolert  MPN/100 mL  \n",
       "47511    SM 9221 B  MPN/100 mL  "
      ]
     },
     "execution_count": 5,
     "metadata": {},
     "output_type": "execute_result"
    }
   ],
   "source": [
    "beachwatch[['stationcode','measure_code','result_group_count', 'analyte','methodname','unit']]\\\n",
    "    .drop_duplicates()\\\n",
    "    .sort_values('result_group_count',ascending=False)\\\n",
    "    .head(10)"
   ]
  },
  {
   "cell_type": "code",
   "execution_count": 6,
   "metadata": {},
   "outputs": [
    {
     "data": {
      "text/plain": [
       "<matplotlib.axes._subplots.AxesSubplot at 0x10afd1518>"
      ]
     },
     "execution_count": 6,
     "metadata": {},
     "output_type": "execute_result"
    },
    {
     "data": {
      "image/png": "[encoded data removed]",
      "text/plain": [
       "<Figure size 432x288 with 1 Axes>"
      ]
     },
     "metadata": {},
     "output_type": "display_data"
    }
   ],
   "source": [
    "beachwatch.groupby('measure_code').count().result.sort_values(ascending=False).plot(kind='bar')"
   ]
  },
  {
   "cell_type": "code",
   "execution_count": 7,
   "metadata": {},
   "outputs": [
    {
     "data": {
      "text/html": [
       "<div>\n",
       "<style scoped>\n",
       "    .dataframe tbody tr th:only-of-type {\n",
       "        vertical-align: middle;\n",
       "    }\n",
       "\n",
       "    .dataframe tbody tr th {\n",
       "        vertical-align: top;\n",
       "    }\n",
       "\n",
       "    .dataframe thead th {\n",
       "        text-align: right;\n",
       "    }\n",
       "</style>\n",
       "<table border=\"1\" class=\"dataframe\">\n",
       "  <thead>\n",
       "    <tr style=\"text-align: right;\">\n",
       "      <th></th>\n",
       "      <th>analyte</th>\n",
       "      <th>methodname</th>\n",
       "      <th>unit</th>\n",
       "      <th>measure_code</th>\n",
       "    </tr>\n",
       "  </thead>\n",
       "  <tbody>\n",
       "    <tr>\n",
       "      <th>24</th>\n",
       "      <td>Enterococcus</td>\n",
       "      <td>Enterolert</td>\n",
       "      <td>MPN/100 mL</td>\n",
       "      <td>24</td>\n",
       "    </tr>\n",
       "    <tr>\n",
       "      <th>11</th>\n",
       "      <td>Coliform, Total</td>\n",
       "      <td>SM 9221 B</td>\n",
       "      <td>MPN/100 mL</td>\n",
       "      <td>11</td>\n",
       "    </tr>\n",
       "    <tr>\n",
       "      <th>2</th>\n",
       "      <td>Coliform, Fecal</td>\n",
       "      <td>SM 9221 E</td>\n",
       "      <td>MPN/100 mL</td>\n",
       "      <td>2</td>\n",
       "    </tr>\n",
       "  </tbody>\n",
       "</table>\n",
       "</div>"
      ],
      "text/plain": [
       "            analyte  methodname        unit  measure_code\n",
       "24     Enterococcus  Enterolert  MPN/100 mL            24\n",
       "11  Coliform, Total   SM 9221 B  MPN/100 mL            11\n",
       "2   Coliform, Fecal   SM 9221 E  MPN/100 mL             2"
      ]
     },
     "execution_count": 7,
     "metadata": {},
     "output_type": "execute_result"
    }
   ],
   "source": [
    "pkg.resource('measure_codes').read_csv().iloc[[24,11,2]]"
   ]
  },
  {
   "cell_type": "markdown",
   "metadata": {},
   "source": [
    "The most prevalent measure code in this dataset is 24 for Enterococcus (analyte) meaured with Enterolert (methodname) in units of MPN/100 mL. This is probably because in 2004, the [EPA changed recomendations to use Enterococcus as a primary indicator bacteria in coastal waters:](https://www.federalregister.gov/documents/2004/11/16/04-25303/water-quality-standards-for-coastal-and-great-lakes-recreation-waters)\n",
    "\n",
    "    EPA subsequently recommended the use of E. coli or enterococci for fresh\n",
    "    recreational waters and enterococci for marine recreational waters because\n",
    "    levels of these organisms more accurately predict acute gastrointestinal\n",
    "    illness than levels of fecal coliforms.\n",
    "    \n",
    "    "
   ]
  },
  {
   "cell_type": "markdown",
   "metadata": {},
   "source": [
    "# Linear Regression, the Hard Way"
   ]
  },
  {
   "cell_type": "code",
   "execution_count": 8,
   "metadata": {},
   "outputs": [],
   "source": [
    "# Get and join in the environmewntal dataset\n",
    "env_pkg =  mp.open_package('http://library.metatab.org/sandiegodata.org-water_quality-4.zip')\n",
    "trr = env_pkg.resource('tides_river_rain').read_csv(parse_dates=True).set_index('date')\n",
    "\n",
    "df = beachwatch.set_index('sampledate').join(trr)\n"
   ]
  },
  {
   "cell_type": "code",
   "execution_count": 9,
   "metadata": {},
   "outputs": [
    {
     "name": "stdout",
     "output_type": "stream",
     "text": [
      "[0.33075766] 0.2459889553010444\n"
     ]
    },
    {
     "name": "stderr",
     "output_type": "stream",
     "text": [
      "/Users/eric/proj/virt/water/lib/python3.6/site-packages/sklearn/linear_model/base.py:509: RuntimeWarning: internal gelsd driver lwork query error, required iwork dimension not returned. This is likely the result of LAPACK bug 0038, fixed in LAPACK 3.2.2 (released July 21, 2010). Falling back to 'gelss' driver.\n",
      "  linalg.lstsq(X, y)\n"
     ]
    },
    {
     "data": {
      "text/plain": [
       "Text(0,0.5,'> median')"
      ]
     },
     "execution_count": 9,
     "metadata": {},
     "output_type": "execute_result"
    },
    {
     "data": {
      "image/png": "[encoded data removed]",
      "text/plain": [
       "<Figure size 432x288 with 1 Axes>"
      ]
     },
     "metadata": {},
     "output_type": "display_data"
    }
   ],
   "source": [
    "_1 = df[df.measure_code==24]\n",
    "\n",
    "_2 = pd.DataFrame()\n",
    "\n",
    "_2['y'] = _1.lresult_gt_lmedian \n",
    "_2['X'] = _1.recent_precip.fillna(0)\n",
    "\n",
    "_2.sort_values('X', inplace=True)\n",
    "\n",
    "# fit a linear regression model\n",
    "from sklearn.linear_model import LinearRegression\n",
    "linreg = LinearRegression()\n",
    "\n",
    "linreg.fit(_2[['X']], _2['y'])\n",
    "\n",
    "_2['predict_lin'] = linreg.predict(_2[['X']])\n",
    "lr = _2\n",
    "\n",
    "plt.scatter(lr['X'],lr['y'])\n",
    "plt.plot(lr['X'],lr['predict_lin'], color='red')  \n",
    "\n",
    "# Here is the decision line -- where the prediction linear line\n",
    "# crosses .5\n",
    "plt.plot(lr['X'], np.where(_2['predict_lin'] >= 0.5, 1, 0), color='green')\n",
    "print(linreg.coef_, linreg.intercept_)\n",
    "plt.xlabel('preciptation')\n",
    "plt.ylabel('> median')\n"
   ]
  },
  {
   "cell_type": "markdown",
   "metadata": {},
   "source": [
    "The blue dots are the points for precipitation, divied between those dates with results measurements above the median. THe red line is the regression line through the points, and the gree line is the decision line, which transitions from 0 to 1 when the regression line crosses .5.  "
   ]
  },
  {
   "cell_type": "markdown",
   "metadata": {},
   "source": [
    "# Logistic Regression\n",
    "\n",
    "Much of the sklearn examples come from: \n",
    "\n",
    "http://nbviewer.jupyter.org/github/justmarkham/DAT8/blob/master/notebooks/12_logistic_regression.ipynb"
   ]
  },
  {
   "cell_type": "markdown",
   "metadata": {},
   "source": [
    "## Logistic Regression with sklearn\n",
    "\n",
    "Here we tackle a similar problem to the linear regression  process, but instead use logistic regression. First we will use scikit's LogisticRegression to plot the class predictions curve, then the predictied prbabilities curve. "
   ]
  },
  {
   "cell_type": "code",
   "execution_count": 10,
   "metadata": {},
   "outputs": [],
   "source": [
    "# fit a logistic regression model and store the class predictions\n",
    "from sklearn.linear_model import LogisticRegression\n",
    "logreg = LogisticRegression(C=1e9)\n",
    "\n",
    "logreg.fit(lr[['X']], lr['y'])\n",
    "lr['predict_log'] = logreg.predict(lr[['X']])\n"
   ]
  },
  {
   "cell_type": "markdown",
   "metadata": {},
   "source": [
    "Here are the class redictions, which transitions from 0 to 1, as in the \"hard way\" example. "
   ]
  },
  {
   "cell_type": "code",
   "execution_count": 11,
   "metadata": {},
   "outputs": [
    {
     "data": {
      "image/png": "[encoded data removed]",
      "text/plain": [
       "<Figure size 432x288 with 1 Axes>"
      ]
     },
     "metadata": {},
     "output_type": "display_data"
    }
   ],
   "source": [
    "# plot the class predictions\n",
    "\n",
    "plt.scatter(lr['X'],lr['y']) # The blue dots\n",
    "\n",
    "plt.plot(lr['X'],lr['predict_log'], color='red') # The red line1\n",
    "plt.xlabel('preciptation')\n",
    "plt.ylabel('> median');"
   ]
  },
  {
   "cell_type": "markdown",
   "metadata": {},
   "source": [
    "The predicted probabilities are usually an \"S curve\", with a left tail that asymptotically approches 0, and 1 on the right. The curve for this dataset is a bit wacked.   "
   ]
  },
  {
   "cell_type": "code",
   "execution_count": 12,
   "metadata": {},
   "outputs": [
    {
     "data": {
      "image/png": "[encoded data removed]",
      "text/plain": [
       "<Figure size 432x288 with 1 Axes>"
      ]
     },
     "metadata": {},
     "output_type": "display_data"
    }
   ],
   "source": [
    "# store the predicted probabilites of class 1\n",
    "lr['predict_prob'] = logreg.predict_proba(lr[['X']])[:, 1]\n",
    "\n",
    "# plot the predicted probabilities\n",
    "plt.scatter(lr['X'],lr['y'])\n",
    "\n",
    "plt.plot(lr['X'],lr['predict_prob'], color='red')\n",
    "plt.xlabel('preciptation')\n",
    "plt.ylabel('> median');\n"
   ]
  },
  {
   "cell_type": "markdown",
   "metadata": {},
   "source": [
    "Here are the coefficients, which we can compare to those of the statsmodel code in the next section. "
   ]
  },
  {
   "cell_type": "code",
   "execution_count": 13,
   "metadata": {},
   "outputs": [
    {
     "name": "stdout",
     "output_type": "stream",
     "text": [
      "X coef=[1.84627449], intercept=[-1.12573655]\n"
     ]
    }
   ],
   "source": [
    "print(\"X coef={}, intercept={}\".format(logreg.coef_[0], logreg.intercept_))"
   ]
  },
  {
   "cell_type": "markdown",
   "metadata": {},
   "source": [
    "## Logistic Regression with statsmodel"
   ]
  },
  {
   "cell_type": "code",
   "execution_count": 14,
   "metadata": {},
   "outputs": [],
   "source": [
    "# Function to set up the Logistic Regression run, and also\n",
    "# Generate the odds ratio and confidence intervals\n",
    "\n",
    "def logit(y,X):\n",
    "    import statsmodels.api as sm\n",
    "\n",
    "    X_ = pd.DataFrame()\n",
    "   \n",
    "    X_['X'] = X\n",
    "    X_['const'] = 1\n",
    "\n",
    "    logit_model=sm.Logit(y,X_)\n",
    "    result=logit_model.fit()\n",
    "    print(result.summary())\n",
    "\n",
    "    # Odds ratio and confidence interval\n",
    "    params = result.params\n",
    "    conf = result.conf_int()\n",
    "    conf['OR'] = params\n",
    "    conf.columns = ['2.5%', '97.5%', 'OR']\n",
    "    print(np.exp(conf))"
   ]
  },
  {
   "cell_type": "code",
   "execution_count": 15,
   "metadata": {},
   "outputs": [
    {
     "name": "stdout",
     "output_type": "stream",
     "text": [
      "Optimization terminated successfully.\n",
      "         Current function value: 0.558891\n",
      "         Iterations 6\n",
      "                           Logit Regression Results                           \n",
      "==============================================================================\n",
      "Dep. Variable:                      y   No. Observations:                40349\n",
      "Model:                          Logit   Df Residuals:                    40347\n",
      "Method:                           MLE   Df Model:                            1\n",
      "Date:                Wed, 08 Aug 2018   Pseudo R-squ.:                 0.01177\n",
      "Time:                        13:25:56   Log-Likelihood:                -22551.\n",
      "converged:                       True   LL-Null:                       -22819.\n",
      "                                        LLR p-value:                8.516e-119\n",
      "==============================================================================\n",
      "                 coef    std err          z      P>|z|      [0.025      0.975]\n",
      "------------------------------------------------------------------------------\n",
      "X              1.8463      0.093     19.876      0.000       1.664       2.028\n",
      "const         -1.1257      0.012    -96.229      0.000      -1.149      -1.103\n",
      "==============================================================================\n",
      "           2.5%     97.5%        OR\n",
      "X      5.281532  7.601471  6.336199\n",
      "const  0.317060  0.331938  0.324413\n"
     ]
    }
   ],
   "source": [
    "logit(lr['y'],lr['X'])"
   ]
  },
  {
   "cell_type": "markdown",
   "metadata": {},
   "source": [
    "Awesome! The coefficients  for this  regression are the same as those for #12. "
   ]
  },
  {
   "cell_type": "markdown",
   "metadata": {},
   "source": [
    "# Other Stuff"
   ]
  },
  {
   "cell_type": "code",
   "execution_count": 16,
   "metadata": {
    "scrolled": false
   },
   "outputs": [
    {
     "data": {
      "text/plain": [
       "<matplotlib.axes._subplots.AxesSubplot at 0x10ce92898>"
      ]
     },
     "execution_count": 16,
     "metadata": {},
     "output_type": "execute_result"
    },
    {
     "data": {
      "image/png": "[encoded data removed]",
      "text/plain": [
       "<Figure size 432x288 with 1 Axes>"
      ]
     },
     "metadata": {},
     "output_type": "display_data"
    }
   ],
   "source": [
    "sns.stripplot(y=lr['X'],x=lr['y'])"
   ]
  },
  {
   "cell_type": "markdown",
   "metadata": {},
   "source": [
    "# Crosstabs"
   ]
  },
  {
   "cell_type": "code",
   "execution_count": 17,
   "metadata": {},
   "outputs": [
    {
     "data": {
      "text/html": [
       "<div>\n",
       "<style scoped>\n",
       "    .dataframe tbody tr th:only-of-type {\n",
       "        vertical-align: middle;\n",
       "    }\n",
       "\n",
       "    .dataframe tbody tr th {\n",
       "        vertical-align: top;\n",
       "    }\n",
       "\n",
       "    .dataframe thead th {\n",
       "        text-align: right;\n",
       "    }\n",
       "</style>\n",
       "<table border=\"1\" class=\"dataframe\">\n",
       "  <thead>\n",
       "    <tr style=\"text-align: right;\">\n",
       "      <th>recent_precip</th>\n",
       "      <th>False</th>\n",
       "      <th>True</th>\n",
       "      <th>All</th>\n",
       "    </tr>\n",
       "    <tr>\n",
       "      <th>lresult_gt_lmean</th>\n",
       "      <th></th>\n",
       "      <th></th>\n",
       "      <th></th>\n",
       "    </tr>\n",
       "  </thead>\n",
       "  <tbody>\n",
       "    <tr>\n",
       "      <th>0.0</th>\n",
       "      <td>73.15</td>\n",
       "      <td>3.46</td>\n",
       "      <td>76.61</td>\n",
       "    </tr>\n",
       "    <tr>\n",
       "      <th>1.0</th>\n",
       "      <td>21.18</td>\n",
       "      <td>2.22</td>\n",
       "      <td>23.39</td>\n",
       "    </tr>\n",
       "    <tr>\n",
       "      <th>All</th>\n",
       "      <td>94.32</td>\n",
       "      <td>5.68</td>\n",
       "      <td>100.00</td>\n",
       "    </tr>\n",
       "  </tbody>\n",
       "</table>\n",
       "</div>"
      ],
      "text/plain": [
       "recent_precip     False  True     All\n",
       "lresult_gt_lmean                     \n",
       "0.0               73.15  3.46   76.61\n",
       "1.0               21.18  2.22   23.39\n",
       "All               94.32  5.68  100.00"
      ]
     },
     "execution_count": 17,
     "metadata": {},
     "output_type": "execute_result"
    }
   ],
   "source": [
    "(pd.crosstab(_1.lresult_gt_lmean, _1.recent_precip.fillna(0) > 0, margins=True, normalize='all')*100).round(2)"
   ]
  },
  {
   "cell_type": "code",
   "execution_count": null,
   "metadata": {},
   "outputs": [],
   "source": []
  }
 ],
 "metadata": {
  "kernelspec": {
   "display_name": "Python 3",
   "language": "python",
   "name": "python3"
  },
  "language_info": {
   "codemirror_mode": {
    "name": "ipython",
    "version": 3
   },
   "file_extension": ".py",
   "mimetype": "text/x-python",
   "name": "python",
   "nbconvert_exporter": "python",
   "pygments_lexer": "ipython3",
   "version": "3.6.5"
  }
 },
 "nbformat": 4,
 "nbformat_minor": 2
}
