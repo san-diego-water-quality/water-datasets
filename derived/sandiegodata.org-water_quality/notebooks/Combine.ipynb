{
 "cells": [
  {
   "cell_type": "code",
   "execution_count": 1,
   "metadata": {},
   "outputs": [],
   "source": [
    "import matplotlib.pyplot as plt \n",
    "import metapack as mp\n",
    "import pandas as pd\n",
    "import numpy as np\n",
    "import seaborn as sns\n",
    "%matplotlib inline\n",
    "\n",
    "from metapack.appurl import SearchUrl \n",
    "SearchUrl.initialize()"
   ]
  },
  {
   "cell_type": "code",
   "execution_count": 2,
   "metadata": {},
   "outputs": [
    {
     "data": {
      "text/html": [
       "<h2>Water Project Datasets</h2>\n",
       "<p><p><em>Combined datasets for the Data Library’s Water Quality Project</em></p>\n",
       "<p><small>sandiegodata.org-water_quality-1 from metapack+file:///Users/eric/proj/virt-proj/water/water-datasets/sandiegodata.org-water_quality/metadata.csv</small></p></p>\n",
       "<h3>Documentation</h3>\n",
       "<h3>Contacts</h3>\n",
       "<p><strong>Wrangler:</strong> <a href=\"mailto:eric@civicknowledge.com\">Eric Busboom</a> <a href=\"http://civicknowledge.com\">Civic Knowledge</a></p>\n",
       "<h3>References</h3>\n",
       "<p><ol>\n",
       "<li><p><strong>sd_river_discharge</strong> - <a target=\"_blank\" href=\"file:///Users/eric/proj/virt-proj/water/water-datasets/waterservices.usgs.gov-stream_discharge-fashion_valley_sd/_packages/waterservices.usgs.gov-stream_discharge-fashion_valley_sd-2/data/fashion_valley.csv\">file:///Users/eric/proj/virt-proj/water/water-datasets/waterservices.usgs.gov-stream_discharge-fashion_valley_sd/_packages/waterservices.usgs.gov-stream_discharge-fashion_valley_sd-2/data/fashion_valley.csv</a> </p></li>\n",
       "<li><p><strong>la_jolla_tide</strong> - <a target=\"_blank\" href=\"file:///Users/eric/proj/virt-proj/water/water-datasets/tidesandcurrents.noaa.gov-water_levels-la_jolla/_packages/tidesandcurrents.noaa.gov-water_levels-la_jolla-1/data/water_levels.csv\">file:///Users/eric/proj/virt-proj/water/water-datasets/tidesandcurrents.noaa.gov-water_levels-la_jolla/_packages/tidesandcurrents.noaa.gov-water_levels-la_jolla-1/data/water_levels.csv</a> </p></li>\n",
       "<li><p><strong>local_climate</strong> - <a target=\"_blank\" href=\"file:///Users/eric/proj/virt-proj/water/water-datasets/noaa.gov-localclimate-200808_201807-san/_packages/noaa.gov-localclimate-200808_201807-san-4/data/lcd-san.csv\">file:///Users/eric/proj/virt-proj/water/water-datasets/noaa.gov-localclimate-200808_201807-san/_packages/noaa.gov-localclimate-200808_201807-san-4/data/lcd-san.csv</a> </p></li>\n",
       "<li><p><strong>beachwatch</strong> - <a target=\"_blank\" href=\"file:///Users/eric/proj/virt-proj/water/water-datasets/ceden.waterboards.ca.gov-beachwatch-sandiego/_packages/ceden.waterboards.ca.gov-beachwatch-sandiego-2/data/beachwatch-sd.csv\">file:///Users/eric/proj/virt-proj/water/water-datasets/ceden.waterboards.ca.gov-beachwatch-sandiego/_packages/ceden.waterboards.ca.gov-beachwatch-sandiego-2/data/beachwatch-sd.csv</a> </p></li>\n",
       "<li><p><strong>tmdl</strong> - <a target=\"_blank\" href=\"file:///Users/eric/proj/virt-proj/water/water-datasets/ceden.waterboards.ca.gov-tmdl-sandiego/_packages/ceden.waterboards.ca.gov-tmdl-sandiego-1/data/tmdl-sd.csv\">file:///Users/eric/proj/virt-proj/water/water-datasets/ceden.waterboards.ca.gov-tmdl-sandiego/_packages/ceden.waterboards.ca.gov-tmdl-sandiego-1/data/tmdl-sd.csv</a> </p></li></p>\n",
       "</ol>"
      ],
      "text/plain": [
       "<metapack.doc.MetapackDoc at 0x1125104e0>"
      ]
     },
     "execution_count": 2,
     "metadata": {},
     "output_type": "execute_result"
    }
   ],
   "source": [
    "pkg = mp.jupyter.open_source_package()\n",
    "pkg"
   ]
  },
  {
   "cell_type": "code",
   "execution_count": 3,
   "metadata": {},
   "outputs": [
    {
     "data": {
      "text/html": [
       "<h3><a name=\"resource-water_levels\"></a>water_levels</h3><p><a target=\"_blank\" href=\"file:///Users/eric/proj/virt-proj/water/water-datasets/tidesandcurrents.noaa.gov-water_levels-la_jolla/_packages/tidesandcurrents.noaa.gov-water_levels-la_jolla-1/data/water_levels.csv\">file:///Users/eric/proj/virt-proj/water/water-datasets/tidesandcurrents.noaa.gov-water_levels-la_jolla/_packages/tidesandcurrents.noaa.gov-water_levels-la_jolla-1/data/water_levels.csv</a></p><table>\n",
       "<tr><th>Header</th><th>Type</th><th>Description</th></tr><tr><td>date_time</td><td>datetime</td><td></td></tr> \n",
       "<tr><td>water_level</td><td>number</td><td>Water level, relative to datum, in feet</td></tr> \n",
       "<tr><td>type</td><td>string</td><td>HH Daily high, H High, LL Daily Low, L Low</td></tr> \n",
       "<tr><td>I</td><td>integer</td><td></td></tr> \n",
       "<tr><td>L</td><td>integer</td><td></td></tr> </table>"
      ],
      "text/plain": [
       "<Reference: metadata.csv 25:1 root.reference index:tidesandcurrents.noaa.gov-water_levels-la_jolla#water_levels ['la_jolla_tide', '', '']>"
      ]
     },
     "execution_count": 3,
     "metadata": {},
     "output_type": "execute_result"
    }
   ],
   "source": [
    "r =  pkg.reference('la_jolla_tide')\n",
    "r"
   ]
  },
  {
   "cell_type": "code",
   "execution_count": 4,
   "metadata": {},
   "outputs": [
    {
     "data": {
      "text/html": [
       "<div>\n",
       "<style scoped>\n",
       "    .dataframe tbody tr th:only-of-type {\n",
       "        vertical-align: middle;\n",
       "    }\n",
       "\n",
       "    .dataframe tbody tr th {\n",
       "        vertical-align: top;\n",
       "    }\n",
       "\n",
       "    .dataframe thead th {\n",
       "        text-align: right;\n",
       "    }\n",
       "</style>\n",
       "<table border=\"1\" class=\"dataframe\">\n",
       "  <thead>\n",
       "    <tr style=\"text-align: right;\">\n",
       "      <th></th>\n",
       "      <th>wl_max</th>\n",
       "      <th>wl_max</th>\n",
       "    </tr>\n",
       "    <tr>\n",
       "      <th>date_time</th>\n",
       "      <th></th>\n",
       "      <th></th>\n",
       "    </tr>\n",
       "  </thead>\n",
       "  <tbody>\n",
       "    <tr>\n",
       "      <th>2000-01-01</th>\n",
       "      <td>5.043</td>\n",
       "      <td>5.043</td>\n",
       "    </tr>\n",
       "    <tr>\n",
       "      <th>2000-01-02</th>\n",
       "      <td>4.974</td>\n",
       "      <td>4.974</td>\n",
       "    </tr>\n",
       "    <tr>\n",
       "      <th>2000-01-03</th>\n",
       "      <td>5.234</td>\n",
       "      <td>5.234</td>\n",
       "    </tr>\n",
       "    <tr>\n",
       "      <th>2000-01-04</th>\n",
       "      <td>5.270</td>\n",
       "      <td>5.270</td>\n",
       "    </tr>\n",
       "    <tr>\n",
       "      <th>2000-01-05</th>\n",
       "      <td>5.617</td>\n",
       "      <td>5.617</td>\n",
       "    </tr>\n",
       "  </tbody>\n",
       "</table>\n",
       "</div>"
      ],
      "text/plain": [
       "            wl_max  wl_max\n",
       "date_time                 \n",
       "2000-01-01   5.043   5.043\n",
       "2000-01-02   4.974   4.974\n",
       "2000-01-03   5.234   5.234\n",
       "2000-01-04   5.270   5.270\n",
       "2000-01-05   5.617   5.617"
      ]
     },
     "execution_count": 4,
     "metadata": {},
     "output_type": "execute_result"
    }
   ],
   "source": [
    "water_levels = r.read_csv(parse_dates=True)\n",
    "wl_by_day = water_levels.set_index(['date_time','type']).water_level.unstack(1).resample('1d').max()\n",
    "wl_by_day.columns = ['wl_high_1', 'wl_high_2', 'wl_low_1','wl_low_2']\n",
    "wl_by_day['wl_max'] = np.maximum(wl_by_day.wl_high_1, wl_by_day.wl_high_2 )\n",
    "wl_by_day['wl_min'] = np.maximum(wl_by_day.wl_low_1, wl_by_day.wl_low_2 )\n",
    "wl_by_day = wl_by_day[['wl_max','wl_min']]\n",
    "wl_by_day.head()"
   ]
  },
  {
   "cell_type": "code",
   "execution_count": 5,
   "metadata": {},
   "outputs": [
    {
     "data": {
      "text/html": [
       "<div>\n",
       "<style scoped>\n",
       "    .dataframe tbody tr th:only-of-type {\n",
       "        vertical-align: middle;\n",
       "    }\n",
       "\n",
       "    .dataframe tbody tr th {\n",
       "        vertical-align: top;\n",
       "    }\n",
       "\n",
       "    .dataframe thead th {\n",
       "        text-align: right;\n",
       "    }\n",
       "</style>\n",
       "<table border=\"1\" class=\"dataframe\">\n",
       "  <thead>\n",
       "    <tr style=\"text-align: right;\">\n",
       "      <th></th>\n",
       "      <th>discharge_rate</th>\n",
       "    </tr>\n",
       "    <tr>\n",
       "      <th>datetime</th>\n",
       "      <th></th>\n",
       "    </tr>\n",
       "  </thead>\n",
       "  <tbody>\n",
       "    <tr>\n",
       "      <th>1988-01-01</th>\n",
       "      <td>22.0</td>\n",
       "    </tr>\n",
       "    <tr>\n",
       "      <th>1988-01-02</th>\n",
       "      <td>20.0</td>\n",
       "    </tr>\n",
       "    <tr>\n",
       "      <th>1988-01-03</th>\n",
       "      <td>18.0</td>\n",
       "    </tr>\n",
       "    <tr>\n",
       "      <th>1988-01-04</th>\n",
       "      <td>18.0</td>\n",
       "    </tr>\n",
       "    <tr>\n",
       "      <th>1988-01-05</th>\n",
       "      <td>21.0</td>\n",
       "    </tr>\n",
       "  </tbody>\n",
       "</table>\n",
       "</div>"
      ],
      "text/plain": [
       "            discharge_rate\n",
       "datetime                  \n",
       "1988-01-01            22.0\n",
       "1988-01-02            20.0\n",
       "1988-01-03            18.0\n",
       "1988-01-04            18.0\n",
       "1988-01-05            21.0"
      ]
     },
     "execution_count": 5,
     "metadata": {},
     "output_type": "execute_result"
    }
   ],
   "source": [
    "dist = pkg.reference('sd_river_discharge').read_csv(parse_dates=True).set_index('datetime').resample('1d').mean()\n",
    "dist = dist[['discharge_rate']].copy()\n",
    "dist.head()"
   ]
  },
  {
   "cell_type": "code",
   "execution_count": 6,
   "metadata": {},
   "outputs": [],
   "source": [
    "usecols = ['date', 'reporttpye', 'dailyprecip', 'hourlyprecip']\n",
    "lcd = pkg.reference('local_climate').read_csv(parse_dates=True, usecols=usecols) #.set_index('datetime').resample('1d').mean()\n",
    "\n",
    "lcd.rename(columns={'reporttpye': 'reporttype'}, inplace=True)\n",
    "lcd = lcd[lcd.reporttype=='FM-15'].copy()\n",
    "lcd.fillna(0, inplace=True)\n",
    "lcd['date'] = lcd.date.dt.date\n",
    "lcd = lcd.groupby('date').dailyprecip.max()\n"
   ]
  },
  {
   "cell_type": "code",
   "execution_count": 7,
   "metadata": {},
   "outputs": [
    {
     "data": {
      "text/html": [
       "<div>\n",
       "<style scoped>\n",
       "    .dataframe tbody tr th:only-of-type {\n",
       "        vertical-align: middle;\n",
       "    }\n",
       "\n",
       "    .dataframe tbody tr th {\n",
       "        vertical-align: top;\n",
       "    }\n",
       "\n",
       "    .dataframe thead th {\n",
       "        text-align: right;\n",
       "    }\n",
       "</style>\n",
       "<table border=\"1\" class=\"dataframe\">\n",
       "  <thead>\n",
       "    <tr style=\"text-align: right;\">\n",
       "      <th></th>\n",
       "      <th>discharge_rate</th>\n",
       "      <th>dailyprecip</th>\n",
       "      <th>wl_max</th>\n",
       "      <th>wl_max</th>\n",
       "    </tr>\n",
       "    <tr>\n",
       "      <th>datetime</th>\n",
       "      <th></th>\n",
       "      <th></th>\n",
       "      <th></th>\n",
       "      <th></th>\n",
       "    </tr>\n",
       "  </thead>\n",
       "  <tbody>\n",
       "    <tr>\n",
       "      <th>1988-01-01</th>\n",
       "      <td>22.0</td>\n",
       "      <td>NaN</td>\n",
       "      <td>NaN</td>\n",
       "      <td>NaN</td>\n",
       "    </tr>\n",
       "    <tr>\n",
       "      <th>1988-01-02</th>\n",
       "      <td>20.0</td>\n",
       "      <td>NaN</td>\n",
       "      <td>NaN</td>\n",
       "      <td>NaN</td>\n",
       "    </tr>\n",
       "    <tr>\n",
       "      <th>1988-01-03</th>\n",
       "      <td>18.0</td>\n",
       "      <td>NaN</td>\n",
       "      <td>NaN</td>\n",
       "      <td>NaN</td>\n",
       "    </tr>\n",
       "    <tr>\n",
       "      <th>1988-01-04</th>\n",
       "      <td>18.0</td>\n",
       "      <td>NaN</td>\n",
       "      <td>NaN</td>\n",
       "      <td>NaN</td>\n",
       "    </tr>\n",
       "    <tr>\n",
       "      <th>1988-01-05</th>\n",
       "      <td>21.0</td>\n",
       "      <td>NaN</td>\n",
       "      <td>NaN</td>\n",
       "      <td>NaN</td>\n",
       "    </tr>\n",
       "  </tbody>\n",
       "</table>\n",
       "</div>"
      ],
      "text/plain": [
       "            discharge_rate  dailyprecip  wl_max  wl_max\n",
       "datetime                                               \n",
       "1988-01-01            22.0          NaN     NaN     NaN\n",
       "1988-01-02            20.0          NaN     NaN     NaN\n",
       "1988-01-03            18.0          NaN     NaN     NaN\n",
       "1988-01-04            18.0          NaN     NaN     NaN\n",
       "1988-01-05            21.0          NaN     NaN     NaN"
      ]
     },
     "execution_count": 7,
     "metadata": {},
     "output_type": "execute_result"
    }
   ],
   "source": [
    "comb = dist.join(lcd).join(wl_by_day)\n",
    "comb.head()"
   ]
  },
  {
   "cell_type": "code",
   "execution_count": 8,
   "metadata": {},
   "outputs": [
    {
     "data": {
      "text/html": [
       "<div>\n",
       "<style scoped>\n",
       "    .dataframe tbody tr th:only-of-type {\n",
       "        vertical-align: middle;\n",
       "    }\n",
       "\n",
       "    .dataframe tbody tr th {\n",
       "        vertical-align: top;\n",
       "    }\n",
       "\n",
       "    .dataframe thead th {\n",
       "        text-align: right;\n",
       "    }\n",
       "</style>\n",
       "<table border=\"1\" class=\"dataframe\">\n",
       "  <thead>\n",
       "    <tr style=\"text-align: right;\">\n",
       "      <th></th>\n",
       "      <th>discharge_rate</th>\n",
       "      <th>dailyprecip</th>\n",
       "      <th>wl_max</th>\n",
       "      <th>wl_max</th>\n",
       "    </tr>\n",
       "  </thead>\n",
       "  <tbody>\n",
       "    <tr>\n",
       "      <th>discharge_rate</th>\n",
       "      <td>1.000000</td>\n",
       "      <td>0.637036</td>\n",
       "      <td>0.045262</td>\n",
       "      <td>0.045262</td>\n",
       "    </tr>\n",
       "    <tr>\n",
       "      <th>dailyprecip</th>\n",
       "      <td>0.637036</td>\n",
       "      <td>1.000000</td>\n",
       "      <td>0.050992</td>\n",
       "      <td>0.050992</td>\n",
       "    </tr>\n",
       "    <tr>\n",
       "      <th>wl_max</th>\n",
       "      <td>0.045262</td>\n",
       "      <td>0.050992</td>\n",
       "      <td>1.000000</td>\n",
       "      <td>1.000000</td>\n",
       "    </tr>\n",
       "    <tr>\n",
       "      <th>wl_max</th>\n",
       "      <td>0.045262</td>\n",
       "      <td>0.050992</td>\n",
       "      <td>1.000000</td>\n",
       "      <td>1.000000</td>\n",
       "    </tr>\n",
       "  </tbody>\n",
       "</table>\n",
       "</div>"
      ],
      "text/plain": [
       "                discharge_rate  dailyprecip    wl_max    wl_max\n",
       "discharge_rate        1.000000     0.637036  0.045262  0.045262\n",
       "dailyprecip           0.637036     1.000000  0.050992  0.050992\n",
       "wl_max                0.045262     0.050992  1.000000  1.000000\n",
       "wl_max                0.045262     0.050992  1.000000  1.000000"
      ]
     },
     "execution_count": 8,
     "metadata": {},
     "output_type": "execute_result"
    }
   ],
   "source": [
    "comb.corr()"
   ]
  },
  {
   "cell_type": "code",
   "execution_count": null,
   "metadata": {},
   "outputs": [],
   "source": []
  }
 ],
 "metadata": {
  "kernelspec": {
   "display_name": "Python 3",
   "language": "python",
   "name": "python3"
  },
  "language_info": {
   "codemirror_mode": {
    "name": "ipython",
    "version": 3
   },
   "file_extension": ".py",
   "mimetype": "text/x-python",
   "name": "python",
   "nbconvert_exporter": "python",
   "pygments_lexer": "ipython3",
   "version": "3.6.5"
  }
 },
 "nbformat": 4,
 "nbformat_minor": 2
}
