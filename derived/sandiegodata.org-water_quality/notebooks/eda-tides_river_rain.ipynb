{
 "cells": [
  {
   "cell_type": "markdown",
   "metadata": {},
   "source": [
    "# Exploratory Data Analysis\n",
    "\n",
    "When placed in Metapack data package, this notebook will load the package and run a variety of common EDA operations on the first resource. \n"
   ]
  },
  {
   "cell_type": "code",
   "execution_count": 1,
   "metadata": {},
   "outputs": [],
   "source": [
    "import matplotlib.pyplot as plt \n",
    "import seaborn as sns\n",
    "import metapack as mp\n",
    "import pandas as pd\n",
    "import numpy as np\n",
    "from IPython.display import display \n",
    "\n",
    "%matplotlib inline\n",
    "sns.set_context('notebook')\n"
   ]
  },
  {
   "cell_type": "code",
   "execution_count": 2,
   "metadata": {},
   "outputs": [
    {
     "data": {
      "text/html": [
       "<h2>Water Project Datasets</h2>\n",
       "<p><p><em>Combined datasets for the Data Library’s Water Quality Project</em></p>\n",
       "<p><small>sandiegodata.org-water_quality-4 from metapack+file:///Users/eric/proj/virt-proj/water/water-datasets/derived/sandiegodata.org-water_quality/_packages/sandiegodata.org-water_quality-4/metadata.csv</small></p></p>\n",
       "<p>This package combines three other datasets for use in the water quality data\n",
       "ptoject:</p>\n",
       "<pre><code>* waterservices.usgs.gov-stream_discharge-fashion_valley_sd\n",
       "* tidesandcurrents.noaa.gov-water_levels-la_jolla#water_levels\n",
       "* noaa.gov-localclimate-200808_201807-san#lcd-san\n",
       "</code></pre>\n",
       "<p>The resulting dataset has daily values for rainfall, flow rate for the San\n",
       "Diego river, and the max and min tide level at La Jolla.</p>\n",
       "<p>See the <a href=\"https://github.com/san-diego-water-quality/water-datasets/blob/master/\n",
       "sandiegodata.org-water_quality/notebooks/eda-tides_river_rain.ipynb\">EDA\n",
       "Notebook</a> for\n",
       "details of the structure of the data, in particular, the time coverage in the\n",
       "Nulls section.</p>\n",
       "<h1>Versions</h1>\n",
       "<ol>\n",
       "<li>Initial</li>\n",
       "<li>Continued development</li>\n",
       "<li>First release</li>\n",
       "<li>Added rolling averages</li>\n",
       "</ol>\n",
       "<h3>Documentation</h3>\n",
       "<h3>Contacts</h3>\n",
       "<p><strong>Wrangler:</strong> <a href=\"mailto:eric@civicknowledge.com\">Eric Busboom</a> <a href=\"http://civicknowledge.com\">Civic Knowledge</a></p>\n",
       "<h3>Resources</h3>\n",
       "<p><ol>\n",
       "<li><p><strong>tides_river_rain</strong> - <a target=\"_blank\" href=\"file:///Users/eric/proj/virt-proj/water/water-datasets/derived/sandiegodata.org-water_quality/_packages/sandiegodata.org-water_quality-4/data/tides_river_rain.csv\">file:///Users/eric/proj/virt-proj/water/water-datasets/derived/sandiegodata.org-water_quality/_packages/sandiegodata.org-water_quality-4/data/tides_river_rain.csv</a> Combined max, min tides, San Diego river flow and daily precipitation</p></li></p>\n",
       "</ol>\n",
       "\n",
       "<h3>References</h3>\n",
       "<p><ol>\n",
       "<li><p><strong>sd_river_discharge</strong> - <a target=\"_blank\" href=\"index:waterservices.usgs.gov-stream_discharge-fashion_valley_sd#fashion_valley\">index:waterservices.usgs.gov-stream_discharge-fashion_valley_sd#fashion_valley</a> Stream discharge rates for the San Diego River, Fashion Valley Station.</p></li>\n",
       "<li><p><strong>la_jolla_tide</strong> - <a target=\"_blank\" href=\"index:tidesandcurrents.noaa.gov-water_levels-la_jolla#water_levels\">index:tidesandcurrents.noaa.gov-water_levels-la_jolla#water_levels</a> High and Low Ocean water levels for the La Jolla station.</p></li>\n",
       "<li><p><strong>local_climate</strong> - <a target=\"_blank\" href=\"index:noaa.gov-localclimate-200808_201807-san#lcd-san\">index:noaa.gov-localclimate-200808_201807-san#lcd-san</a> Local climate data for San Diego</p></li></p>\n",
       "</ol>"
      ],
      "text/plain": [
       "<metapack.doc.MetapackDoc at 0x10aedd1d0>"
      ]
     },
     "execution_count": 2,
     "metadata": {},
     "output_type": "execute_result"
    }
   ],
   "source": [
    "pkg = mp.jupyter.open_package()\n",
    "\n",
    "# For testing and development\n",
    "#pkg = mp.open_package('http://s3.amazonaws.com/library.metatab.org/cde.ca.gov-accountability_dashboard-2.zip')\n",
    "\n",
    "pkg"
   ]
  },
  {
   "cell_type": "code",
   "execution_count": 3,
   "metadata": {
    "tags": [
     "resource_name"
    ]
   },
   "outputs": [],
   "source": [
    "resource_name='tides_river_rain'"
   ]
  },
  {
   "cell_type": "code",
   "execution_count": 4,
   "metadata": {},
   "outputs": [
    {
     "data": {
      "text/html": [
       "<h3><a name=\"resource-tides_river_rain\"></a>tides_river_rain</h3><p><a target=\"_blank\" href=\"file:///Users/eric/proj/virt-proj/water/water-datasets/derived/sandiegodata.org-water_quality/_packages/sandiegodata.org-water_quality-4/data/tides_river_rain.csv\">file:///Users/eric/proj/virt-proj/water/water-datasets/derived/sandiegodata.org-water_quality/_packages/sandiegodata.org-water_quality-4/data/tides_river_rain.csv</a></p><table>\n",
       "<tr><th>Header</th><th>Type</th><th>Description</th></tr><tr><td>date</td><td>date</td><td>date</td></tr> \n",
       "<tr><td>discharge_rate</td><td>number</td><td>Discharge rate, in cubic feet per second, for the San Diego River at Fashion Valley</td></tr> \n",
       "<tr><td>recent_total_discharge</td><td>number</td><td>Rolling three day sum of discharge_rate</td></tr> \n",
       "<tr><td>recent_max_discharge</td><td>number</td><td>Rolling three day max of discharge_rate</td></tr> \n",
       "<tr><td>dailyprecip</td><td>string</td><td>Daily precipitation, in inches, at Lindberg Field</td></tr> \n",
       "<tr><td>recent_precip</td><td>number</td><td>Rolling three day sum of dailyprecip</td></tr> \n",
       "<tr><td>wl_max</td><td>string</td><td>Max ocean water level, in feet, at La Jolla</td></tr> \n",
       "<tr><td>wl_min</td><td>string</td><td>Min water level, in feet, at La Jolla</td></tr> </table>"
      ],
      "text/plain": [
       "<Resource: metadata.csv 31:1 root.datafile data/tides_river_rain.csv ['tides_river_rain', 'Combined max, min tides, San Diego river flow and daily precipitation', '']>"
      ]
     },
     "execution_count": 4,
     "metadata": {},
     "output_type": "execute_result"
    }
   ],
   "source": [
    "pkg.resource(resource_name)"
   ]
  },
  {
   "cell_type": "code",
   "execution_count": 5,
   "metadata": {},
   "outputs": [],
   "source": [
    "df = pkg.resource(resource_name).read_csv(parse_dates=True)"
   ]
  },
  {
   "cell_type": "code",
   "execution_count": 6,
   "metadata": {},
   "outputs": [
    {
     "data": {
      "text/html": [
       "<div>\n",
       "<style scoped>\n",
       "    .dataframe tbody tr th:only-of-type {\n",
       "        vertical-align: middle;\n",
       "    }\n",
       "\n",
       "    .dataframe tbody tr th {\n",
       "        vertical-align: top;\n",
       "    }\n",
       "\n",
       "    .dataframe thead th {\n",
       "        text-align: right;\n",
       "    }\n",
       "</style>\n",
       "<table border=\"1\" class=\"dataframe\">\n",
       "  <thead>\n",
       "    <tr style=\"text-align: right;\">\n",
       "      <th></th>\n",
       "      <th>date</th>\n",
       "      <th>discharge_rate</th>\n",
       "      <th>recent_total_discharge</th>\n",
       "      <th>recent_max_discharge</th>\n",
       "      <th>dailyprecip</th>\n",
       "      <th>recent_precip</th>\n",
       "      <th>wl_max</th>\n",
       "      <th>wl_min</th>\n",
       "    </tr>\n",
       "  </thead>\n",
       "  <tbody>\n",
       "    <tr>\n",
       "      <th>0</th>\n",
       "      <td>1988-01-01</td>\n",
       "      <td>22.0</td>\n",
       "      <td>22.0</td>\n",
       "      <td>22.0</td>\n",
       "      <td>NaN</td>\n",
       "      <td>NaN</td>\n",
       "      <td>NaN</td>\n",
       "      <td>NaN</td>\n",
       "    </tr>\n",
       "    <tr>\n",
       "      <th>1</th>\n",
       "      <td>1988-01-02</td>\n",
       "      <td>20.0</td>\n",
       "      <td>42.0</td>\n",
       "      <td>42.0</td>\n",
       "      <td>NaN</td>\n",
       "      <td>NaN</td>\n",
       "      <td>NaN</td>\n",
       "      <td>NaN</td>\n",
       "    </tr>\n",
       "    <tr>\n",
       "      <th>2</th>\n",
       "      <td>1988-01-03</td>\n",
       "      <td>18.0</td>\n",
       "      <td>60.0</td>\n",
       "      <td>60.0</td>\n",
       "      <td>NaN</td>\n",
       "      <td>NaN</td>\n",
       "      <td>NaN</td>\n",
       "      <td>NaN</td>\n",
       "    </tr>\n",
       "    <tr>\n",
       "      <th>3</th>\n",
       "      <td>1988-01-04</td>\n",
       "      <td>18.0</td>\n",
       "      <td>56.0</td>\n",
       "      <td>60.0</td>\n",
       "      <td>NaN</td>\n",
       "      <td>NaN</td>\n",
       "      <td>NaN</td>\n",
       "      <td>NaN</td>\n",
       "    </tr>\n",
       "    <tr>\n",
       "      <th>4</th>\n",
       "      <td>1988-01-05</td>\n",
       "      <td>21.0</td>\n",
       "      <td>57.0</td>\n",
       "      <td>60.0</td>\n",
       "      <td>NaN</td>\n",
       "      <td>NaN</td>\n",
       "      <td>NaN</td>\n",
       "      <td>NaN</td>\n",
       "    </tr>\n",
       "  </tbody>\n",
       "</table>\n",
       "</div>"
      ],
      "text/plain": [
       "        date  discharge_rate  recent_total_discharge  recent_max_discharge  \\\n",
       "0 1988-01-01            22.0                    22.0                  22.0   \n",
       "1 1988-01-02            20.0                    42.0                  42.0   \n",
       "2 1988-01-03            18.0                    60.0                  60.0   \n",
       "3 1988-01-04            18.0                    56.0                  60.0   \n",
       "4 1988-01-05            21.0                    57.0                  60.0   \n",
       "\n",
       "   dailyprecip  recent_precip  wl_max  wl_min  \n",
       "0          NaN            NaN     NaN     NaN  \n",
       "1          NaN            NaN     NaN     NaN  \n",
       "2          NaN            NaN     NaN     NaN  \n",
       "3          NaN            NaN     NaN     NaN  \n",
       "4          NaN            NaN     NaN     NaN  "
      ]
     },
     "execution_count": 6,
     "metadata": {},
     "output_type": "execute_result"
    }
   ],
   "source": [
    "df.head()"
   ]
  },
  {
   "cell_type": "code",
   "execution_count": 7,
   "metadata": {},
   "outputs": [],
   "source": [
    "empty_col_names = [cn for cn in df.columns if df[cn].nunique() == 0]\n",
    "const_col_names= [cn for cn in df.columns if df[cn].nunique() == 1]\n",
    "ignore_cols = empty_col_names+const_col_names\n",
    "dt_col_names= list(df.select_dtypes(include=[np.datetime64]).columns)\n",
    "\n",
    "number_col_names = [ cn for cn in df.select_dtypes(include=[np.number]).columns if cn not in ignore_cols ]\n",
    "other_col_names = [cn for cn in df.columns if cn not in (empty_col_names+const_col_names+dt_col_names+number_col_names)]"
   ]
  },
  {
   "cell_type": "code",
   "execution_count": 8,
   "metadata": {},
   "outputs": [
    {
     "data": {
      "text/html": [
       "<div>\n",
       "<style scoped>\n",
       "    .dataframe tbody tr th:only-of-type {\n",
       "        vertical-align: middle;\n",
       "    }\n",
       "\n",
       "    .dataframe tbody tr th {\n",
       "        vertical-align: top;\n",
       "    }\n",
       "\n",
       "    .dataframe thead th {\n",
       "        text-align: right;\n",
       "    }\n",
       "</style>\n",
       "<table border=\"1\" class=\"dataframe\">\n",
       "  <thead>\n",
       "    <tr style=\"text-align: right;\">\n",
       "      <th></th>\n",
       "      <th>count</th>\n",
       "    </tr>\n",
       "  </thead>\n",
       "  <tbody>\n",
       "    <tr>\n",
       "      <th>empty</th>\n",
       "      <td>0</td>\n",
       "    </tr>\n",
       "    <tr>\n",
       "      <th>const</th>\n",
       "      <td>0</td>\n",
       "    </tr>\n",
       "    <tr>\n",
       "      <th>datetime</th>\n",
       "      <td>1</td>\n",
       "    </tr>\n",
       "    <tr>\n",
       "      <th>number</th>\n",
       "      <td>7</td>\n",
       "    </tr>\n",
       "    <tr>\n",
       "      <th>other</th>\n",
       "      <td>0</td>\n",
       "    </tr>\n",
       "  </tbody>\n",
       "</table>\n",
       "</div>"
      ],
      "text/plain": [
       "          count\n",
       "empty         0\n",
       "const         0\n",
       "datetime      1\n",
       "number        7\n",
       "other         0"
      ]
     },
     "execution_count": 8,
     "metadata": {},
     "output_type": "execute_result"
    }
   ],
   "source": [
    "pd.DataFrame.from_dict({'empty':[len(empty_col_names)], \n",
    "                        'const':[len(const_col_names)],\n",
    "                        'datetime':[len(dt_col_names)],\n",
    "                        'number':[len(number_col_names)],\n",
    "                        'other':[len(other_col_names)],\n",
    "                       }, \n",
    "                       orient='index', columns=['count'])"
   ]
  },
  {
   "cell_type": "markdown",
   "metadata": {},
   "source": [
    "# Constant Columns"
   ]
  },
  {
   "cell_type": "code",
   "execution_count": 9,
   "metadata": {},
   "outputs": [],
   "source": [
    "if const_col_names:\n",
    "    display(df[const_col_names].drop_duplicates().T)"
   ]
  },
  {
   "cell_type": "markdown",
   "metadata": {},
   "source": [
    "# Empty Columns"
   ]
  },
  {
   "cell_type": "code",
   "execution_count": 10,
   "metadata": {},
   "outputs": [],
   "source": [
    "if empty_col_names:\n",
    "    display(df[empty_col_names].drop_duplicates().T)"
   ]
  },
  {
   "cell_type": "markdown",
   "metadata": {},
   "source": [
    "# Date and Time Columns"
   ]
  },
  {
   "cell_type": "code",
   "execution_count": 11,
   "metadata": {},
   "outputs": [
    {
     "name": "stdout",
     "output_type": "stream",
     "text": [
      "<class 'pandas.core.frame.DataFrame'>\n",
      "RangeIndex: 11171 entries, 0 to 11170\n",
      "Data columns (total 1 columns):\n",
      "date    11171 non-null datetime64[ns]\n",
      "dtypes: datetime64[ns](1)\n",
      "memory usage: 87.4 KB\n"
     ]
    },
    {
     "data": {
      "text/plain": [
       "None"
      ]
     },
     "metadata": {},
     "output_type": "display_data"
    },
    {
     "data": {
      "text/html": [
       "<div>\n",
       "<style scoped>\n",
       "    .dataframe tbody tr th:only-of-type {\n",
       "        vertical-align: middle;\n",
       "    }\n",
       "\n",
       "    .dataframe tbody tr th {\n",
       "        vertical-align: top;\n",
       "    }\n",
       "\n",
       "    .dataframe thead th {\n",
       "        text-align: right;\n",
       "    }\n",
       "</style>\n",
       "<table border=\"1\" class=\"dataframe\">\n",
       "  <thead>\n",
       "    <tr style=\"text-align: right;\">\n",
       "      <th></th>\n",
       "      <th>count</th>\n",
       "      <th>unique</th>\n",
       "      <th>top</th>\n",
       "      <th>freq</th>\n",
       "      <th>first</th>\n",
       "      <th>last</th>\n",
       "    </tr>\n",
       "  </thead>\n",
       "  <tbody>\n",
       "    <tr>\n",
       "      <th>date</th>\n",
       "      <td>11171</td>\n",
       "      <td>11171</td>\n",
       "      <td>1989-12-27 00:00:00</td>\n",
       "      <td>1</td>\n",
       "      <td>1988-01-01 00:00:00</td>\n",
       "      <td>2018-08-01 00:00:00</td>\n",
       "    </tr>\n",
       "  </tbody>\n",
       "</table>\n",
       "</div>"
      ],
      "text/plain": [
       "      count unique                  top freq                first  \\\n",
       "date  11171  11171  1989-12-27 00:00:00    1  1988-01-01 00:00:00   \n",
       "\n",
       "                     last  \n",
       "date  2018-08-01 00:00:00  "
      ]
     },
     "metadata": {},
     "output_type": "display_data"
    }
   ],
   "source": [
    "if dt_col_names:\n",
    "    display(df[dt_col_names].info())\n",
    "    display(df[dt_col_names].describe().T)"
   ]
  },
  {
   "cell_type": "markdown",
   "metadata": {},
   "source": [
    "# Number Columns"
   ]
  },
  {
   "cell_type": "code",
   "execution_count": 12,
   "metadata": {},
   "outputs": [
    {
     "name": "stdout",
     "output_type": "stream",
     "text": [
      "<class 'pandas.core.frame.DataFrame'>\n",
      "RangeIndex: 11171 entries, 0 to 11170\n",
      "Data columns (total 7 columns):\n",
      "discharge_rate            11171 non-null float64\n",
      "recent_total_discharge    11171 non-null float64\n",
      "recent_max_discharge      11171 non-null float64\n",
      "dailyprecip               3626 non-null float64\n",
      "recent_precip             3628 non-null float64\n",
      "wl_max                    5877 non-null float64\n",
      "wl_min                    5874 non-null float64\n",
      "dtypes: float64(7)\n",
      "memory usage: 611.0 KB\n"
     ]
    },
    {
     "data": {
      "text/plain": [
       "None"
      ]
     },
     "metadata": {},
     "output_type": "display_data"
    },
    {
     "data": {
      "text/html": [
       "<div>\n",
       "<style scoped>\n",
       "    .dataframe tbody tr th:only-of-type {\n",
       "        vertical-align: middle;\n",
       "    }\n",
       "\n",
       "    .dataframe tbody tr th {\n",
       "        vertical-align: top;\n",
       "    }\n",
       "\n",
       "    .dataframe thead th {\n",
       "        text-align: right;\n",
       "    }\n",
       "</style>\n",
       "<table border=\"1\" class=\"dataframe\">\n",
       "  <thead>\n",
       "    <tr style=\"text-align: right;\">\n",
       "      <th></th>\n",
       "      <th>count</th>\n",
       "      <th>mean</th>\n",
       "      <th>std</th>\n",
       "      <th>min</th>\n",
       "      <th>25%</th>\n",
       "      <th>50%</th>\n",
       "      <th>75%</th>\n",
       "      <th>max</th>\n",
       "    </tr>\n",
       "  </thead>\n",
       "  <tbody>\n",
       "    <tr>\n",
       "      <th>discharge_rate</th>\n",
       "      <td>11171.0</td>\n",
       "      <td>33.040670</td>\n",
       "      <td>155.871812</td>\n",
       "      <td>0.000</td>\n",
       "      <td>1.760</td>\n",
       "      <td>5.450</td>\n",
       "      <td>16.00000</td>\n",
       "      <td>5800.000</td>\n",
       "    </tr>\n",
       "    <tr>\n",
       "      <th>recent_total_discharge</th>\n",
       "      <td>11171.0</td>\n",
       "      <td>99.121869</td>\n",
       "      <td>386.138083</td>\n",
       "      <td>0.000</td>\n",
       "      <td>5.310</td>\n",
       "      <td>17.030</td>\n",
       "      <td>51.45000</td>\n",
       "      <td>9260.000</td>\n",
       "    </tr>\n",
       "    <tr>\n",
       "      <th>recent_max_discharge</th>\n",
       "      <td>11171.0</td>\n",
       "      <td>133.853686</td>\n",
       "      <td>497.145333</td>\n",
       "      <td>0.000</td>\n",
       "      <td>5.610</td>\n",
       "      <td>18.600</td>\n",
       "      <td>64.00000</td>\n",
       "      <td>9260.000</td>\n",
       "    </tr>\n",
       "    <tr>\n",
       "      <th>dailyprecip</th>\n",
       "      <td>3626.0</td>\n",
       "      <td>0.024589</td>\n",
       "      <td>0.138527</td>\n",
       "      <td>0.000</td>\n",
       "      <td>0.000</td>\n",
       "      <td>0.000</td>\n",
       "      <td>0.00000</td>\n",
       "      <td>2.700</td>\n",
       "    </tr>\n",
       "    <tr>\n",
       "      <th>recent_precip</th>\n",
       "      <td>3628.0</td>\n",
       "      <td>0.073727</td>\n",
       "      <td>0.280030</td>\n",
       "      <td>-0.000</td>\n",
       "      <td>0.000</td>\n",
       "      <td>0.000</td>\n",
       "      <td>0.00000</td>\n",
       "      <td>4.080</td>\n",
       "    </tr>\n",
       "    <tr>\n",
       "      <th>wl_max</th>\n",
       "      <td>5877.0</td>\n",
       "      <td>5.460670</td>\n",
       "      <td>0.760847</td>\n",
       "      <td>3.360</td>\n",
       "      <td>4.902</td>\n",
       "      <td>5.453</td>\n",
       "      <td>5.98800</td>\n",
       "      <td>7.812</td>\n",
       "    </tr>\n",
       "    <tr>\n",
       "      <th>wl_min</th>\n",
       "      <td>5874.0</td>\n",
       "      <td>1.926291</td>\n",
       "      <td>0.698517</td>\n",
       "      <td>-1.148</td>\n",
       "      <td>1.484</td>\n",
       "      <td>1.999</td>\n",
       "      <td>2.42125</td>\n",
       "      <td>3.885</td>\n",
       "    </tr>\n",
       "  </tbody>\n",
       "</table>\n",
       "</div>"
      ],
      "text/plain": [
       "                          count        mean         std    min    25%     50%  \\\n",
       "discharge_rate          11171.0   33.040670  155.871812  0.000  1.760   5.450   \n",
       "recent_total_discharge  11171.0   99.121869  386.138083  0.000  5.310  17.030   \n",
       "recent_max_discharge    11171.0  133.853686  497.145333  0.000  5.610  18.600   \n",
       "dailyprecip              3626.0    0.024589    0.138527  0.000  0.000   0.000   \n",
       "recent_precip            3628.0    0.073727    0.280030 -0.000  0.000   0.000   \n",
       "wl_max                   5877.0    5.460670    0.760847  3.360  4.902   5.453   \n",
       "wl_min                   5874.0    1.926291    0.698517 -1.148  1.484   1.999   \n",
       "\n",
       "                             75%       max  \n",
       "discharge_rate          16.00000  5800.000  \n",
       "recent_total_discharge  51.45000  9260.000  \n",
       "recent_max_discharge    64.00000  9260.000  \n",
       "dailyprecip              0.00000     2.700  \n",
       "recent_precip            0.00000     4.080  \n",
       "wl_max                   5.98800     7.812  \n",
       "wl_min                   2.42125     3.885  "
      ]
     },
     "metadata": {},
     "output_type": "display_data"
    }
   ],
   "source": [
    "if number_col_names:\n",
    "    display(df[number_col_names].info())\n",
    "    display(df[number_col_names].describe().T)"
   ]
  },
  {
   "cell_type": "code",
   "execution_count": 13,
   "metadata": {
    "scrolled": false
   },
   "outputs": [],
   "source": [
    "def plot_histograms(df):\n",
    "\n",
    "    col_names = list(df.columns)\n",
    "\n",
    "    n_cols = np.ceil(np.sqrt(len(col_names)))\n",
    "    n_rows = np.ceil(np.sqrt(len(col_names)))\n",
    "\n",
    "    #plt.figure(figsize=(3*n_cols,3*n_rows))\n",
    "    fig, ax = plt.subplots(figsize=(3*n_cols,3*n_rows))\n",
    "    \n",
    "    for i in range(0,len(col_names)):\n",
    "        plt.subplot(n_rows + 1,n_cols,i+1)\n",
    "        try:\n",
    "            g = sns.distplot(df[col_names[i]].dropna(),kde=True) \n",
    "            g.set(xticklabels=[])\n",
    "            g.set(yticklabels=[])\n",
    "        except:\n",
    "            pass\n",
    "        \n",
    "    plt.tight_layout()\n",
    "        \n"
   ]
  },
  {
   "cell_type": "code",
   "execution_count": 14,
   "metadata": {},
   "outputs": [
    {
     "data": {
      "image/png": "[encoded data removed]",
      "text/plain": [
       "<Figure size 648x648 with 7 Axes>"
      ]
     },
     "metadata": {},
     "output_type": "display_data"
    }
   ],
   "source": [
    "plot_histograms(df[number_col_names])"
   ]
  },
  {
   "cell_type": "code",
   "execution_count": 15,
   "metadata": {},
   "outputs": [],
   "source": [
    "def plot_boxes(df):\n",
    "\n",
    "    col_names = list(df.columns)\n",
    "\n",
    "    n_cols = np.ceil(np.sqrt(len(col_names)))\n",
    "    n_rows = np.ceil(np.sqrt(len(col_names)))\n",
    "\n",
    "    #plt.figure(figsize=(2*n_cols,3*n_rows))\n",
    "    fig, ax = plt.subplots(figsize=(2*n_cols,5*n_rows))\n",
    "    \n",
    "    for i in range(0,len(col_names)):\n",
    "        plt.subplot(n_rows + 1,n_cols,i+1)\n",
    "        try:\n",
    "            g = sns.boxplot(df[col_names[i]].dropna(),orient='v') \n",
    "            #g.set(xticklabels=[])\n",
    "            #g.set(yticklabels=[])\n",
    "        except:\n",
    "            pass\n",
    "        \n",
    "    plt.tight_layout()\n",
    "  "
   ]
  },
  {
   "cell_type": "code",
   "execution_count": 16,
   "metadata": {},
   "outputs": [
    {
     "data": {
      "image/png": "[encoded data removed]",
      "text/plain": [
       "<Figure size 432x1080 with 7 Axes>"
      ]
     },
     "metadata": {},
     "output_type": "display_data"
    }
   ],
   "source": [
    "  \n",
    "plot_boxes(df[number_col_names])"
   ]
  },
  {
   "cell_type": "code",
   "execution_count": 17,
   "metadata": {},
   "outputs": [
    {
     "data": {
      "text/plain": [
       "<matplotlib.axes._subplots.AxesSubplot at 0x10cda74a8>"
      ]
     },
     "execution_count": 17,
     "metadata": {},
     "output_type": "execute_result"
    },
    {
     "data": {
      "image/png": "[encoded data removed]",
      "text/plain": [
       "<Figure size 252x252 with 2 Axes>"
      ]
     },
     "metadata": {},
     "output_type": "display_data"
    }
   ],
   "source": [
    "\n",
    "cm = df[number_col_names].corr()\n",
    "\n",
    "mask = np.zeros_like(cm, dtype=np.bool)\n",
    "mask[np.triu_indices_from(mask)] = True\n",
    "\n",
    "plt.figure(figsize=(.5*len(number_col_names),.5*len(number_col_names)))\n",
    "sns.heatmap(cm, mask=mask, cmap = 'viridis')   "
   ]
  },
  {
   "cell_type": "code",
   "execution_count": 18,
   "metadata": {},
   "outputs": [
    {
     "data": {
      "text/plain": [
       "0.6370357153524047"
      ]
     },
     "execution_count": 18,
     "metadata": {},
     "output_type": "execute_result"
    }
   ],
   "source": [
    "df.dailyprecip.corr(df.discharge_rate)"
   ]
  },
  {
   "cell_type": "markdown",
   "metadata": {},
   "source": [
    "# Other Columns"
   ]
  },
  {
   "cell_type": "code",
   "execution_count": 19,
   "metadata": {},
   "outputs": [],
   "source": [
    "if other_col_names:\n",
    "    display(df[other_col_names].info())\n",
    "    display(df[other_col_names].describe().T)"
   ]
  },
  {
   "cell_type": "markdown",
   "metadata": {},
   "source": [
    "# Nulls"
   ]
  },
  {
   "cell_type": "code",
   "execution_count": 20,
   "metadata": {},
   "outputs": [
    {
     "data": {
      "text/plain": [
       "<matplotlib.axes._subplots.AxesSubplot at 0x10af77f98>"
      ]
     },
     "execution_count": 20,
     "metadata": {},
     "output_type": "execute_result"
    },
    {
     "data": {
      "image/png": "[encoded data removed]",
      "text/plain": [
       "<Figure size 1080x288 with 1 Axes>"
      ]
     },
     "metadata": {},
     "output_type": "display_data"
    }
   ],
   "source": [
    "cols = dt_col_names + number_col_names + other_col_names\n",
    "\n",
    "fig, ax = plt.subplots(figsize=(15,.5*len(cols)))\n",
    "sns.heatmap(df[cols].isnull().T,cbar=False,xticklabels=False,cmap = 'viridis', ax=ax )"
   ]
  },
  {
   "cell_type": "code",
   "execution_count": null,
   "metadata": {},
   "outputs": [],
   "source": []
  }
 ],
 "metadata": {
  "celltoolbar": "Tags",
  "kernelspec": {
   "display_name": "Python 3",
   "language": "python",
   "name": "python3"
  },
  "language_info": {
   "codemirror_mode": {
    "name": "ipython",
    "version": 3
   },
   "file_extension": ".py",
   "mimetype": "text/x-python",
   "name": "python",
   "nbconvert_exporter": "python",
   "pygments_lexer": "ipython3",
   "version": "3.6.5"
  }
 },
 "nbformat": 4,
 "nbformat_minor": 2
}
