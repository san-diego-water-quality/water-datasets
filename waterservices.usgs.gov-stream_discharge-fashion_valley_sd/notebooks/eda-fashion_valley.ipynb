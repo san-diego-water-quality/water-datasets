{
 "cells": [
  {
   "cell_type": "markdown",
   "metadata": {},
   "source": [
    "# Exploratory Data Analysis\n",
    "\n",
    "When placed in Metapack data package, this notebook will load the package and run a variety of common EDA operations on the first resource. \n"
   ]
  },
  {
   "cell_type": "code",
   "execution_count": 1,
   "metadata": {},
   "outputs": [],
   "source": [
    "import matplotlib.pyplot as plt \n",
    "import seaborn as sns\n",
    "import metapack as mp\n",
    "import pandas as pd\n",
    "import numpy as np\n",
    "from IPython.display import display \n",
    "\n",
    "%matplotlib inline\n",
    "sns.set_context('notebook')\n"
   ]
  },
  {
   "cell_type": "code",
   "execution_count": 2,
   "metadata": {},
   "outputs": [
    {
     "data": {
      "text/html": [
       "<h2>Fashion Valley Stream Discharge Rates</h2>\n",
       "<p><p><em>Stream discharge rates for the Fashion Valley station on the San Diego river, from 1988 on</em></p>\n",
       "<p><small>waterservices.usgs.gov-stream_discharge-fashion_valley_sd-2 from metapack+file:///Users/eric/proj/virt-proj/water/water-datasets/waterservices.usgs.gov-stream_discharge-fashion_valley_sd/_packages/waterservices.usgs.gov-stream_discharge-fashion_valley_sd-2/metadata.csv</small></p></p>\n",
       "<h2>Original Notice</h2>\n",
       "<p>The data file includes this comment header:</p>\n",
       "<pre>\n",
       "    # ---------------------------------- WARNING ----------------------------------------\n",
       "    # Some of the data that you have obtained from this U.S. Geological Survey database may not \n",
       "    # have received Director's approval.  Any such data values are qualified as provisional and \n",
       "    # are subject to revision.  Provisional data are released on the condition that neither the \n",
       "    # USGS nor the United States Government may be held liable for any damages resulting from its use.\n",
       "    #  Go to http://help.waterdata.usgs.gov/policies/provisional-data-statement for more information.\n",
       "    #\n",
       "    # File-format description:  http://help.waterdata.usgs.gov/faq/about-tab-delimited-output\n",
       "    # Automated-retrieval info: http://help.waterdata.usgs.gov/faq/automated-retrievals\n",
       "    #\n",
       "    # Contact:   gs-w_support_nwisweb@usgs.gov\n",
       "    # retrieved: 2018-07-24 15:45:47 -04:00 (natwebcaas01)\n",
       "    #\n",
       "    # Data for the following 1 site(s) are contained in this file\n",
       "    #    USGS 11023000 SAN DIEGO R A FASHION VALLEY AT SAN DIEGO CA\n",
       "    # -----------------------------------------------------------------------------------\n",
       "    #\n",
       "    # TS_ID - An internal number representing a time series.\n",
       "    # IV_TS_ID - An internal number representing the Instantaneous Value time series from which the daily statistic is calculated.\n",
       "    #\n",
       "    # Data provided for site 11023000\n",
       "    #    TS_ID       Parameter    Statistic  IV_TS_ID       Description\n",
       "    #    7745        00060        00003      14023          Discharge, cubic feet per second (Mean)\n",
       "    #\n",
       "    # Data-value qualification codes included in this output:\n",
       "    #     A  Approved for publication -- Processing and review completed.\n",
       "    #     e  Value has been estimated.\n",
       "    #     P  Provisional data subject to revision.\n",
       "    #\n",
       "</pre>\n",
       "\n",
       "<h3>Documentation</h3>\n",
       "<ul>\n",
       "<li><strong><a href=\"https://waterdata.usgs.gov/ca/nwis/uv?11023000\">Data access page</a></strong> Web page with links to graphs and downloads</li>\n",
       "<li><strong><a href=\"https://waterservices.usgs.gov/rest/DV-Test-Tool.html\">URL Generation</a></strong> USGS Daily Values Web Service URL Generation Tool</li>\n",
       "</ul>\n",
       "<h3>Contacts</h3>\n",
       "<p><strong>Wrangler:</strong> <a href=\"mailto:eric@civicknowledge.com\">Eric Busboom</a> <a href=\"http://civicknowledge.com\">Civic Knowledge</a></p>\n",
       "<h3>Resources</h3>\n",
       "<p><ol>\n",
       "<li><p><strong>fashion_valley</strong> - <a target=\"_blank\" href=\"file:///Users/eric/proj/virt-proj/water/water-datasets/waterservices.usgs.gov-stream_discharge-fashion_valley_sd/_packages/waterservices.usgs.gov-stream_discharge-fashion_valley_sd-2/data/fashion_valley.csv\">file:///Users/eric/proj/virt-proj/water/water-datasets/waterservices.usgs.gov-stream_discharge-fashion_valley_sd/_packages/waterservices.usgs.gov-stream_discharge-fashion_valley_sd-2/data/fashion_valley.csv</a> Stream discharge rates for the San Diego River, Fashion Valley Station.</p></li></p>\n",
       "</ol>\n",
       "\n",
       "</ol>"
      ],
      "text/plain": [
       "<metapack.doc.MetapackDoc at 0x10ca9f160>"
      ]
     },
     "execution_count": 2,
     "metadata": {},
     "output_type": "execute_result"
    }
   ],
   "source": [
    "pkg = mp.jupyter.open_package()\n",
    "\n",
    "# For testing and development\n",
    "#pkg = mp.open_package('http://s3.amazonaws.com/library.metatab.org/cde.ca.gov-accountability_dashboard-2.zip')\n",
    "\n",
    "pkg"
   ]
  },
  {
   "cell_type": "code",
   "execution_count": 3,
   "metadata": {
    "tags": [
     "resource_name"
    ]
   },
   "outputs": [],
   "source": [
    "resource_name='fashion_valley'"
   ]
  },
  {
   "cell_type": "code",
   "execution_count": 4,
   "metadata": {},
   "outputs": [
    {
     "data": {
      "text/html": [
       "<h3><a name=\"resource-fashion_valley\"></a>fashion_valley</h3><p><a target=\"_blank\" href=\"file:///Users/eric/proj/virt-proj/water/water-datasets/waterservices.usgs.gov-stream_discharge-fashion_valley_sd/_packages/waterservices.usgs.gov-stream_discharge-fashion_valley_sd-2/data/fashion_valley.csv\">file:///Users/eric/proj/virt-proj/water/water-datasets/waterservices.usgs.gov-stream_discharge-fashion_valley_sd/_packages/waterservices.usgs.gov-stream_discharge-fashion_valley_sd-2/data/fashion_valley.csv</a></p><table>\n",
       "<tr><th>Header</th><th>Type</th><th>Description</th></tr><tr><td>agency_cd</td><td>string</td><td>Source agency. Always “USGS”</td></tr> \n",
       "<tr><td>site_no</td><td>integer</td><td>Site number, always “11023000”</td></tr> \n",
       "<tr><td>datetime</td><td>date</td><td>Reading date, in ISO format.</td></tr> \n",
       "<tr><td>discharge_rate</td><td>number</td><td>Mean discharge, in cubic feet per second ( USGS Parameter  7745_00060_00003 )</td></tr> \n",
       "<tr><td>qualification_code</td><td>string</td><td>A=Approved, e= Estimated, P=Provisional</td></tr> </table>"
      ],
      "text/plain": [
       "<Resource: metadata.csv 30:1 root.datafile data/fashion_valley.csv ['fashion_valley', 'Stream discharge rates for the San Diego River, Fashion Valley Station.', 'tsv']>"
      ]
     },
     "execution_count": 4,
     "metadata": {},
     "output_type": "execute_result"
    }
   ],
   "source": [
    "pkg.resource(resource_name)"
   ]
  },
  {
   "cell_type": "code",
   "execution_count": 5,
   "metadata": {},
   "outputs": [],
   "source": [
    "df = pkg.resource(resource_name).read_csv(parse_dates=True)"
   ]
  },
  {
   "cell_type": "code",
   "execution_count": 6,
   "metadata": {},
   "outputs": [
    {
     "data": {
      "text/html": [
       "<div>\n",
       "<style scoped>\n",
       "    .dataframe tbody tr th:only-of-type {\n",
       "        vertical-align: middle;\n",
       "    }\n",
       "\n",
       "    .dataframe tbody tr th {\n",
       "        vertical-align: top;\n",
       "    }\n",
       "\n",
       "    .dataframe thead th {\n",
       "        text-align: right;\n",
       "    }\n",
       "</style>\n",
       "<table border=\"1\" class=\"dataframe\">\n",
       "  <thead>\n",
       "    <tr style=\"text-align: right;\">\n",
       "      <th></th>\n",
       "      <th>agency_cd</th>\n",
       "      <th>site_no</th>\n",
       "      <th>datetime</th>\n",
       "      <th>discharge_rate</th>\n",
       "      <th>qualification_code</th>\n",
       "    </tr>\n",
       "  </thead>\n",
       "  <tbody>\n",
       "    <tr>\n",
       "      <th>0</th>\n",
       "      <td>USGS</td>\n",
       "      <td>11023000</td>\n",
       "      <td>1988-01-01</td>\n",
       "      <td>22.0</td>\n",
       "      <td>A</td>\n",
       "    </tr>\n",
       "    <tr>\n",
       "      <th>1</th>\n",
       "      <td>USGS</td>\n",
       "      <td>11023000</td>\n",
       "      <td>1988-01-02</td>\n",
       "      <td>20.0</td>\n",
       "      <td>A</td>\n",
       "    </tr>\n",
       "    <tr>\n",
       "      <th>2</th>\n",
       "      <td>USGS</td>\n",
       "      <td>11023000</td>\n",
       "      <td>1988-01-03</td>\n",
       "      <td>18.0</td>\n",
       "      <td>A</td>\n",
       "    </tr>\n",
       "    <tr>\n",
       "      <th>3</th>\n",
       "      <td>USGS</td>\n",
       "      <td>11023000</td>\n",
       "      <td>1988-01-04</td>\n",
       "      <td>18.0</td>\n",
       "      <td>A</td>\n",
       "    </tr>\n",
       "    <tr>\n",
       "      <th>4</th>\n",
       "      <td>USGS</td>\n",
       "      <td>11023000</td>\n",
       "      <td>1988-01-05</td>\n",
       "      <td>21.0</td>\n",
       "      <td>A</td>\n",
       "    </tr>\n",
       "  </tbody>\n",
       "</table>\n",
       "</div>"
      ],
      "text/plain": [
       "  agency_cd   site_no   datetime  discharge_rate qualification_code\n",
       "0      USGS  11023000 1988-01-01            22.0                  A\n",
       "1      USGS  11023000 1988-01-02            20.0                  A\n",
       "2      USGS  11023000 1988-01-03            18.0                  A\n",
       "3      USGS  11023000 1988-01-04            18.0                  A\n",
       "4      USGS  11023000 1988-01-05            21.0                  A"
      ]
     },
     "execution_count": 6,
     "metadata": {},
     "output_type": "execute_result"
    }
   ],
   "source": [
    "df.head()"
   ]
  },
  {
   "cell_type": "code",
   "execution_count": 7,
   "metadata": {},
   "outputs": [],
   "source": [
    "empty_col_names = [cn for cn in df.columns if df[cn].nunique() == 0]\n",
    "const_col_names= [cn for cn in df.columns if df[cn].nunique() == 1]\n",
    "ignore_cols = empty_col_names+const_col_names\n",
    "dt_col_names= list(df.select_dtypes(include=[np.datetime64]).columns)\n",
    "\n",
    "number_col_names = [ cn for cn in df.select_dtypes(include=[np.number]).columns if cn not in ignore_cols ]\n",
    "other_col_names = [cn for cn in df.columns if cn not in (empty_col_names+const_col_names+dt_col_names+number_col_names)]"
   ]
  },
  {
   "cell_type": "code",
   "execution_count": 8,
   "metadata": {},
   "outputs": [
    {
     "data": {
      "text/html": [
       "<div>\n",
       "<style scoped>\n",
       "    .dataframe tbody tr th:only-of-type {\n",
       "        vertical-align: middle;\n",
       "    }\n",
       "\n",
       "    .dataframe tbody tr th {\n",
       "        vertical-align: top;\n",
       "    }\n",
       "\n",
       "    .dataframe thead th {\n",
       "        text-align: right;\n",
       "    }\n",
       "</style>\n",
       "<table border=\"1\" class=\"dataframe\">\n",
       "  <thead>\n",
       "    <tr style=\"text-align: right;\">\n",
       "      <th></th>\n",
       "      <th>count</th>\n",
       "    </tr>\n",
       "  </thead>\n",
       "  <tbody>\n",
       "    <tr>\n",
       "      <th>empty</th>\n",
       "      <td>0</td>\n",
       "    </tr>\n",
       "    <tr>\n",
       "      <th>const</th>\n",
       "      <td>2</td>\n",
       "    </tr>\n",
       "    <tr>\n",
       "      <th>datetime</th>\n",
       "      <td>1</td>\n",
       "    </tr>\n",
       "    <tr>\n",
       "      <th>number</th>\n",
       "      <td>1</td>\n",
       "    </tr>\n",
       "    <tr>\n",
       "      <th>other</th>\n",
       "      <td>1</td>\n",
       "    </tr>\n",
       "  </tbody>\n",
       "</table>\n",
       "</div>"
      ],
      "text/plain": [
       "          count\n",
       "empty         0\n",
       "const         2\n",
       "datetime      1\n",
       "number        1\n",
       "other         1"
      ]
     },
     "execution_count": 8,
     "metadata": {},
     "output_type": "execute_result"
    }
   ],
   "source": [
    "pd.DataFrame.from_dict({'empty':[len(empty_col_names)], \n",
    "                        'const':[len(const_col_names)],\n",
    "                        'datetime':[len(dt_col_names)],\n",
    "                        'number':[len(number_col_names)],\n",
    "                        'other':[len(other_col_names)],\n",
    "                       }, \n",
    "                       orient='index', columns=['count'])"
   ]
  },
  {
   "cell_type": "markdown",
   "metadata": {},
   "source": [
    "# Constant Columns"
   ]
  },
  {
   "cell_type": "code",
   "execution_count": 9,
   "metadata": {},
   "outputs": [
    {
     "data": {
      "text/html": [
       "<div>\n",
       "<style scoped>\n",
       "    .dataframe tbody tr th:only-of-type {\n",
       "        vertical-align: middle;\n",
       "    }\n",
       "\n",
       "    .dataframe tbody tr th {\n",
       "        vertical-align: top;\n",
       "    }\n",
       "\n",
       "    .dataframe thead th {\n",
       "        text-align: right;\n",
       "    }\n",
       "</style>\n",
       "<table border=\"1\" class=\"dataframe\">\n",
       "  <thead>\n",
       "    <tr style=\"text-align: right;\">\n",
       "      <th></th>\n",
       "      <th>0</th>\n",
       "    </tr>\n",
       "  </thead>\n",
       "  <tbody>\n",
       "    <tr>\n",
       "      <th>agency_cd</th>\n",
       "      <td>USGS</td>\n",
       "    </tr>\n",
       "    <tr>\n",
       "      <th>site_no</th>\n",
       "      <td>11023000</td>\n",
       "    </tr>\n",
       "  </tbody>\n",
       "</table>\n",
       "</div>"
      ],
      "text/plain": [
       "                  0\n",
       "agency_cd      USGS\n",
       "site_no    11023000"
      ]
     },
     "metadata": {},
     "output_type": "display_data"
    }
   ],
   "source": [
    "if const_col_names:\n",
    "    display(df[const_col_names].drop_duplicates().T)"
   ]
  },
  {
   "cell_type": "markdown",
   "metadata": {},
   "source": [
    "# Empty Columns"
   ]
  },
  {
   "cell_type": "code",
   "execution_count": 10,
   "metadata": {},
   "outputs": [],
   "source": [
    "if empty_col_names:\n",
    "    display(df[empty_col_names].drop_duplicates().T)"
   ]
  },
  {
   "cell_type": "markdown",
   "metadata": {},
   "source": [
    "# Date and Time Columns"
   ]
  },
  {
   "cell_type": "code",
   "execution_count": 11,
   "metadata": {},
   "outputs": [
    {
     "name": "stdout",
     "output_type": "stream",
     "text": [
      "<class 'pandas.core.frame.DataFrame'>\n",
      "RangeIndex: 11162 entries, 0 to 11161\n",
      "Data columns (total 1 columns):\n",
      "datetime    11162 non-null datetime64[ns]\n",
      "dtypes: datetime64[ns](1)\n",
      "memory usage: 87.3 KB\n"
     ]
    },
    {
     "data": {
      "text/plain": [
       "None"
      ]
     },
     "metadata": {},
     "output_type": "display_data"
    },
    {
     "data": {
      "text/html": [
       "<div>\n",
       "<style scoped>\n",
       "    .dataframe tbody tr th:only-of-type {\n",
       "        vertical-align: middle;\n",
       "    }\n",
       "\n",
       "    .dataframe tbody tr th {\n",
       "        vertical-align: top;\n",
       "    }\n",
       "\n",
       "    .dataframe thead th {\n",
       "        text-align: right;\n",
       "    }\n",
       "</style>\n",
       "<table border=\"1\" class=\"dataframe\">\n",
       "  <thead>\n",
       "    <tr style=\"text-align: right;\">\n",
       "      <th></th>\n",
       "      <th>count</th>\n",
       "      <th>unique</th>\n",
       "      <th>top</th>\n",
       "      <th>freq</th>\n",
       "      <th>first</th>\n",
       "      <th>last</th>\n",
       "    </tr>\n",
       "  </thead>\n",
       "  <tbody>\n",
       "    <tr>\n",
       "      <th>datetime</th>\n",
       "      <td>11162</td>\n",
       "      <td>11162</td>\n",
       "      <td>1989-12-27 00:00:00</td>\n",
       "      <td>1</td>\n",
       "      <td>1988-01-01 00:00:00</td>\n",
       "      <td>2018-07-23 00:00:00</td>\n",
       "    </tr>\n",
       "  </tbody>\n",
       "</table>\n",
       "</div>"
      ],
      "text/plain": [
       "          count unique                  top freq                first  \\\n",
       "datetime  11162  11162  1989-12-27 00:00:00    1  1988-01-01 00:00:00   \n",
       "\n",
       "                         last  \n",
       "datetime  2018-07-23 00:00:00  "
      ]
     },
     "metadata": {},
     "output_type": "display_data"
    }
   ],
   "source": [
    "if dt_col_names:\n",
    "    display(df[dt_col_names].info())\n",
    "    display(df[dt_col_names].describe().T)"
   ]
  },
  {
   "cell_type": "markdown",
   "metadata": {},
   "source": [
    "# Number Columns"
   ]
  },
  {
   "cell_type": "code",
   "execution_count": 12,
   "metadata": {},
   "outputs": [
    {
     "name": "stdout",
     "output_type": "stream",
     "text": [
      "<class 'pandas.core.frame.DataFrame'>\n",
      "RangeIndex: 11162 entries, 0 to 11161\n",
      "Data columns (total 1 columns):\n",
      "discharge_rate    11162 non-null float64\n",
      "dtypes: float64(1)\n",
      "memory usage: 87.3 KB\n"
     ]
    },
    {
     "data": {
      "text/plain": [
       "None"
      ]
     },
     "metadata": {},
     "output_type": "display_data"
    },
    {
     "data": {
      "text/html": [
       "<div>\n",
       "<style scoped>\n",
       "    .dataframe tbody tr th:only-of-type {\n",
       "        vertical-align: middle;\n",
       "    }\n",
       "\n",
       "    .dataframe tbody tr th {\n",
       "        vertical-align: top;\n",
       "    }\n",
       "\n",
       "    .dataframe thead th {\n",
       "        text-align: right;\n",
       "    }\n",
       "</style>\n",
       "<table border=\"1\" class=\"dataframe\">\n",
       "  <thead>\n",
       "    <tr style=\"text-align: right;\">\n",
       "      <th></th>\n",
       "      <th>count</th>\n",
       "      <th>mean</th>\n",
       "      <th>std</th>\n",
       "      <th>min</th>\n",
       "      <th>25%</th>\n",
       "      <th>50%</th>\n",
       "      <th>75%</th>\n",
       "      <th>max</th>\n",
       "    </tr>\n",
       "  </thead>\n",
       "  <tbody>\n",
       "    <tr>\n",
       "      <th>discharge_rate</th>\n",
       "      <td>11162.0</td>\n",
       "      <td>33.066923</td>\n",
       "      <td>155.931902</td>\n",
       "      <td>0.0</td>\n",
       "      <td>1.76</td>\n",
       "      <td>5.47</td>\n",
       "      <td>16.0</td>\n",
       "      <td>5800.0</td>\n",
       "    </tr>\n",
       "  </tbody>\n",
       "</table>\n",
       "</div>"
      ],
      "text/plain": [
       "                  count       mean         std  min   25%   50%   75%     max\n",
       "discharge_rate  11162.0  33.066923  155.931902  0.0  1.76  5.47  16.0  5800.0"
      ]
     },
     "metadata": {},
     "output_type": "display_data"
    }
   ],
   "source": [
    "if number_col_names:\n",
    "    display(df[number_col_names].info())\n",
    "    display(df[number_col_names].describe().T)"
   ]
  },
  {
   "cell_type": "code",
   "execution_count": 13,
   "metadata": {
    "scrolled": false
   },
   "outputs": [],
   "source": [
    "def plot_histograms(df):\n",
    "\n",
    "    col_names = list(df.columns)\n",
    "\n",
    "    n_cols = np.ceil(np.sqrt(len(col_names)))\n",
    "    n_rows = np.ceil(np.sqrt(len(col_names)))\n",
    "\n",
    "    #plt.figure(figsize=(3*n_cols,3*n_rows))\n",
    "    fig, ax = plt.subplots(figsize=(3*n_cols,3*n_rows))\n",
    "    \n",
    "    for i in range(0,len(col_names)):\n",
    "        plt.subplot(n_rows + 1,n_cols,i+1)\n",
    "        try:\n",
    "            g = sns.distplot(df[col_names[i]].fillna(0),kde=True) \n",
    "            g.set(xticklabels=[])\n",
    "            g.set(yticklabels=[])\n",
    "        except:\n",
    "            pass\n",
    "        \n"
   ]
  },
  {
   "cell_type": "code",
   "execution_count": 14,
   "metadata": {},
   "outputs": [
    {
     "data": {
      "image/png": "[encoded data removed]",
      "text/plain": [
       "<Figure size 216x216 with 1 Axes>"
      ]
     },
     "metadata": {},
     "output_type": "display_data"
    }
   ],
   "source": [
    "plot_histograms(df[number_col_names])"
   ]
  },
  {
   "cell_type": "markdown",
   "metadata": {},
   "source": [
    "# Other Columns"
   ]
  },
  {
   "cell_type": "code",
   "execution_count": 15,
   "metadata": {},
   "outputs": [
    {
     "name": "stdout",
     "output_type": "stream",
     "text": [
      "<class 'pandas.core.frame.DataFrame'>\n",
      "RangeIndex: 11162 entries, 0 to 11161\n",
      "Data columns (total 1 columns):\n",
      "qualification_code    11162 non-null object\n",
      "dtypes: object(1)\n",
      "memory usage: 87.3+ KB\n"
     ]
    },
    {
     "data": {
      "text/plain": [
       "None"
      ]
     },
     "metadata": {},
     "output_type": "display_data"
    },
    {
     "data": {
      "text/html": [
       "<div>\n",
       "<style scoped>\n",
       "    .dataframe tbody tr th:only-of-type {\n",
       "        vertical-align: middle;\n",
       "    }\n",
       "\n",
       "    .dataframe tbody tr th {\n",
       "        vertical-align: top;\n",
       "    }\n",
       "\n",
       "    .dataframe thead th {\n",
       "        text-align: right;\n",
       "    }\n",
       "</style>\n",
       "<table border=\"1\" class=\"dataframe\">\n",
       "  <thead>\n",
       "    <tr style=\"text-align: right;\">\n",
       "      <th></th>\n",
       "      <th>count</th>\n",
       "      <th>unique</th>\n",
       "      <th>top</th>\n",
       "      <th>freq</th>\n",
       "    </tr>\n",
       "  </thead>\n",
       "  <tbody>\n",
       "    <tr>\n",
       "      <th>qualification_code</th>\n",
       "      <td>11162</td>\n",
       "      <td>3</td>\n",
       "      <td>A</td>\n",
       "      <td>10813</td>\n",
       "    </tr>\n",
       "  </tbody>\n",
       "</table>\n",
       "</div>"
      ],
      "text/plain": [
       "                    count unique top   freq\n",
       "qualification_code  11162      3   A  10813"
      ]
     },
     "metadata": {},
     "output_type": "display_data"
    }
   ],
   "source": [
    "if other_col_names:\n",
    "    display(df[other_col_names].info())\n",
    "    display(df[other_col_names].describe().T)"
   ]
  }
 ],
 "metadata": {
  "celltoolbar": "Tags",
  "kernelspec": {
   "display_name": "Python 3",
   "language": "python",
   "name": "python3"
  },
  "language_info": {
   "codemirror_mode": {
    "name": "ipython",
    "version": 3
   },
   "file_extension": ".py",
   "mimetype": "text/x-python",
   "name": "python",
   "nbconvert_exporter": "python",
   "pygments_lexer": "ipython3",
   "version": "3.6.5"
  }
 },
 "nbformat": 4,
 "nbformat_minor": 2
}
