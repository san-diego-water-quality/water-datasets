{
 "cells": [
  {
   "cell_type": "code",
   "execution_count": 1,
   "metadata": {},
   "outputs": [],
   "source": [
    "import matplotlib.pyplot as plt \n",
    "import metapack as mp\n",
    "import pandas as pd\n",
    "import numpy as np\n",
    "import seaborn as sns\n",
    "sns.set(color_codes=True)\n",
    "%matplotlib inline\n"
   ]
  },
  {
   "cell_type": "code",
   "execution_count": 2,
   "metadata": {},
   "outputs": [
    {
     "data": {
      "text/html": [
       "<h2>ceden.waterboards.ca.gov-sdck_monitoring-1</h2>\n",
       "<p><p><em></em></p>\n",
       "<p><small>ceden.waterboards.ca.gov-sdck_monitoring-1 from metapack+file:///Users/eric/proj/virt-proj/water/water-datasets/source/ceden.waterboards.ca.gov-sdck_monitoring/_packages/ceden.waterboards.ca.gov-sdck_monitoring-1/metadata.csv</small></p></p>\n",
       "<h3>Documentation</h3>\n",
       "<h3>Contacts</h3>\n",
       "<p><strong>Wrangler:</strong> <a href=\"mailto:eric@civicknowledge.com\">Eric Busboom</a> <a href=\"http://civicknowledge.com\">Civic Knowledge</a></p>\n",
       "<h3>Resources</h3>\n",
       "<p><ol>\n",
       "<li><p><a target=\"_blank\" href=\"file:///Users/eric/proj/virt-proj/water/water-datasets/source/ceden.waterboards.ca.gov-sdck_monitoring/_packages/ceden.waterboards.ca.gov-sdck_monitoring-1/data/sdck_monitoring.csv\"><strong>sdck_monitoring</strong></a> </p></li></p>\n",
       "</ol>\n",
       "\n",
       "</ol>"
      ],
      "text/plain": [
       "<metapack.doc.MetapackDoc at 0x10df52550>"
      ]
     },
     "execution_count": 2,
     "metadata": {},
     "output_type": "execute_result"
    }
   ],
   "source": [
    "pkg = mp.jupyter.open_package()\n",
    "pkg"
   ]
  },
  {
   "cell_type": "code",
   "execution_count": 4,
   "metadata": {},
   "outputs": [],
   "source": [
    "df = pkg.resource('sdck_monitoring').read_csv()"
   ]
  },
  {
   "cell_type": "code",
   "execution_count": 20,
   "metadata": {},
   "outputs": [
    {
     "data": {
      "text/html": [
       "<div>\n",
       "<style scoped>\n",
       "    .dataframe tbody tr th:only-of-type {\n",
       "        vertical-align: middle;\n",
       "    }\n",
       "\n",
       "    .dataframe tbody tr th {\n",
       "        vertical-align: top;\n",
       "    }\n",
       "\n",
       "    .dataframe thead th {\n",
       "        text-align: right;\n",
       "    }\n",
       "</style>\n",
       "<table border=\"1\" class=\"dataframe\">\n",
       "  <thead>\n",
       "    <tr style=\"text-align: right;\">\n",
       "      <th></th>\n",
       "      <th>program</th>\n",
       "      <th>parentproject</th>\n",
       "      <th>project</th>\n",
       "      <th>stationname</th>\n",
       "      <th>stationcode</th>\n",
       "      <th>sampledate</th>\n",
       "      <th>collectiontime</th>\n",
       "      <th>locationcode</th>\n",
       "      <th>collectiondepth</th>\n",
       "      <th>unitcollectiondepth</th>\n",
       "      <th>...</th>\n",
       "      <th>rb_number</th>\n",
       "      <th>huc8</th>\n",
       "      <th>huc8_number</th>\n",
       "      <th>huc10</th>\n",
       "      <th>huc10_number</th>\n",
       "      <th>huc12</th>\n",
       "      <th>huc12_number</th>\n",
       "      <th>waterbody_type</th>\n",
       "      <th>sampleid</th>\n",
       "      <th>stationgroup</th>\n",
       "    </tr>\n",
       "  </thead>\n",
       "  <tbody>\n",
       "    <tr>\n",
       "      <th>0</th>\n",
       "      <td>SDCK Monitoring Program</td>\n",
       "      <td>San Diego Coastkeeper Ambient Monitoring Progran</td>\n",
       "      <td>SDCK Monthly monitoring</td>\n",
       "      <td>Box Canyon Dam (downstream at bank)</td>\n",
       "      <td>BTQ-020</td>\n",
       "      <td>2009-01-12</td>\n",
       "      <td>2018-08-21 13:00:00</td>\n",
       "      <td>Not Recorded</td>\n",
       "      <td>30</td>\n",
       "      <td>cm</td>\n",
       "      <td>...</td>\n",
       "      <td>9</td>\n",
       "      <td>NaN</td>\n",
       "      <td>NaN</td>\n",
       "      <td>NaN</td>\n",
       "      <td>NaN</td>\n",
       "      <td>NaN</td>\n",
       "      <td>NaN</td>\n",
       "      <td>NaN</td>\n",
       "      <td>NaN</td>\n",
       "      <td>BTQ</td>\n",
       "    </tr>\n",
       "    <tr>\n",
       "      <th>1</th>\n",
       "      <td>SDCK Monitoring Program</td>\n",
       "      <td>San Diego Coastkeeper Ambient Monitoring Progran</td>\n",
       "      <td>SDCK Monthly monitoring</td>\n",
       "      <td>Cardiff Reef</td>\n",
       "      <td>SEL-010</td>\n",
       "      <td>2009-01-12</td>\n",
       "      <td>2018-08-21 11:00:00</td>\n",
       "      <td>Not Recorded</td>\n",
       "      <td>30</td>\n",
       "      <td>cm</td>\n",
       "      <td>...</td>\n",
       "      <td>9</td>\n",
       "      <td>NaN</td>\n",
       "      <td>NaN</td>\n",
       "      <td>NaN</td>\n",
       "      <td>NaN</td>\n",
       "      <td>NaN</td>\n",
       "      <td>NaN</td>\n",
       "      <td>NaN</td>\n",
       "      <td>NaN</td>\n",
       "      <td>SEL</td>\n",
       "    </tr>\n",
       "    <tr>\n",
       "      <th>2</th>\n",
       "      <td>SDCK Monitoring Program</td>\n",
       "      <td>San Diego Coastkeeper Ambient Monitoring Progran</td>\n",
       "      <td>SDCK Monthly monitoring</td>\n",
       "      <td>Date St.</td>\n",
       "      <td>OTY-020</td>\n",
       "      <td>2009-01-12</td>\n",
       "      <td>2018-08-21 13:45:00</td>\n",
       "      <td>Not Recorded</td>\n",
       "      <td>30</td>\n",
       "      <td>cm</td>\n",
       "      <td>...</td>\n",
       "      <td>9</td>\n",
       "      <td>NaN</td>\n",
       "      <td>NaN</td>\n",
       "      <td>NaN</td>\n",
       "      <td>NaN</td>\n",
       "      <td>NaN</td>\n",
       "      <td>NaN</td>\n",
       "      <td>NaN</td>\n",
       "      <td>NaN</td>\n",
       "      <td>OTY</td>\n",
       "    </tr>\n",
       "    <tr>\n",
       "      <th>3</th>\n",
       "      <td>SDCK Monitoring Program</td>\n",
       "      <td>San Diego Coastkeeper Ambient Monitoring Progran</td>\n",
       "      <td>SDCK Monthly monitoring</td>\n",
       "      <td>Date St.</td>\n",
       "      <td>OTY-020</td>\n",
       "      <td>2009-01-12</td>\n",
       "      <td>2018-08-21 13:45:00</td>\n",
       "      <td>Not Recorded</td>\n",
       "      <td>30</td>\n",
       "      <td>cm</td>\n",
       "      <td>...</td>\n",
       "      <td>9</td>\n",
       "      <td>NaN</td>\n",
       "      <td>NaN</td>\n",
       "      <td>NaN</td>\n",
       "      <td>NaN</td>\n",
       "      <td>NaN</td>\n",
       "      <td>NaN</td>\n",
       "      <td>NaN</td>\n",
       "      <td>NaN</td>\n",
       "      <td>OTY</td>\n",
       "    </tr>\n",
       "    <tr>\n",
       "      <th>4</th>\n",
       "      <td>SDCK Monitoring Program</td>\n",
       "      <td>San Diego Coastkeeper Ambient Monitoring Progran</td>\n",
       "      <td>SDCK Monthly monitoring</td>\n",
       "      <td>El Camino del Norte Bridge</td>\n",
       "      <td>EDC-020</td>\n",
       "      <td>2009-01-12</td>\n",
       "      <td>2018-08-21 10:45:00</td>\n",
       "      <td>Not Recorded</td>\n",
       "      <td>30</td>\n",
       "      <td>cm</td>\n",
       "      <td>...</td>\n",
       "      <td>9</td>\n",
       "      <td>NaN</td>\n",
       "      <td>NaN</td>\n",
       "      <td>NaN</td>\n",
       "      <td>NaN</td>\n",
       "      <td>NaN</td>\n",
       "      <td>NaN</td>\n",
       "      <td>NaN</td>\n",
       "      <td>NaN</td>\n",
       "      <td>EDC</td>\n",
       "    </tr>\n",
       "  </tbody>\n",
       "</table>\n",
       "<p>5 rows × 80 columns</p>\n",
       "</div>"
      ],
      "text/plain": [
       "                   program                                     parentproject  \\\n",
       "0  SDCK Monitoring Program  San Diego Coastkeeper Ambient Monitoring Progran   \n",
       "1  SDCK Monitoring Program  San Diego Coastkeeper Ambient Monitoring Progran   \n",
       "2  SDCK Monitoring Program  San Diego Coastkeeper Ambient Monitoring Progran   \n",
       "3  SDCK Monitoring Program  San Diego Coastkeeper Ambient Monitoring Progran   \n",
       "4  SDCK Monitoring Program  San Diego Coastkeeper Ambient Monitoring Progran   \n",
       "\n",
       "                   project                          stationname stationcode  \\\n",
       "0  SDCK Monthly monitoring  Box Canyon Dam (downstream at bank)     BTQ-020   \n",
       "1  SDCK Monthly monitoring                         Cardiff Reef     SEL-010   \n",
       "2  SDCK Monthly monitoring                             Date St.     OTY-020   \n",
       "3  SDCK Monthly monitoring                             Date St.     OTY-020   \n",
       "4  SDCK Monthly monitoring           El Camino del Norte Bridge     EDC-020   \n",
       "\n",
       "  sampledate      collectiontime  locationcode  collectiondepth  \\\n",
       "0 2009-01-12 2018-08-21 13:00:00  Not Recorded               30   \n",
       "1 2009-01-12 2018-08-21 11:00:00  Not Recorded               30   \n",
       "2 2009-01-12 2018-08-21 13:45:00  Not Recorded               30   \n",
       "3 2009-01-12 2018-08-21 13:45:00  Not Recorded               30   \n",
       "4 2009-01-12 2018-08-21 10:45:00  Not Recorded               30   \n",
       "\n",
       "  unitcollectiondepth      ...      rb_number  huc8  huc8_number huc10  \\\n",
       "0                  cm      ...              9   NaN          NaN   NaN   \n",
       "1                  cm      ...              9   NaN          NaN   NaN   \n",
       "2                  cm      ...              9   NaN          NaN   NaN   \n",
       "3                  cm      ...              9   NaN          NaN   NaN   \n",
       "4                  cm      ...              9   NaN          NaN   NaN   \n",
       "\n",
       "   huc10_number huc12 huc12_number waterbody_type sampleid  stationgroup  \n",
       "0           NaN   NaN          NaN            NaN      NaN           BTQ  \n",
       "1           NaN   NaN          NaN            NaN      NaN           SEL  \n",
       "2           NaN   NaN          NaN            NaN      NaN           OTY  \n",
       "3           NaN   NaN          NaN            NaN      NaN           OTY  \n",
       "4           NaN   NaN          NaN            NaN      NaN           EDC  \n",
       "\n",
       "[5 rows x 80 columns]"
      ]
     },
     "execution_count": 20,
     "metadata": {},
     "output_type": "execute_result"
    }
   ],
   "source": [
    "df['stationgroup'] = df.stationcode.str[:3]\n",
    "df.head()"
   ]
  },
  {
   "cell_type": "code",
   "execution_count": 9,
   "metadata": {},
   "outputs": [
    {
     "data": {
      "text/plain": [
       "60"
      ]
     },
     "execution_count": 9,
     "metadata": {},
     "output_type": "execute_result"
    }
   ],
   "source": [
    "df.stationname.nunique()"
   ]
  },
  {
   "cell_type": "code",
   "execution_count": 23,
   "metadata": {},
   "outputs": [],
   "source": [
    "# Write to a CSV file so we can load the sations into QGIS. \n",
    "df[['targetlatitude','targetlongitude','stationname','stationcode','stationgroup']].drop_duplicates().to_csv('stations.csv')"
   ]
  },
  {
   "cell_type": "code",
   "execution_count": 26,
   "metadata": {
    "scrolled": false
   },
   "outputs": [
    {
     "data": {
      "text/plain": [
       "Temperature                       107\n",
       "pH                                104\n",
       "ElectricalConductivity, Total     104\n",
       "Coliform, Total                    93\n",
       "E. coli                            91\n",
       "Enterococcus                       88\n",
       "Nitrate as N, Dissolved            74\n",
       "Phosphorus as P, Dissolved         72\n",
       "Ammonia as N, Dissolved            70\n",
       "OrthoPhosphate as P, Dissolved     59\n",
       "Turbidity, Total                   33\n",
       "Name: analyte, dtype: int64"
      ]
     },
     "execution_count": 26,
     "metadata": {},
     "output_type": "execute_result"
    }
   ],
   "source": [
    "df[df.stationgroup=='RSC'].analyte.value_counts()"
   ]
  },
  {
   "cell_type": "code",
   "execution_count": null,
   "metadata": {},
   "outputs": [],
   "source": []
  }
 ],
 "metadata": {
  "kernelspec": {
   "display_name": "Python 3",
   "language": "python",
   "name": "python3"
  },
  "language_info": {
   "codemirror_mode": {
    "name": "ipython",
    "version": 3
   },
   "file_extension": ".py",
   "mimetype": "text/x-python",
   "name": "python",
   "nbconvert_exporter": "python",
   "pygments_lexer": "ipython3",
   "version": "3.6.5"
  }
 },
 "nbformat": 4,
 "nbformat_minor": 2
}
