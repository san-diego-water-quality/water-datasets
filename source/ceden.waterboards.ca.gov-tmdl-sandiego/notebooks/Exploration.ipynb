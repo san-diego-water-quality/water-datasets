{
 "cells": [
  {
   "cell_type": "code",
   "execution_count": 1,
   "metadata": {},
   "outputs": [
    {
     "data": {
      "text/html": [
       "<h2>San Diego County Total Maximum Daily Load</h2>\n",
       "<p><p><em>TMDL data for San Diego county, through September 2015.</em></p>\n",
       "<p><small>ceden.waterboards.ca.gov-tmdl-sandiego-1 from metapack+file:///Users/eric/proj/virt-proj/water/water-datasets/ceden.waterboards.ca.gov-tmdl-sandiego/_packages/ceden.waterboards.ca.gov-tmdl-sandiego-1/metadata.csv</small></p></p>\n",
       "<p>This is the readme!</p>\n",
       "<p>What foo?</p>\n",
       "<h3>Documentation</h3>\n",
       "<ul>\n",
       "<li><strong><a href=\"https://ceden.waterboards.ca.gov/AdvancedQueryTool\">source_page</a></strong> CEDEN advanced query tool page</li>\n",
       "<li><strong><a href=\"https://www.waterboards.ca.gov/sandiego/water_issues/programs/tmdls/bacteria.html\">overview</a></strong> Overview of project</li>\n",
       "</ul>\n",
       "<h3>Contacts</h3>\n",
       "<p><strong>Wrangler:</strong> <a href=\"mailto:eric@civicknowledge.com\">Eric Busboom</a> <a href=\"http://civicknowledge.com\">Civic Knowledge</a></p>\n",
       "<h3>Resources</h3>\n",
       "<p><ol>\n",
       "<li><p><strong>tmdl-sd</strong> - <a target=\"_blank\" href=\"file:///Users/eric/proj/virt-proj/water/water-datasets/ceden.waterboards.ca.gov-tmdl-sandiego/_packages/ceden.waterboards.ca.gov-tmdl-sandiego-1/data/tmdl-sd.csv\">file:///Users/eric/proj/virt-proj/water/water-datasets/ceden.waterboards.ca.gov-tmdl-sandiego/_packages/ceden.waterboards.ca.gov-tmdl-sandiego-1/data/tmdl-sd.csv</a> San Diego Total Maximum Daily Load data</p></li>\n",
       "</ol></p>\n",
       "</ol>"
      ],
      "text/plain": [
       "<metapack.doc.MetapackDoc at 0x10a6cb550>"
      ]
     },
     "execution_count": 1,
     "metadata": {},
     "output_type": "execute_result"
    }
   ],
   "source": [
    "import metapack as mp \n",
    "pkg = mp.jupyter.open_package()\n",
    "pkg"
   ]
  },
  {
   "cell_type": "code",
   "execution_count": null,
   "metadata": {},
   "outputs": [],
   "source": []
  }
 ],
 "metadata": {
  "kernelspec": {
   "display_name": "Python 3",
   "language": "python",
   "name": "python3"
  },
  "language_info": {
   "codemirror_mode": {
    "name": "ipython",
    "version": 3
   },
   "file_extension": ".py",
   "mimetype": "text/x-python",
   "name": "python",
   "nbconvert_exporter": "python",
   "pygments_lexer": "ipython3",
   "version": "3.6.5"
  }
 },
 "nbformat": 4,
 "nbformat_minor": 2
}
