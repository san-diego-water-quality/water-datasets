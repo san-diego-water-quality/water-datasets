{
 "cells": [
  {
   "cell_type": "code",
   "execution_count": 1,
   "metadata": {},
   "outputs": [],
   "source": [
    "import metapack as mp"
   ]
  },
  {
   "cell_type": "code",
   "execution_count": 2,
   "metadata": {},
   "outputs": [
    {
     "data": {
      "text/html": [
       "<h2>San Diego Beachwatch Data</h2>\n",
       "<p>ceden.waterboards.ca.gov-beachwatch-sandiego-1</p>\n",
       "\n",
       "<p>Water quality data for San Diego county beaches.</p>\n",
       "\n",
       "<p>metapack+file:///Users/eric/proj/virt-proj/water/water-datasets/ceden.waterboards.ca.gov-beachwatch-sandiego/_packages/ceden.waterboards.ca.gov-beachwatch-sandiego-1/metadata.csv</p>\n",
       "\n",
       "<h3>Documentation</h3>\n",
       "<h1>ceden.waterboards.ca.gov-beachwatch-sandiego-1</h1>\n",
       "<p><strong><a href=\"README.md\">README</a> </strong>None\n",
       "<strong><a href=\"https://www.waterboards.ca.gov/water_issues/programs/beaches/beach_water_quality/beaches_program.html\">overview</a> </strong>Project Overview Page\n",
       "<strong><a href=\"https://ceden.waterboards.ca.gov/AdvancedQueryTool\">souce_page</a> </strong>CEDEN advanced query tool page</p>\n",
       "<h3>Contacts</h3>\n",
       "<p><strong>Wrangler:</strong> <a href=\"mailto:eric@civicknowledge.com\">Eric Busboom</a> <a href=\"http://civicknowledge.com\">Civic Knowledge</a></p>\n",
       "<h3>Resources</h3>\n",
       "<p><ol>\n",
       "<li><p><strong>beachwatch-sd</strong> - <a target=\"_blank\" href=\"file:///Users/eric/proj/virt-proj/water/water-datasets/ceden.waterboards.ca.gov-beachwatch-sandiego/_packages/ceden.waterboards.ca.gov-beachwatch-sandiego-1/data/beachwatch-sd.csv\">file:///Users/eric/proj/virt-proj/water/water-datasets/ceden.waterboards.ca.gov-beachwatch-sandiego/_packages/ceden.waterboards.ca.gov-beachwatch-sandiego-1/data/beachwatch-sd.csv</a> Beachwatch program for San Diego county</p></li>\n",
       "</ol></p>\n",
       "</ol>"
      ],
      "text/plain": [
       "<metapack.doc.MetapackDoc at 0x106313438>"
      ]
     },
     "execution_count": 2,
     "metadata": {},
     "output_type": "execute_result"
    }
   ],
   "source": [
    "pkg = mp.jupyter.open_package()\n",
    "pkg"
   ]
  },
  {
   "cell_type": "code",
   "execution_count": 3,
   "metadata": {},
   "outputs": [],
   "source": [
    "df = pkg.resource('beachwatch-sd').read_csv()"
   ]
  },
  {
   "cell_type": "code",
   "execution_count": 10,
   "metadata": {},
   "outputs": [
    {
     "data": {
      "text/plain": [
       "SDR FC2 G01              65\n",
       "SDR FC1 G01              56\n",
       "FM-010 G01               50\n",
       "SDR CDE G01              45\n",
       "OC-100 G01                7\n",
       "EH-330-RW-G-01-160531     2\n",
       "EH-310-RW-G-01-160516     2\n",
       "EH-290-RW-G-01-160517     2\n",
       "EH-380-RW-G-01-160502     2\n",
       "EH-305-RW-G-01-160502     2\n",
       "EH-305-RW-G-01-160620     2\n",
       "D70-FM-010-G01            2\n",
       "EH-320-RW-G-01-160606     2\n",
       "D98-FM-010-G01            2\n",
       "EH-250-RW-G-01-160919     2\n",
       "FM-050-RW-G-01-160607     2\n",
       "EH-250-RW-G-01-160524     2\n",
       "EH-280-RW-G-01-160503     2\n",
       "EH-310-RW-G-01-160419     2\n",
       "EH-250-RW-G-01-160517     2\n",
       "EH-380-RW-G-01-160606     2\n",
       "FM-100-RW-G-01-160613     2\n",
       "EH-310-RW-G-01-160620     2\n",
       "EH-310-RW-G-01-160420     2\n",
       "D81-FM-010-G01            2\n",
       "D79-FM-010-G01            2\n",
       "EH-305-RW-G-01-160613     2\n",
       "FM-030-RW-GO1-160511      2\n",
       "EH-380-RW-G-01-160531     2\n",
       "EH-330-RW-G-01-160620     1\n",
       "                         ..\n",
       "EH-380-RW-G-01-160613     1\n",
       "EH-300-RW-G-01-160615     1\n",
       "EH-380-RW-G-01-160419     1\n",
       "FM-080-RW-G-01-160606     1\n",
       "D96-FM-010-G01            1\n",
       "FM-050-RW-G-01-160614     1\n",
       "EH-320-RW-G-01-160420     1\n",
       "D67-FM-010-G01            1\n",
       "EH-300-RW-G-01-160919     1\n",
       "EH-280-RW-G-01-160621     1\n",
       "EH-300-RW-G-01-160420     1\n",
       "EH-290-RW-G-01-160614     1\n",
       "EH-305-RW-G-01-160419     1\n",
       "FM-030-RW-GO1-160607      1\n",
       "FM-030-RW-G01-160919      1\n",
       "D74-FM-010-G01            1\n",
       "EH-290-RW-G-01-160607     1\n",
       "FM-030-RW-GO1-160518      1\n",
       "D64-FM-010-G01            1\n",
       "EH-280-RW-G-01-160629     1\n",
       "EH-340-RW-G-01-160516     1\n",
       "FM-050-RW-G-01-160427     1\n",
       "EH-300-RW-G-01-160511     1\n",
       "EH-330-RW-G-01-160609     1\n",
       "FM-100-RW-G-01-160928     1\n",
       "D89-FM-010-G01            1\n",
       "D87-FM-010-G01            1\n",
       "D77-FM-010-G01            1\n",
       "EH-280-RW-G-01-160912     1\n",
       "EH-250-RW-G-01-160621     1\n",
       "Name: col82, Length: 132, dtype: int64"
      ]
     },
     "execution_count": 10,
     "metadata": {},
     "output_type": "execute_result"
    }
   ],
   "source": [
    "df.col82.value_counts()"
   ]
  },
  {
   "cell_type": "code",
   "execution_count": 8,
   "metadata": {},
   "outputs": [
    {
     "data": {
      "text/plain": [
       "Index(['program', 'parentproject', 'project', 'stationname', 'stationcode',\n",
       "       'sampledate', 'collectiontime', 'locationcode', 'collectiondepth',\n",
       "       'unitcollectiondepth', 'sampletypecode', 'collectionreplicate',\n",
       "       'resultsreplicate', 'labbatch', 'labsampleid', 'matrixname',\n",
       "       'methodname', 'analyte', 'unit', 'result', 'observation', 'mdl', 'rl',\n",
       "       'resultqualcode', 'qacode', 'batchverification', 'compliancecode',\n",
       "       'samplecomments', 'collectioncomments', 'resultscomments',\n",
       "       'batchcomments', 'eventcode', 'protocolcode', 'sampleagency',\n",
       "       'groupsamples', 'collectionmethodname', 'targetlatitude',\n",
       "       'targetlongitude', 'collectiondevicedescription', 'calibrationdate',\n",
       "       'positionwatercolumn', 'preppreservationname', 'preppreservationdate',\n",
       "       'digestextractmethod', 'digestextractdate', 'analysisdate',\n",
       "       'dilutionfactor', 'expectedvalue', 'labagency', 'submittingagency',\n",
       "       'submissioncode', 'occupationmethod', 'startingbank',\n",
       "       'distancefrombank', 'unitdistancefrombank', 'streamwidth',\n",
       "       'unitstreamwidth', 'stationwaterdepth', 'unitstationwaterdepth',\n",
       "       'hydromod', 'hydromodloc', 'locationdetailwqcomments', 'channelwidth',\n",
       "       'upstreamlength', 'downstreamlength', 'totalreach',\n",
       "       'locationdetailbacomments', 'county', 'county_fips', 'regional_board',\n",
       "       'rb_number', 'huc8', 'huc8_number', 'huc10', 'huc10_number', 'huc12',\n",
       "       'huc12_number', 'waterbody_type', 'sampleid', 'col79', 'col80', 'col81',\n",
       "       'col82', 'col83', 'col84'],\n",
       "      dtype='object')"
      ]
     },
     "execution_count": 8,
     "metadata": {},
     "output_type": "execute_result"
    }
   ],
   "source": [
    "df.columns"
   ]
  },
  {
   "cell_type": "code",
   "execution_count": null,
   "metadata": {},
   "outputs": [],
   "source": []
  }
 ],
 "metadata": {
  "kernelspec": {
   "display_name": "Python 3",
   "language": "python",
   "name": "python3"
  },
  "language_info": {
   "codemirror_mode": {
    "name": "ipython",
    "version": 3
   },
   "file_extension": ".py",
   "mimetype": "text/x-python",
   "name": "python",
   "nbconvert_exporter": "python",
   "pygments_lexer": "ipython3",
   "version": "3.6.0"
  }
 },
 "nbformat": 4,
 "nbformat_minor": 2
}
