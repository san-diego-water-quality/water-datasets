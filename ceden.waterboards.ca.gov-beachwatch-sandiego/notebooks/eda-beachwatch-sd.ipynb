{
 "cells": [
  {
   "cell_type": "markdown",
   "metadata": {},
   "source": [
    "# Exploratory Data Analysis\n",
    "\n",
    "When placed in Metapack data package, this notebook will load the package and run a variety of common EDA operations on the first resource. \n"
   ]
  },
  {
   "cell_type": "code",
   "execution_count": 17,
   "metadata": {},
   "outputs": [],
   "source": [
    "import matplotlib.pyplot as plt \n",
    "import seaborn as sns\n",
    "import metapack as mp\n",
    "import pandas as pd\n",
    "import numpy as np\n",
    "from IPython.display import display \n",
    "\n",
    "%matplotlib inline\n",
    "sns.set_context('notebook')\n"
   ]
  },
  {
   "cell_type": "code",
   "execution_count": 18,
   "metadata": {},
   "outputs": [
    {
     "data": {
      "text/html": [
       "<h2>San Diego Beachwatch Data</h2>\n",
       "<p><p><em>Water quality data for San Diego county beaches.</em></p>\n",
       "<p><small>ceden.waterboards.ca.gov-beachwatch-sandiego-2 from metapack+file:///Users/eric/proj/virt-proj/water/water-datasets/ceden.waterboards.ca.gov-beachwatch-sandiego/_packages/ceden.waterboards.ca.gov-beachwatch-sandiego-2/metadata.csv</small></p></p>\n",
       "<p>The Beachwatch data set has four bacteria measurements from 172 stations on the\n",
       "coast of San Diego county, from July 1998 to Decenber 2013. The four\n",
       "measurements are:</p>\n",
       "<ul>\n",
       "<li>Coliform, Total      66992</li>\n",
       "<li>Coliform, Fecal      65827</li>\n",
       "<li>Enterococcus         65010</li>\n",
       "<li>E. coli               4428</li>\n",
       "</ul>\n",
       "<h3>Documentation</h3>\n",
       "<ul>\n",
       "<li><strong><a href=\"https://www.waterboards.ca.gov/water_issues/programs/beaches/beach_water_quality/beaches_program.html\">overview</a></strong> Project Overview Page</li>\n",
       "<li><strong><a href=\"https://ceden.waterboards.ca.gov/AdvancedQueryTool\">source_page</a></strong> CEDEN advanced query tool page</li>\n",
       "</ul>\n",
       "<h3>Contacts</h3>\n",
       "<p><strong>Wrangler:</strong> <a href=\"mailto:eric@civicknowledge.com\">Eric Busboom</a> <a href=\"http://civicknowledge.com\">Civic Knowledge</a></p>\n",
       "<h3>Resources</h3>\n",
       "<p><ol>\n",
       "<li><p><strong>beachwatch-sd</strong> - <a target=\"_blank\" href=\"file:///Users/eric/proj/virt-proj/water/water-datasets/ceden.waterboards.ca.gov-beachwatch-sandiego/_packages/ceden.waterboards.ca.gov-beachwatch-sandiego-2/data/beachwatch-sd.csv\">file:///Users/eric/proj/virt-proj/water/water-datasets/ceden.waterboards.ca.gov-beachwatch-sandiego/_packages/ceden.waterboards.ca.gov-beachwatch-sandiego-2/data/beachwatch-sd.csv</a> Beachwatch program for San Diego county</p></li></p>\n",
       "</ol>\n",
       "\n",
       "</ol>"
      ],
      "text/plain": [
       "<metapack.doc.MetapackDoc at 0x108dcd748>"
      ]
     },
     "execution_count": 18,
     "metadata": {},
     "output_type": "execute_result"
    }
   ],
   "source": [
    "pkg = mp.jupyter.open_package()\n",
    "\n",
    "# For testing and development\n",
    "#pkg = mp.open_package('http://s3.amazonaws.com/library.metatab.org/cde.ca.gov-accountability_dashboard-2.zip')\n",
    "\n",
    "pkg"
   ]
  },
  {
   "cell_type": "code",
   "execution_count": 19,
   "metadata": {
    "tags": [
     "resource_name"
    ]
   },
   "outputs": [],
   "source": [
    "resource_name='beachwatch-sd'"
   ]
  },
  {
   "cell_type": "code",
   "execution_count": 20,
   "metadata": {},
   "outputs": [
    {
     "data": {
      "text/html": [
       "<h3><a name=\"resource-beachwatch-sd\"></a>beachwatch-sd</h3><p><a target=\"_blank\" href=\"file:///Users/eric/proj/virt-proj/water/water-datasets/ceden.waterboards.ca.gov-beachwatch-sandiego/_packages/ceden.waterboards.ca.gov-beachwatch-sandiego-2/data/beachwatch-sd.csv\">file:///Users/eric/proj/virt-proj/water/water-datasets/ceden.waterboards.ca.gov-beachwatch-sandiego/_packages/ceden.waterboards.ca.gov-beachwatch-sandiego-2/data/beachwatch-sd.csv</a></p><table>\n",
       "<tr><th>Header</th><th>Type</th><th>Description</th></tr><tr><td>program</td><td>string</td><td></td></tr> \n",
       "<tr><td>parentproject</td><td>string</td><td></td></tr> \n",
       "<tr><td>project</td><td>string</td><td></td></tr> \n",
       "<tr><td>stationname</td><td>string</td><td></td></tr> \n",
       "<tr><td>stationcode</td><td>string</td><td></td></tr> \n",
       "<tr><td>sampledate</td><td>date</td><td></td></tr> \n",
       "<tr><td>collectiontime</td><td>time</td><td></td></tr> \n",
       "<tr><td>locationcode</td><td>string</td><td></td></tr> \n",
       "<tr><td>collectiondepth</td><td>integer</td><td></td></tr> \n",
       "<tr><td>unitcollectiondepth</td><td>string</td><td></td></tr> \n",
       "<tr><td>sampletypecode</td><td>string</td><td></td></tr> \n",
       "<tr><td>collectionreplicate</td><td>integer</td><td></td></tr> \n",
       "<tr><td>resultsreplicate</td><td>integer</td><td></td></tr> \n",
       "<tr><td>labbatch</td><td>string</td><td></td></tr> \n",
       "<tr><td>labsampleid</td><td>string</td><td></td></tr> \n",
       "<tr><td>matrixname</td><td>string</td><td></td></tr> \n",
       "<tr><td>methodname</td><td>string</td><td></td></tr> \n",
       "<tr><td>analyte</td><td>string</td><td></td></tr> \n",
       "<tr><td>unit</td><td>string</td><td></td></tr> \n",
       "<tr><td>result</td><td>integer</td><td></td></tr> \n",
       "<tr><td>observation</td><td>string</td><td></td></tr> \n",
       "<tr><td>mdl</td><td>integer</td><td></td></tr> \n",
       "<tr><td>rl</td><td>integer</td><td></td></tr> \n",
       "<tr><td>resultqualcode</td><td>string</td><td></td></tr> \n",
       "<tr><td>qacode</td><td>string</td><td></td></tr> \n",
       "<tr><td>batchverification</td><td>string</td><td></td></tr> \n",
       "<tr><td>compliancecode</td><td>string</td><td></td></tr> \n",
       "<tr><td>samplecomments</td><td>string</td><td></td></tr> \n",
       "<tr><td>collectioncomments</td><td>string</td><td></td></tr> \n",
       "<tr><td>resultscomments</td><td>string</td><td></td></tr> \n",
       "<tr><td>batchcomments</td><td>string</td><td></td></tr> \n",
       "<tr><td>eventcode</td><td>string</td><td></td></tr> \n",
       "<tr><td>protocolcode</td><td>string</td><td></td></tr> \n",
       "<tr><td>sampleagency</td><td>string</td><td></td></tr> \n",
       "<tr><td>groupsamples</td><td>string</td><td></td></tr> \n",
       "<tr><td>collectionmethodname</td><td>string</td><td></td></tr> \n",
       "<tr><td>targetlatitude</td><td>number</td><td></td></tr> \n",
       "<tr><td>targetlongitude</td><td>number</td><td></td></tr> \n",
       "<tr><td>collectiondevicedescription</td><td>string</td><td></td></tr> \n",
       "<tr><td>calibrationdate</td><td>string</td><td></td></tr> \n",
       "<tr><td>positionwatercolumn</td><td>string</td><td></td></tr> \n",
       "<tr><td>preppreservationname</td><td>string</td><td></td></tr> \n",
       "<tr><td>preppreservationdate</td><td>string</td><td></td></tr> \n",
       "<tr><td>digestextractmethod</td><td>string</td><td></td></tr> \n",
       "<tr><td>digestextractdate</td><td>string</td><td></td></tr> \n",
       "<tr><td>analysisdate</td><td>string</td><td></td></tr> \n",
       "<tr><td>dilutionfactor</td><td>integer</td><td></td></tr> \n",
       "<tr><td>expectedvalue</td><td>integer</td><td></td></tr> \n",
       "<tr><td>labagency</td><td>string</td><td></td></tr> \n",
       "<tr><td>submittingagency</td><td>string</td><td></td></tr> \n",
       "<tr><td>submissioncode</td><td>string</td><td></td></tr> \n",
       "<tr><td>occupationmethod</td><td>string</td><td></td></tr> \n",
       "<tr><td>startingbank</td><td>string</td><td></td></tr> \n",
       "<tr><td>distancefrombank</td><td>string</td><td></td></tr> \n",
       "<tr><td>unitdistancefrombank</td><td>string</td><td></td></tr> \n",
       "<tr><td>streamwidth</td><td>string</td><td></td></tr> \n",
       "<tr><td>unitstreamwidth</td><td>string</td><td></td></tr> \n",
       "<tr><td>stationwaterdepth</td><td>string</td><td></td></tr> \n",
       "<tr><td>unitstationwaterdepth</td><td>string</td><td></td></tr> \n",
       "<tr><td>hydromod</td><td>string</td><td></td></tr> \n",
       "<tr><td>hydromodloc</td><td>string</td><td></td></tr> \n",
       "<tr><td>locationdetailwqcomments</td><td>string</td><td></td></tr> \n",
       "<tr><td>channelwidth</td><td>string</td><td></td></tr> \n",
       "<tr><td>upstreamlength</td><td>string</td><td></td></tr> \n",
       "<tr><td>downstreamlength</td><td>string</td><td></td></tr> \n",
       "<tr><td>totalreach</td><td>string</td><td></td></tr> \n",
       "<tr><td>locationdetailbacomments</td><td>string</td><td></td></tr> \n",
       "<tr><td>county</td><td>string</td><td></td></tr> \n",
       "<tr><td>county_fips</td><td>integer</td><td></td></tr> \n",
       "<tr><td>regional_board</td><td>string</td><td></td></tr> \n",
       "<tr><td>rb_number</td><td>integer</td><td></td></tr> \n",
       "<tr><td>huc8</td><td>string</td><td></td></tr> \n",
       "<tr><td>huc8_number</td><td>string</td><td></td></tr> \n",
       "<tr><td>huc10</td><td>string</td><td></td></tr> \n",
       "<tr><td>huc10_number</td><td>string</td><td></td></tr> \n",
       "<tr><td>huc12</td><td>string</td><td></td></tr> \n",
       "<tr><td>huc12_number</td><td>string</td><td></td></tr> \n",
       "<tr><td>waterbody_type</td><td>string</td><td></td></tr> \n",
       "<tr><td>sampleid</td><td>string</td><td></td></tr> </table>"
      ],
      "text/plain": [
       "<Resource: metadata.csv 32:1 root.datafile data/beachwatch-sd.csv ['beachwatch-sd', 'Beachwatch program for San Diego county', '']>"
      ]
     },
     "execution_count": 20,
     "metadata": {},
     "output_type": "execute_result"
    }
   ],
   "source": [
    "pkg.resource(resource_name)"
   ]
  },
  {
   "cell_type": "code",
   "execution_count": 21,
   "metadata": {},
   "outputs": [],
   "source": [
    "df = pkg.resource(resource_name).read_csv(parse_dates=True)"
   ]
  },
  {
   "cell_type": "code",
   "execution_count": 22,
   "metadata": {},
   "outputs": [
    {
     "data": {
      "text/html": [
       "<div>\n",
       "<style scoped>\n",
       "    .dataframe tbody tr th:only-of-type {\n",
       "        vertical-align: middle;\n",
       "    }\n",
       "\n",
       "    .dataframe tbody tr th {\n",
       "        vertical-align: top;\n",
       "    }\n",
       "\n",
       "    .dataframe thead th {\n",
       "        text-align: right;\n",
       "    }\n",
       "</style>\n",
       "<table border=\"1\" class=\"dataframe\">\n",
       "  <thead>\n",
       "    <tr style=\"text-align: right;\">\n",
       "      <th></th>\n",
       "      <th>program</th>\n",
       "      <th>parentproject</th>\n",
       "      <th>project</th>\n",
       "      <th>stationname</th>\n",
       "      <th>stationcode</th>\n",
       "      <th>sampledate</th>\n",
       "      <th>collectiontime</th>\n",
       "      <th>locationcode</th>\n",
       "      <th>collectiondepth</th>\n",
       "      <th>unitcollectiondepth</th>\n",
       "      <th>...</th>\n",
       "      <th>regional_board</th>\n",
       "      <th>rb_number</th>\n",
       "      <th>huc8</th>\n",
       "      <th>huc8_number</th>\n",
       "      <th>huc10</th>\n",
       "      <th>huc10_number</th>\n",
       "      <th>huc12</th>\n",
       "      <th>huc12_number</th>\n",
       "      <th>waterbody_type</th>\n",
       "      <th>sampleid</th>\n",
       "    </tr>\n",
       "  </thead>\n",
       "  <tbody>\n",
       "    <tr>\n",
       "      <th>0</th>\n",
       "      <td>BeachWatch</td>\n",
       "      <td>BeachWatch_San Diego County</td>\n",
       "      <td>BeachWatch_San Diego County</td>\n",
       "      <td>EH-010-Imperial Beach municipal beach, other, ...</td>\n",
       "      <td>EH-010</td>\n",
       "      <td>1999-04-02</td>\n",
       "      <td>2018-07-27</td>\n",
       "      <td>SurfZone</td>\n",
       "      <td>-88</td>\n",
       "      <td>NR</td>\n",
       "      <td>...</td>\n",
       "      <td>San Diego</td>\n",
       "      <td>9</td>\n",
       "      <td>NaN</td>\n",
       "      <td>NaN</td>\n",
       "      <td>NaN</td>\n",
       "      <td>NaN</td>\n",
       "      <td>NaN</td>\n",
       "      <td>NaN</td>\n",
       "      <td>NaN</td>\n",
       "      <td>Not Recorded</td>\n",
       "    </tr>\n",
       "    <tr>\n",
       "      <th>1</th>\n",
       "      <td>BeachWatch</td>\n",
       "      <td>BeachWatch_San Diego County</td>\n",
       "      <td>BeachWatch_San Diego County</td>\n",
       "      <td>EH-010-Imperial Beach municipal beach, other, ...</td>\n",
       "      <td>EH-010</td>\n",
       "      <td>1999-04-29</td>\n",
       "      <td>2018-07-27</td>\n",
       "      <td>SurfZone</td>\n",
       "      <td>-88</td>\n",
       "      <td>NR</td>\n",
       "      <td>...</td>\n",
       "      <td>San Diego</td>\n",
       "      <td>9</td>\n",
       "      <td>NaN</td>\n",
       "      <td>NaN</td>\n",
       "      <td>NaN</td>\n",
       "      <td>NaN</td>\n",
       "      <td>NaN</td>\n",
       "      <td>NaN</td>\n",
       "      <td>NaN</td>\n",
       "      <td>Not Recorded</td>\n",
       "    </tr>\n",
       "    <tr>\n",
       "      <th>2</th>\n",
       "      <td>BeachWatch</td>\n",
       "      <td>BeachWatch_San Diego County</td>\n",
       "      <td>BeachWatch_San Diego County</td>\n",
       "      <td>EH-010-Imperial Beach municipal beach, other, ...</td>\n",
       "      <td>EH-010</td>\n",
       "      <td>1999-04-30</td>\n",
       "      <td>2018-07-27</td>\n",
       "      <td>SurfZone</td>\n",
       "      <td>-88</td>\n",
       "      <td>NR</td>\n",
       "      <td>...</td>\n",
       "      <td>San Diego</td>\n",
       "      <td>9</td>\n",
       "      <td>NaN</td>\n",
       "      <td>NaN</td>\n",
       "      <td>NaN</td>\n",
       "      <td>NaN</td>\n",
       "      <td>NaN</td>\n",
       "      <td>NaN</td>\n",
       "      <td>NaN</td>\n",
       "      <td>Not Recorded</td>\n",
       "    </tr>\n",
       "    <tr>\n",
       "      <th>3</th>\n",
       "      <td>BeachWatch</td>\n",
       "      <td>BeachWatch_San Diego County</td>\n",
       "      <td>BeachWatch_San Diego County</td>\n",
       "      <td>EH-010-Imperial Beach municipal beach, other, ...</td>\n",
       "      <td>EH-010</td>\n",
       "      <td>1999-05-26</td>\n",
       "      <td>2018-07-27</td>\n",
       "      <td>SurfZone</td>\n",
       "      <td>-88</td>\n",
       "      <td>NR</td>\n",
       "      <td>...</td>\n",
       "      <td>San Diego</td>\n",
       "      <td>9</td>\n",
       "      <td>NaN</td>\n",
       "      <td>NaN</td>\n",
       "      <td>NaN</td>\n",
       "      <td>NaN</td>\n",
       "      <td>NaN</td>\n",
       "      <td>NaN</td>\n",
       "      <td>NaN</td>\n",
       "      <td>Not Recorded</td>\n",
       "    </tr>\n",
       "    <tr>\n",
       "      <th>4</th>\n",
       "      <td>BeachWatch</td>\n",
       "      <td>BeachWatch_San Diego County</td>\n",
       "      <td>BeachWatch_San Diego County</td>\n",
       "      <td>EH-010-Imperial Beach municipal beach, other, ...</td>\n",
       "      <td>EH-010</td>\n",
       "      <td>1999-05-26</td>\n",
       "      <td>2018-07-27</td>\n",
       "      <td>SurfZone</td>\n",
       "      <td>-88</td>\n",
       "      <td>NR</td>\n",
       "      <td>...</td>\n",
       "      <td>San Diego</td>\n",
       "      <td>9</td>\n",
       "      <td>NaN</td>\n",
       "      <td>NaN</td>\n",
       "      <td>NaN</td>\n",
       "      <td>NaN</td>\n",
       "      <td>NaN</td>\n",
       "      <td>NaN</td>\n",
       "      <td>NaN</td>\n",
       "      <td>Not Recorded</td>\n",
       "    </tr>\n",
       "  </tbody>\n",
       "</table>\n",
       "<p>5 rows × 79 columns</p>\n",
       "</div>"
      ],
      "text/plain": [
       "      program                parentproject                      project  \\\n",
       "0  BeachWatch  BeachWatch_San Diego County  BeachWatch_San Diego County   \n",
       "1  BeachWatch  BeachWatch_San Diego County  BeachWatch_San Diego County   \n",
       "2  BeachWatch  BeachWatch_San Diego County  BeachWatch_San Diego County   \n",
       "3  BeachWatch  BeachWatch_San Diego County  BeachWatch_San Diego County   \n",
       "4  BeachWatch  BeachWatch_San Diego County  BeachWatch_San Diego County   \n",
       "\n",
       "                                         stationname stationcode sampledate  \\\n",
       "0  EH-010-Imperial Beach municipal beach, other, ...      EH-010 1999-04-02   \n",
       "1  EH-010-Imperial Beach municipal beach, other, ...      EH-010 1999-04-29   \n",
       "2  EH-010-Imperial Beach municipal beach, other, ...      EH-010 1999-04-30   \n",
       "3  EH-010-Imperial Beach municipal beach, other, ...      EH-010 1999-05-26   \n",
       "4  EH-010-Imperial Beach municipal beach, other, ...      EH-010 1999-05-26   \n",
       "\n",
       "  collectiontime locationcode  collectiondepth unitcollectiondepth  \\\n",
       "0     2018-07-27     SurfZone              -88                  NR   \n",
       "1     2018-07-27     SurfZone              -88                  NR   \n",
       "2     2018-07-27     SurfZone              -88                  NR   \n",
       "3     2018-07-27     SurfZone              -88                  NR   \n",
       "4     2018-07-27     SurfZone              -88                  NR   \n",
       "\n",
       "       ...      regional_board  rb_number  huc8 huc8_number huc10  \\\n",
       "0      ...           San Diego          9   NaN         NaN   NaN   \n",
       "1      ...           San Diego          9   NaN         NaN   NaN   \n",
       "2      ...           San Diego          9   NaN         NaN   NaN   \n",
       "3      ...           San Diego          9   NaN         NaN   NaN   \n",
       "4      ...           San Diego          9   NaN         NaN   NaN   \n",
       "\n",
       "  huc10_number huc12 huc12_number waterbody_type      sampleid  \n",
       "0          NaN   NaN          NaN            NaN  Not Recorded  \n",
       "1          NaN   NaN          NaN            NaN  Not Recorded  \n",
       "2          NaN   NaN          NaN            NaN  Not Recorded  \n",
       "3          NaN   NaN          NaN            NaN  Not Recorded  \n",
       "4          NaN   NaN          NaN            NaN  Not Recorded  \n",
       "\n",
       "[5 rows x 79 columns]"
      ]
     },
     "execution_count": 22,
     "metadata": {},
     "output_type": "execute_result"
    }
   ],
   "source": [
    "df.head()"
   ]
  },
  {
   "cell_type": "code",
   "execution_count": 23,
   "metadata": {},
   "outputs": [],
   "source": [
    "empty_col_names = [cn for cn in df.columns if df[cn].nunique() == 0]\n",
    "const_col_names= [cn for cn in df.columns if df[cn].nunique() == 1]\n",
    "ignore_cols = empty_col_names+const_col_names\n",
    "dt_col_names= list(df.select_dtypes(include=[np.datetime64]).columns)\n",
    "\n",
    "number_col_names = [ cn for cn in df.select_dtypes(include=[np.number]).columns if cn not in ignore_cols ]\n",
    "other_col_names = [cn for cn in df.columns if cn not in (empty_col_names+const_col_names+dt_col_names+number_col_names)]"
   ]
  },
  {
   "cell_type": "code",
   "execution_count": 24,
   "metadata": {},
   "outputs": [
    {
     "data": {
      "text/html": [
       "<div>\n",
       "<style scoped>\n",
       "    .dataframe tbody tr th:only-of-type {\n",
       "        vertical-align: middle;\n",
       "    }\n",
       "\n",
       "    .dataframe tbody tr th {\n",
       "        vertical-align: top;\n",
       "    }\n",
       "\n",
       "    .dataframe thead th {\n",
       "        text-align: right;\n",
       "    }\n",
       "</style>\n",
       "<table border=\"1\" class=\"dataframe\">\n",
       "  <thead>\n",
       "    <tr style=\"text-align: right;\">\n",
       "      <th></th>\n",
       "      <th>count</th>\n",
       "    </tr>\n",
       "  </thead>\n",
       "  <tbody>\n",
       "    <tr>\n",
       "      <th>empty</th>\n",
       "      <td>29</td>\n",
       "    </tr>\n",
       "    <tr>\n",
       "      <th>const</th>\n",
       "      <td>34</td>\n",
       "    </tr>\n",
       "    <tr>\n",
       "      <th>datetime</th>\n",
       "      <td>2</td>\n",
       "    </tr>\n",
       "    <tr>\n",
       "      <th>number</th>\n",
       "      <td>3</td>\n",
       "    </tr>\n",
       "    <tr>\n",
       "      <th>other</th>\n",
       "      <td>11</td>\n",
       "    </tr>\n",
       "  </tbody>\n",
       "</table>\n",
       "</div>"
      ],
      "text/plain": [
       "          count\n",
       "empty        29\n",
       "const        34\n",
       "datetime      2\n",
       "number        3\n",
       "other        11"
      ]
     },
     "execution_count": 24,
     "metadata": {},
     "output_type": "execute_result"
    }
   ],
   "source": [
    "pd.DataFrame.from_dict({'empty':[len(empty_col_names)], \n",
    "                        'const':[len(const_col_names)],\n",
    "                        'datetime':[len(dt_col_names)],\n",
    "                        'number':[len(number_col_names)],\n",
    "                        'other':[len(other_col_names)],\n",
    "                       }, \n",
    "                       orient='index', columns=['count'])"
   ]
  },
  {
   "cell_type": "markdown",
   "metadata": {},
   "source": [
    "# Constant Columns"
   ]
  },
  {
   "cell_type": "code",
   "execution_count": 25,
   "metadata": {},
   "outputs": [],
   "source": [
    "if const_col_names:\n",
    "    df[const_col_names].drop_duplicates().T"
   ]
  },
  {
   "cell_type": "markdown",
   "metadata": {},
   "source": [
    "# Empty Columns"
   ]
  },
  {
   "cell_type": "code",
   "execution_count": 26,
   "metadata": {},
   "outputs": [],
   "source": [
    "if empty_col_names:\n",
    "    df[empty_col_names].drop_duplicates().T"
   ]
  },
  {
   "cell_type": "markdown",
   "metadata": {},
   "source": [
    "# Date and Time Columns"
   ]
  },
  {
   "cell_type": "code",
   "execution_count": 27,
   "metadata": {},
   "outputs": [
    {
     "name": "stdout",
     "output_type": "stream",
     "text": [
      "<class 'pandas.core.frame.DataFrame'>\n",
      "RangeIndex: 202257 entries, 0 to 202256\n",
      "Data columns (total 2 columns):\n",
      "sampledate        202257 non-null datetime64[ns]\n",
      "collectiontime    202257 non-null datetime64[ns]\n",
      "dtypes: datetime64[ns](2)\n",
      "memory usage: 3.1 MB\n"
     ]
    },
    {
     "data": {
      "text/plain": [
       "None"
      ]
     },
     "metadata": {},
     "output_type": "display_data"
    },
    {
     "data": {
      "text/html": [
       "<div>\n",
       "<style scoped>\n",
       "    .dataframe tbody tr th:only-of-type {\n",
       "        vertical-align: middle;\n",
       "    }\n",
       "\n",
       "    .dataframe tbody tr th {\n",
       "        vertical-align: top;\n",
       "    }\n",
       "\n",
       "    .dataframe thead th {\n",
       "        text-align: right;\n",
       "    }\n",
       "</style>\n",
       "<table border=\"1\" class=\"dataframe\">\n",
       "  <thead>\n",
       "    <tr style=\"text-align: right;\">\n",
       "      <th></th>\n",
       "      <th>count</th>\n",
       "      <th>unique</th>\n",
       "      <th>top</th>\n",
       "      <th>freq</th>\n",
       "      <th>first</th>\n",
       "      <th>last</th>\n",
       "    </tr>\n",
       "  </thead>\n",
       "  <tbody>\n",
       "    <tr>\n",
       "      <th>sampledate</th>\n",
       "      <td>202257</td>\n",
       "      <td>3836</td>\n",
       "      <td>2005-09-06 00:00:00</td>\n",
       "      <td>260</td>\n",
       "      <td>1998-07-21 00:00:00</td>\n",
       "      <td>2013-12-31 00:00:00</td>\n",
       "    </tr>\n",
       "    <tr>\n",
       "      <th>collectiontime</th>\n",
       "      <td>202257</td>\n",
       "      <td>681</td>\n",
       "      <td>2018-07-27 00:00:00</td>\n",
       "      <td>57144</td>\n",
       "      <td>2018-07-27 00:00:00</td>\n",
       "      <td>2018-07-27 23:52:00</td>\n",
       "    </tr>\n",
       "  </tbody>\n",
       "</table>\n",
       "</div>"
      ],
      "text/plain": [
       "                 count unique                  top   freq  \\\n",
       "sampledate      202257   3836  2005-09-06 00:00:00    260   \n",
       "collectiontime  202257    681  2018-07-27 00:00:00  57144   \n",
       "\n",
       "                              first                 last  \n",
       "sampledate      1998-07-21 00:00:00  2013-12-31 00:00:00  \n",
       "collectiontime  2018-07-27 00:00:00  2018-07-27 23:52:00  "
      ]
     },
     "metadata": {},
     "output_type": "display_data"
    }
   ],
   "source": [
    "if dt_col_names:\n",
    "    display(df[dt_col_names].info())\n",
    "    display(df[dt_col_names].describe().T)"
   ]
  },
  {
   "cell_type": "markdown",
   "metadata": {},
   "source": [
    "# Number Columns"
   ]
  },
  {
   "cell_type": "code",
   "execution_count": 28,
   "metadata": {},
   "outputs": [
    {
     "name": "stdout",
     "output_type": "stream",
     "text": [
      "<class 'pandas.core.frame.DataFrame'>\n",
      "RangeIndex: 202257 entries, 0 to 202256\n",
      "Data columns (total 3 columns):\n",
      "result             198271 non-null float64\n",
      "targetlatitude     202257 non-null float64\n",
      "targetlongitude    202257 non-null float64\n",
      "dtypes: float64(3)\n",
      "memory usage: 4.6 MB\n"
     ]
    },
    {
     "data": {
      "text/plain": [
       "None"
      ]
     },
     "metadata": {},
     "output_type": "display_data"
    },
    {
     "data": {
      "text/html": [
       "<div>\n",
       "<style scoped>\n",
       "    .dataframe tbody tr th:only-of-type {\n",
       "        vertical-align: middle;\n",
       "    }\n",
       "\n",
       "    .dataframe tbody tr th {\n",
       "        vertical-align: top;\n",
       "    }\n",
       "\n",
       "    .dataframe thead th {\n",
       "        text-align: right;\n",
       "    }\n",
       "</style>\n",
       "<table border=\"1\" class=\"dataframe\">\n",
       "  <thead>\n",
       "    <tr style=\"text-align: right;\">\n",
       "      <th></th>\n",
       "      <th>count</th>\n",
       "      <th>mean</th>\n",
       "      <th>std</th>\n",
       "      <th>min</th>\n",
       "      <th>25%</th>\n",
       "      <th>50%</th>\n",
       "      <th>75%</th>\n",
       "      <th>max</th>\n",
       "    </tr>\n",
       "  </thead>\n",
       "  <tbody>\n",
       "    <tr>\n",
       "      <th>result</th>\n",
       "      <td>198271.0</td>\n",
       "      <td>22699.602226</td>\n",
       "      <td>573147.627822</td>\n",
       "      <td>-10.000000</td>\n",
       "      <td>4.000000</td>\n",
       "      <td>20.000000</td>\n",
       "      <td>30.000000</td>\n",
       "      <td>2.800000e+07</td>\n",
       "    </tr>\n",
       "    <tr>\n",
       "      <th>targetlatitude</th>\n",
       "      <td>202257.0</td>\n",
       "      <td>32.864222</td>\n",
       "      <td>0.206458</td>\n",
       "      <td>32.534401</td>\n",
       "      <td>32.714802</td>\n",
       "      <td>32.794300</td>\n",
       "      <td>33.026001</td>\n",
       "      <td>3.338600e+01</td>\n",
       "    </tr>\n",
       "    <tr>\n",
       "      <th>targetlongitude</th>\n",
       "      <td>202257.0</td>\n",
       "      <td>-117.256097</td>\n",
       "      <td>0.081393</td>\n",
       "      <td>-117.595001</td>\n",
       "      <td>-117.288002</td>\n",
       "      <td>-117.255997</td>\n",
       "      <td>-117.209999</td>\n",
       "      <td>-1.170630e+02</td>\n",
       "    </tr>\n",
       "  </tbody>\n",
       "</table>\n",
       "</div>"
      ],
      "text/plain": [
       "                    count          mean            std         min  \\\n",
       "result           198271.0  22699.602226  573147.627822  -10.000000   \n",
       "targetlatitude   202257.0     32.864222       0.206458   32.534401   \n",
       "targetlongitude  202257.0   -117.256097       0.081393 -117.595001   \n",
       "\n",
       "                        25%         50%         75%           max  \n",
       "result             4.000000   20.000000   30.000000  2.800000e+07  \n",
       "targetlatitude    32.714802   32.794300   33.026001  3.338600e+01  \n",
       "targetlongitude -117.288002 -117.255997 -117.209999 -1.170630e+02  "
      ]
     },
     "metadata": {},
     "output_type": "display_data"
    }
   ],
   "source": [
    "if number_col_names:\n",
    "    display(df[number_col_names].info())\n",
    "    display(df[number_col_names].describe().T)"
   ]
  },
  {
   "cell_type": "code",
   "execution_count": 29,
   "metadata": {
    "scrolled": false
   },
   "outputs": [],
   "source": [
    "def plot_histograms(df):\n",
    "\n",
    "    col_names = list(df.columns)\n",
    "\n",
    "    n_cols = np.ceil(np.sqrt(len(col_names)))\n",
    "    n_rows = np.ceil(np.sqrt(len(col_names)))\n",
    "\n",
    "    #plt.figure(figsize=(3*n_cols,3*n_rows))\n",
    "    fig, ax = plt.subplots(figsize=(3*n_cols,3*n_rows))\n",
    "    \n",
    "    for i in range(0,len(col_names)):\n",
    "        plt.subplot(n_rows + 1,n_cols,i+1)\n",
    "        try:\n",
    "            g = sns.distplot(df[col_names[i]].fillna(0),kde=True) \n",
    "            g.set(xticklabels=[])\n",
    "            g.set(yticklabels=[])\n",
    "        except:\n",
    "            pass\n",
    "        \n"
   ]
  },
  {
   "cell_type": "code",
   "execution_count": 30,
   "metadata": {},
   "outputs": [
    {
     "data": {
      "image/png": "[encoded data removed]",
      "text/plain": [
       "<Figure size 432x432 with 3 Axes>"
      ]
     },
     "metadata": {},
     "output_type": "display_data"
    }
   ],
   "source": [
    "plot_histograms(df[number_col_names])"
   ]
  },
  {
   "cell_type": "markdown",
   "metadata": {},
   "source": [
    "# Other Columns"
   ]
  },
  {
   "cell_type": "code",
   "execution_count": 31,
   "metadata": {},
   "outputs": [
    {
     "name": "stdout",
     "output_type": "stream",
     "text": [
      "<class 'pandas.core.frame.DataFrame'>\n",
      "RangeIndex: 202257 entries, 0 to 202256\n",
      "Data columns (total 11 columns):\n",
      "stationname         202257 non-null object\n",
      "stationcode         202257 non-null object\n",
      "labbatch            202257 non-null object\n",
      "methodname          202257 non-null object\n",
      "analyte             202257 non-null object\n",
      "unit                202257 non-null object\n",
      "resultqualcode      201920 non-null object\n",
      "qacode              202257 non-null object\n",
      "sampleagency        202257 non-null object\n",
      "labagency           202257 non-null object\n",
      "submittingagency    202257 non-null object\n",
      "dtypes: object(11)\n",
      "memory usage: 17.0+ MB\n"
     ]
    },
    {
     "data": {
      "text/plain": [
       "None"
      ]
     },
     "metadata": {},
     "output_type": "display_data"
    },
    {
     "data": {
      "text/html": [
       "<div>\n",
       "<style scoped>\n",
       "    .dataframe tbody tr th:only-of-type {\n",
       "        vertical-align: middle;\n",
       "    }\n",
       "\n",
       "    .dataframe tbody tr th {\n",
       "        vertical-align: top;\n",
       "    }\n",
       "\n",
       "    .dataframe thead th {\n",
       "        text-align: right;\n",
       "    }\n",
       "</style>\n",
       "<table border=\"1\" class=\"dataframe\">\n",
       "  <thead>\n",
       "    <tr style=\"text-align: right;\">\n",
       "      <th></th>\n",
       "      <th>count</th>\n",
       "      <th>unique</th>\n",
       "      <th>top</th>\n",
       "      <th>freq</th>\n",
       "    </tr>\n",
       "  </thead>\n",
       "  <tbody>\n",
       "    <tr>\n",
       "      <th>stationname</th>\n",
       "      <td>202257</td>\n",
       "      <td>172</td>\n",
       "      <td>IB-080-Coronado City beaches, San Diego</td>\n",
       "      <td>5065</td>\n",
       "    </tr>\n",
       "    <tr>\n",
       "      <th>stationcode</th>\n",
       "      <td>202257</td>\n",
       "      <td>172</td>\n",
       "      <td>IB-080</td>\n",
       "      <td>5065</td>\n",
       "    </tr>\n",
       "    <tr>\n",
       "      <th>labbatch</th>\n",
       "      <td>202257</td>\n",
       "      <td>9013</td>\n",
       "      <td>SD-11/2/2004</td>\n",
       "      <td>131</td>\n",
       "    </tr>\n",
       "    <tr>\n",
       "      <th>methodname</th>\n",
       "      <td>202257</td>\n",
       "      <td>8</td>\n",
       "      <td>SM 9222 B</td>\n",
       "      <td>49791</td>\n",
       "    </tr>\n",
       "    <tr>\n",
       "      <th>analyte</th>\n",
       "      <td>202257</td>\n",
       "      <td>4</td>\n",
       "      <td>Coliform, Total</td>\n",
       "      <td>66992</td>\n",
       "    </tr>\n",
       "    <tr>\n",
       "      <th>unit</th>\n",
       "      <td>202257</td>\n",
       "      <td>2</td>\n",
       "      <td>MPN/100 mL</td>\n",
       "      <td>143346</td>\n",
       "    </tr>\n",
       "    <tr>\n",
       "      <th>resultqualcode</th>\n",
       "      <td>201920</td>\n",
       "      <td>6</td>\n",
       "      <td>=</td>\n",
       "      <td>107776</td>\n",
       "    </tr>\n",
       "    <tr>\n",
       "      <th>qacode</th>\n",
       "      <td>202257</td>\n",
       "      <td>2</td>\n",
       "      <td>NR</td>\n",
       "      <td>174811</td>\n",
       "    </tr>\n",
       "    <tr>\n",
       "      <th>sampleagency</th>\n",
       "      <td>202257</td>\n",
       "      <td>11</td>\n",
       "      <td>SDCDEH</td>\n",
       "      <td>84275</td>\n",
       "    </tr>\n",
       "    <tr>\n",
       "      <th>labagency</th>\n",
       "      <td>202257</td>\n",
       "      <td>11</td>\n",
       "      <td>SDCDEH</td>\n",
       "      <td>84275</td>\n",
       "    </tr>\n",
       "    <tr>\n",
       "      <th>submittingagency</th>\n",
       "      <td>202257</td>\n",
       "      <td>11</td>\n",
       "      <td>SDCDEH</td>\n",
       "      <td>84275</td>\n",
       "    </tr>\n",
       "  </tbody>\n",
       "</table>\n",
       "</div>"
      ],
      "text/plain": [
       "                   count unique                                      top  \\\n",
       "stationname       202257    172  IB-080-Coronado City beaches, San Diego   \n",
       "stationcode       202257    172                                   IB-080   \n",
       "labbatch          202257   9013                             SD-11/2/2004   \n",
       "methodname        202257      8                                SM 9222 B   \n",
       "analyte           202257      4                          Coliform, Total   \n",
       "unit              202257      2                               MPN/100 mL   \n",
       "resultqualcode    201920      6                                        =   \n",
       "qacode            202257      2                                       NR   \n",
       "sampleagency      202257     11                                   SDCDEH   \n",
       "labagency         202257     11                                   SDCDEH   \n",
       "submittingagency  202257     11                                   SDCDEH   \n",
       "\n",
       "                    freq  \n",
       "stationname         5065  \n",
       "stationcode         5065  \n",
       "labbatch             131  \n",
       "methodname         49791  \n",
       "analyte            66992  \n",
       "unit              143346  \n",
       "resultqualcode    107776  \n",
       "qacode            174811  \n",
       "sampleagency       84275  \n",
       "labagency          84275  \n",
       "submittingagency   84275  "
      ]
     },
     "metadata": {},
     "output_type": "display_data"
    }
   ],
   "source": [
    "if other_col_names:\n",
    "    display(df[other_col_names].info())\n",
    "    display(df[other_col_names].describe().T)"
   ]
  }
 ],
 "metadata": {
  "celltoolbar": "Tags",
  "kernelspec": {
   "display_name": "Python 3",
   "language": "python",
   "name": "python3"
  },
  "language_info": {
   "codemirror_mode": {
    "name": "ipython",
    "version": 3
   },
   "file_extension": ".py",
   "mimetype": "text/x-python",
   "name": "python",
   "nbconvert_exporter": "python",
   "pygments_lexer": "ipython3",
   "version": "3.6.5"
  }
 },
 "nbformat": 4,
 "nbformat_minor": 2
}
